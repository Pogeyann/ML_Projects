{
 "cells": [
  {
   "cell_type": "code",
   "execution_count": 2,
   "id": "6bc90294",
   "metadata": {},
   "outputs": [
    {
     "data": {
      "text/html": [
       "<div>\n",
       "<style scoped>\n",
       "    .dataframe tbody tr th:only-of-type {\n",
       "        vertical-align: middle;\n",
       "    }\n",
       "\n",
       "    .dataframe tbody tr th {\n",
       "        vertical-align: top;\n",
       "    }\n",
       "\n",
       "    .dataframe thead th {\n",
       "        text-align: right;\n",
       "    }\n",
       "</style>\n",
       "<table border=\"1\" class=\"dataframe\">\n",
       "  <thead>\n",
       "    <tr style=\"text-align: right;\">\n",
       "      <th></th>\n",
       "      <th>Date/Time</th>\n",
       "      <th>Temp_C</th>\n",
       "      <th>Dew Point Temp_C</th>\n",
       "      <th>Rel Hum_%</th>\n",
       "      <th>Wind Speed_km/h</th>\n",
       "      <th>Visibility_km</th>\n",
       "      <th>Press_kPa</th>\n",
       "      <th>Weather</th>\n",
       "    </tr>\n",
       "  </thead>\n",
       "  <tbody>\n",
       "    <tr>\n",
       "      <th>0</th>\n",
       "      <td>1/1/2012 0:00</td>\n",
       "      <td>-1.8</td>\n",
       "      <td>-3.9</td>\n",
       "      <td>86</td>\n",
       "      <td>4</td>\n",
       "      <td>8.0</td>\n",
       "      <td>101.24</td>\n",
       "      <td>Fog</td>\n",
       "    </tr>\n",
       "    <tr>\n",
       "      <th>1</th>\n",
       "      <td>1/1/2012 1:00</td>\n",
       "      <td>-1.8</td>\n",
       "      <td>-3.7</td>\n",
       "      <td>87</td>\n",
       "      <td>4</td>\n",
       "      <td>8.0</td>\n",
       "      <td>101.24</td>\n",
       "      <td>Fog</td>\n",
       "    </tr>\n",
       "    <tr>\n",
       "      <th>2</th>\n",
       "      <td>1/1/2012 2:00</td>\n",
       "      <td>-1.8</td>\n",
       "      <td>-3.4</td>\n",
       "      <td>89</td>\n",
       "      <td>7</td>\n",
       "      <td>4.0</td>\n",
       "      <td>101.26</td>\n",
       "      <td>Freezing Drizzle,Fog</td>\n",
       "    </tr>\n",
       "    <tr>\n",
       "      <th>3</th>\n",
       "      <td>1/1/2012 3:00</td>\n",
       "      <td>-1.5</td>\n",
       "      <td>-3.2</td>\n",
       "      <td>88</td>\n",
       "      <td>6</td>\n",
       "      <td>4.0</td>\n",
       "      <td>101.27</td>\n",
       "      <td>Freezing Drizzle,Fog</td>\n",
       "    </tr>\n",
       "    <tr>\n",
       "      <th>4</th>\n",
       "      <td>1/1/2012 4:00</td>\n",
       "      <td>-1.5</td>\n",
       "      <td>-3.3</td>\n",
       "      <td>88</td>\n",
       "      <td>7</td>\n",
       "      <td>4.8</td>\n",
       "      <td>101.23</td>\n",
       "      <td>Fog</td>\n",
       "    </tr>\n",
       "  </tbody>\n",
       "</table>\n",
       "</div>"
      ],
      "text/plain": [
       "       Date/Time  Temp_C  Dew Point Temp_C  Rel Hum_%  Wind Speed_km/h  \\\n",
       "0  1/1/2012 0:00    -1.8              -3.9         86                4   \n",
       "1  1/1/2012 1:00    -1.8              -3.7         87                4   \n",
       "2  1/1/2012 2:00    -1.8              -3.4         89                7   \n",
       "3  1/1/2012 3:00    -1.5              -3.2         88                6   \n",
       "4  1/1/2012 4:00    -1.5              -3.3         88                7   \n",
       "\n",
       "   Visibility_km  Press_kPa               Weather  \n",
       "0            8.0     101.24                   Fog  \n",
       "1            8.0     101.24                   Fog  \n",
       "2            4.0     101.26  Freezing Drizzle,Fog  \n",
       "3            4.0     101.27  Freezing Drizzle,Fog  \n",
       "4            4.8     101.23                   Fog  "
      ]
     },
     "execution_count": 2,
     "metadata": {},
     "output_type": "execute_result"
    }
   ],
   "source": [
    "import numpy as np\n",
    "import pandas as pd\n",
    "import matplotlib.pyplot as plt\n",
    "%matplotlib inline\n",
    "import seaborn as sns\n",
    "from sklearn.model_selection import train_test_split\n",
    "from sklearn.preprocessing import StandardScaler\n",
    "from sklearn.neighbors import KNeighborsClassifier\n",
    "from sklearn.naive_bayes import GaussianNB\n",
    "from sklearn.svm import SVC\n",
    "from sklearn.metrics import classification_report,confusion_matrix,ConfusionMatrixDisplay,accuracy_score\n",
    "from datetime import datetime\n",
    "import warnings\n",
    "warnings.filterwarnings('ignore')\n",
    "df=pd.read_csv('D:/TUTORIALS/Datas/Weather_Data.csv')\n",
    "pd.set_option('display.max_columns',None)\n",
    "df.head()"
   ]
  },
  {
   "cell_type": "code",
   "execution_count": 3,
   "id": "c4fe9c6c",
   "metadata": {},
   "outputs": [
    {
     "data": {
      "text/plain": [
       "(8784, 8)"
      ]
     },
     "execution_count": 3,
     "metadata": {},
     "output_type": "execute_result"
    }
   ],
   "source": [
    "df.shape"
   ]
  },
  {
   "cell_type": "code",
   "execution_count": 4,
   "id": "b30bfeff",
   "metadata": {},
   "outputs": [
    {
     "data": {
      "text/plain": [
       "70272"
      ]
     },
     "execution_count": 4,
     "metadata": {},
     "output_type": "execute_result"
    }
   ],
   "source": [
    "df.size"
   ]
  },
  {
   "cell_type": "code",
   "execution_count": 6,
   "id": "51a77191",
   "metadata": {},
   "outputs": [
    {
     "data": {
      "text/html": [
       "<div>\n",
       "<style scoped>\n",
       "    .dataframe tbody tr th:only-of-type {\n",
       "        vertical-align: middle;\n",
       "    }\n",
       "\n",
       "    .dataframe tbody tr th {\n",
       "        vertical-align: top;\n",
       "    }\n",
       "\n",
       "    .dataframe thead th {\n",
       "        text-align: right;\n",
       "    }\n",
       "</style>\n",
       "<table border=\"1\" class=\"dataframe\">\n",
       "  <thead>\n",
       "    <tr style=\"text-align: right;\">\n",
       "      <th></th>\n",
       "      <th>Temp_C</th>\n",
       "      <th>Dew Point Temp_C</th>\n",
       "      <th>Rel Hum_%</th>\n",
       "      <th>Wind Speed_km/h</th>\n",
       "      <th>Visibility_km</th>\n",
       "      <th>Press_kPa</th>\n",
       "    </tr>\n",
       "  </thead>\n",
       "  <tbody>\n",
       "    <tr>\n",
       "      <th>count</th>\n",
       "      <td>8784.000000</td>\n",
       "      <td>8784.000000</td>\n",
       "      <td>8784.000000</td>\n",
       "      <td>8784.000000</td>\n",
       "      <td>8784.000000</td>\n",
       "      <td>8784.000000</td>\n",
       "    </tr>\n",
       "    <tr>\n",
       "      <th>mean</th>\n",
       "      <td>8.798144</td>\n",
       "      <td>2.555294</td>\n",
       "      <td>67.431694</td>\n",
       "      <td>14.945469</td>\n",
       "      <td>27.664447</td>\n",
       "      <td>101.051623</td>\n",
       "    </tr>\n",
       "    <tr>\n",
       "      <th>std</th>\n",
       "      <td>11.687883</td>\n",
       "      <td>10.883072</td>\n",
       "      <td>16.918881</td>\n",
       "      <td>8.688696</td>\n",
       "      <td>12.622688</td>\n",
       "      <td>0.844005</td>\n",
       "    </tr>\n",
       "    <tr>\n",
       "      <th>min</th>\n",
       "      <td>-23.300000</td>\n",
       "      <td>-28.500000</td>\n",
       "      <td>18.000000</td>\n",
       "      <td>0.000000</td>\n",
       "      <td>0.200000</td>\n",
       "      <td>97.520000</td>\n",
       "    </tr>\n",
       "    <tr>\n",
       "      <th>25%</th>\n",
       "      <td>0.100000</td>\n",
       "      <td>-5.900000</td>\n",
       "      <td>56.000000</td>\n",
       "      <td>9.000000</td>\n",
       "      <td>24.100000</td>\n",
       "      <td>100.560000</td>\n",
       "    </tr>\n",
       "    <tr>\n",
       "      <th>50%</th>\n",
       "      <td>9.300000</td>\n",
       "      <td>3.300000</td>\n",
       "      <td>68.000000</td>\n",
       "      <td>13.000000</td>\n",
       "      <td>25.000000</td>\n",
       "      <td>101.070000</td>\n",
       "    </tr>\n",
       "    <tr>\n",
       "      <th>75%</th>\n",
       "      <td>18.800000</td>\n",
       "      <td>11.800000</td>\n",
       "      <td>81.000000</td>\n",
       "      <td>20.000000</td>\n",
       "      <td>25.000000</td>\n",
       "      <td>101.590000</td>\n",
       "    </tr>\n",
       "    <tr>\n",
       "      <th>max</th>\n",
       "      <td>33.000000</td>\n",
       "      <td>24.400000</td>\n",
       "      <td>100.000000</td>\n",
       "      <td>83.000000</td>\n",
       "      <td>48.300000</td>\n",
       "      <td>103.650000</td>\n",
       "    </tr>\n",
       "  </tbody>\n",
       "</table>\n",
       "</div>"
      ],
      "text/plain": [
       "            Temp_C  Dew Point Temp_C    Rel Hum_%  Wind Speed_km/h  \\\n",
       "count  8784.000000       8784.000000  8784.000000      8784.000000   \n",
       "mean      8.798144          2.555294    67.431694        14.945469   \n",
       "std      11.687883         10.883072    16.918881         8.688696   \n",
       "min     -23.300000        -28.500000    18.000000         0.000000   \n",
       "25%       0.100000         -5.900000    56.000000         9.000000   \n",
       "50%       9.300000          3.300000    68.000000        13.000000   \n",
       "75%      18.800000         11.800000    81.000000        20.000000   \n",
       "max      33.000000         24.400000   100.000000        83.000000   \n",
       "\n",
       "       Visibility_km    Press_kPa  \n",
       "count    8784.000000  8784.000000  \n",
       "mean       27.664447   101.051623  \n",
       "std        12.622688     0.844005  \n",
       "min         0.200000    97.520000  \n",
       "25%        24.100000   100.560000  \n",
       "50%        25.000000   101.070000  \n",
       "75%        25.000000   101.590000  \n",
       "max        48.300000   103.650000  "
      ]
     },
     "execution_count": 6,
     "metadata": {},
     "output_type": "execute_result"
    }
   ],
   "source": [
    "df.describe()"
   ]
  },
  {
   "cell_type": "code",
   "execution_count": 7,
   "id": "26224e30",
   "metadata": {},
   "outputs": [
    {
     "data": {
      "text/plain": [
       "Date/Time            object\n",
       "Temp_C              float64\n",
       "Dew Point Temp_C    float64\n",
       "Rel Hum_%             int64\n",
       "Wind Speed_km/h       int64\n",
       "Visibility_km       float64\n",
       "Press_kPa           float64\n",
       "Weather              object\n",
       "dtype: object"
      ]
     },
     "execution_count": 7,
     "metadata": {},
     "output_type": "execute_result"
    }
   ],
   "source": [
    "df.dtypes"
   ]
  },
  {
   "cell_type": "code",
   "execution_count": 8,
   "id": "cdae15f1",
   "metadata": {},
   "outputs": [
    {
     "data": {
      "text/plain": [
       "0"
      ]
     },
     "execution_count": 8,
     "metadata": {},
     "output_type": "execute_result"
    }
   ],
   "source": [
    "df.duplicated().sum()"
   ]
  },
  {
   "cell_type": "code",
   "execution_count": 9,
   "id": "57fa0bd8",
   "metadata": {},
   "outputs": [],
   "source": [
    "for i in range(len(df.isna().sum())):\n",
    "    if df.isna().sum()[i]>0:\n",
    "        print('total missing values'+df.isna().sum().index[i]+':'+df.isna().sum()[i])"
   ]
  },
  {
   "cell_type": "code",
   "execution_count": 11,
   "id": "89250cd6",
   "metadata": {},
   "outputs": [
    {
     "data": {
      "text/plain": [
       "<AxesSubplot: >"
      ]
     },
     "execution_count": 11,
     "metadata": {},
     "output_type": "execute_result"
    },
    {
     "data": {
      "image/png": "[encoded data removed]",
      "text/plain": [
       "<Figure size 640x480 with 2 Axes>"
      ]
     },
     "metadata": {},
     "output_type": "display_data"
    }
   ],
   "source": [
    "sns.heatmap(data=df.corr(),annot=True,cmap='magma')"
   ]
  },
  {
   "cell_type": "code",
   "execution_count": 13,
   "id": "1950445a",
   "metadata": {},
   "outputs": [],
   "source": [
    "df['Date/Time']=pd.to_datetime(df['Date/Time'])\n",
    "#extracting the year and convert it to a numeric representation\n",
    "df['year'] = df['Date/Time'].dt.year.astype(int)\n",
    "\n",
    "#extracting the month and convert it to a numeric representaion\n",
    "df['month'] = df['Date/Time'].dt.month.astype(int)\n",
    "\n",
    "#Extracting the day and convert it to a numeric representaion\n",
    "df['day'] = df['Date/Time'].dt.day.astype(int)\n",
    "#extracting the hour and minutes and covert it to a numerix representation \n",
    "df['hour'] = df['Date/Time'].dt.hour.astype(int)\n",
    "df['minute'] = df['Date/Time'].dt.minute.astype(int)"
   ]
  },
  {
   "cell_type": "code",
   "execution_count": 14,
   "id": "58ccb99c",
   "metadata": {},
   "outputs": [
    {
     "data": {
      "text/plain": [
       "Index(['Date/Time', 'Temp_C', 'Dew Point Temp_C', 'Rel Hum_%',\n",
       "       'Wind Speed_km/h', 'Visibility_km', 'Press_kPa', 'Weather', 'year',\n",
       "       'month', 'day', 'hour', 'minute'],\n",
       "      dtype='object')"
      ]
     },
     "execution_count": 14,
     "metadata": {},
     "output_type": "execute_result"
    }
   ],
   "source": [
    "df.columns"
   ]
  },
  {
   "cell_type": "code",
   "execution_count": 16,
   "id": "91d71966",
   "metadata": {},
   "outputs": [],
   "source": [
    "df=df.reindex(columns=['Date/Time', 'year','month', 'day', 'hour', 'minute', 'Temp_C', 'Dew Point Temp_C', 'Rel Hum_%',\n",
    "       'Wind Speed_km/h', 'Visibility_km', 'Press_kPa', 'Weather'])"
   ]
  },
  {
   "cell_type": "code",
   "execution_count": 17,
   "id": "d76a339b",
   "metadata": {},
   "outputs": [
    {
     "data": {
      "text/plain": [
       "array([[2.0120e+03, 1.0000e+00, 1.0000e+00, ..., 4.0000e+00, 8.0000e+00,\n",
       "        1.0124e+02],\n",
       "       [2.0120e+03, 1.0000e+00, 1.0000e+00, ..., 4.0000e+00, 8.0000e+00,\n",
       "        1.0124e+02],\n",
       "       [2.0120e+03, 1.0000e+00, 1.0000e+00, ..., 7.0000e+00, 4.0000e+00,\n",
       "        1.0126e+02],\n",
       "       ...,\n",
       "       [2.0120e+03, 1.2000e+01, 3.1000e+01, ..., 2.8000e+01, 4.8000e+00,\n",
       "        9.9950e+01],\n",
       "       [2.0120e+03, 1.2000e+01, 3.1000e+01, ..., 2.8000e+01, 9.7000e+00,\n",
       "        9.9910e+01],\n",
       "       [2.0120e+03, 1.2000e+01, 3.1000e+01, ..., 3.0000e+01, 1.1300e+01,\n",
       "        9.9890e+01]])"
      ]
     },
     "execution_count": 17,
     "metadata": {},
     "output_type": "execute_result"
    }
   ],
   "source": [
    "x= df.iloc[:,1:-1].values\n",
    "x"
   ]
  },
  {
   "cell_type": "code",
   "execution_count": 18,
   "id": "cc768716",
   "metadata": {},
   "outputs": [
    {
     "data": {
      "text/plain": [
       "array(['Fog', 'Fog', 'Freezing Drizzle,Fog', ..., 'Snow', 'Snow', 'Snow'],\n",
       "      dtype=object)"
      ]
     },
     "execution_count": 18,
     "metadata": {},
     "output_type": "execute_result"
    }
   ],
   "source": [
    "y=df.iloc[:,-1].values\n",
    "y"
   ]
  },
  {
   "cell_type": "code",
   "execution_count": 19,
   "id": "9a7ca102",
   "metadata": {},
   "outputs": [
    {
     "data": {
      "text/plain": [
       "array([[2.0120e+03, 1.2000e+01, 1.8000e+01, ..., 2.6000e+01, 8.0000e+00,\n",
       "        9.9480e+01],\n",
       "       [2.0120e+03, 8.0000e+00, 2.6000e+01, ..., 0.0000e+00, 2.4100e+01,\n",
       "        1.0206e+02],\n",
       "       [2.0120e+03, 3.0000e+00, 2.0000e+01, ..., 1.3000e+01, 2.4100e+01,\n",
       "        1.0193e+02],\n",
       "       ...,\n",
       "       [2.0120e+03, 2.0000e+00, 7.0000e+00, ..., 1.9000e+01, 4.8300e+01,\n",
       "        1.0194e+02],\n",
       "       [2.0120e+03, 8.0000e+00, 4.0000e+00, ..., 1.3000e+01, 4.8300e+01,\n",
       "        1.0175e+02],\n",
       "       [2.0120e+03, 1.0000e+00, 1.0000e+01, ..., 1.5000e+01, 2.5000e+01,\n",
       "        1.0115e+02]])"
      ]
     },
     "execution_count": 19,
     "metadata": {},
     "output_type": "execute_result"
    }
   ],
   "source": [
    "x_train,x_test,y_train,y_test=train_test_split(x,y,test_size=0.25,random_state=1)\n",
    "x_train"
   ]
  },
  {
   "cell_type": "code",
   "execution_count": 20,
   "id": "84432ea0",
   "metadata": {},
   "outputs": [
    {
     "data": {
      "text/plain": [
       "array([[ 0.        ,  1.58449677,  0.25424702, ...,  1.27794794,\n",
       "        -1.55610721, -1.86825321],\n",
       "       [ 0.        ,  0.43143538,  1.16221793, ..., -1.72364471,\n",
       "        -0.27979681,  1.19274888],\n",
       "       [ 0.        , -1.00989135,  0.48123975, ..., -0.22284838,\n",
       "        -0.27979681,  1.03851235],\n",
       "       ...,\n",
       "       [ 0.        , -1.29815669, -0.99421299, ...,  0.46982685,\n",
       "         1.63863248,  1.05037669],\n",
       "       [ 0.        ,  0.43143538, -1.33470209, ..., -0.22284838,\n",
       "         1.63863248,  0.82495406],\n",
       "       [ 0.        , -1.58642204, -0.6537239 , ...,  0.00804336,\n",
       "        -0.20845027,  0.11309311]])"
      ]
     },
     "execution_count": 20,
     "metadata": {},
     "output_type": "execute_result"
    }
   ],
   "source": [
    "scaler = StandardScaler()\n",
    "x_train = scaler.fit_transform(x_train)\n",
    "x_test = scaler.fit_transform(x_test)\n",
    "x_train"
   ]
  },
  {
   "cell_type": "code",
   "execution_count": 26,
   "id": "5eec3533",
   "metadata": {},
   "outputs": [
    {
     "data": {
      "text/plain": [
       "array(['Rain', 'Clear', 'Mainly Clear', ..., 'Mainly Clear', 'Clear',\n",
       "       'Mainly Clear'], dtype=object)"
      ]
     },
     "execution_count": 26,
     "metadata": {},
     "output_type": "execute_result"
    }
   ],
   "source": [
    "classifier = KNeighborsClassifier(n_neighbors=7)\n",
    "classifier.fit(x_train,y_train)\n",
    "y_pred=classifier.predict(x_test)\n",
    "y_pred"
   ]
  },
  {
   "cell_type": "code",
   "execution_count": 27,
   "id": "1328fdf8",
   "metadata": {},
   "outputs": [
    {
     "data": {
      "text/plain": [
       "array([[200,   9,   0, ...,   0,   0,   0],\n",
       "       [ 38, 225,   2, ...,   0,   0,   0],\n",
       "       [  0,   3,   1, ...,   0,   0,   0],\n",
       "       ...,\n",
       "       [  0,   0,   0, ...,   0,   0,   0],\n",
       "       [  0,   1,   0, ...,   0,   0,   0],\n",
       "       [  0,   0,   0, ...,   0,   0,   0]], dtype=int64)"
      ]
     },
     "execution_count": 27,
     "metadata": {},
     "output_type": "execute_result"
    }
   ],
   "source": [
    "cm = confusion_matrix(y_test,y_pred)\n",
    "cm"
   ]
  },
  {
   "cell_type": "code",
   "execution_count": 28,
   "id": "9e7d2c39",
   "metadata": {},
   "outputs": [
    {
     "data": {
      "text/plain": [
       "0.5040983606557377"
      ]
     },
     "execution_count": 28,
     "metadata": {},
     "output_type": "execute_result"
    }
   ],
   "source": [
    "score = accuracy_score(y_test,y_pred)\n",
    "score"
   ]
  },
  {
   "cell_type": "code",
   "execution_count": 29,
   "id": "35247311",
   "metadata": {},
   "outputs": [
    {
     "data": {
      "text/plain": [
       "array(['Rain', 'Clear', 'Clear', ..., 'Mainly Clear', 'Mainly Clear',\n",
       "       'Mainly Clear'], dtype='<U39')"
      ]
     },
     "execution_count": 29,
     "metadata": {},
     "output_type": "execute_result"
    }
   ],
   "source": [
    "nb_model =GaussianNB()\n",
    "nb_model.fit(x_train,y_train)\n",
    "nb_model.predict(x_test)"
   ]
  },
  {
   "cell_type": "code",
   "execution_count": 30,
   "id": "3fb35a76",
   "metadata": {},
   "outputs": [
    {
     "data": {
      "text/plain": [
       "0.5040983606557377"
      ]
     },
     "execution_count": 30,
     "metadata": {},
     "output_type": "execute_result"
    }
   ],
   "source": [
    "nb_score = accuracy_score(y_test,y_pred)\n",
    "nb_score"
   ]
  },
  {
   "cell_type": "code",
   "execution_count": 31,
   "id": "93772f9e",
   "metadata": {},
   "outputs": [
    {
     "name": "stdout",
     "output_type": "stream",
     "text": [
      "                                precision    recall  f1-score   support\n",
      "\n",
      "                         Clear       0.50      0.62      0.55       322\n",
      "                        Cloudy       0.47      0.57      0.52       396\n",
      "                       Drizzle       0.14      0.12      0.13         8\n",
      "                   Drizzle,Fog       0.60      0.38      0.46        24\n",
      "                  Drizzle,Snow       0.00      0.00      0.00         1\n",
      "              Drizzle,Snow,Fog       0.50      1.00      0.67         2\n",
      "                           Fog       0.50      0.69      0.58        39\n",
      "              Freezing Drizzle       0.00      0.00      0.00         0\n",
      "         Freezing Drizzle,Haze       1.00      1.00      1.00         1\n",
      "         Freezing Drizzle,Snow       0.00      0.00      0.00         2\n",
      "                  Freezing Fog       0.00      0.00      0.00         1\n",
      "                 Freezing Rain       1.00      0.20      0.33         5\n",
      "             Freezing Rain,Fog       0.00      0.00      0.00         1\n",
      "            Freezing Rain,Haze       0.00      0.00      0.00         1\n",
      " Freezing Rain,Ice Pellets,Fog       0.00      0.00      0.00         1\n",
      "                          Haze       0.67      0.33      0.44         6\n",
      "                  Mainly Clear       0.50      0.59      0.54       514\n",
      "                 Moderate Snow       0.00      0.00      0.00         0\n",
      "                 Mostly Cloudy       0.51      0.38      0.44       562\n",
      "                          Rain       0.58      0.48      0.52        94\n",
      "                  Rain Showers       0.23      0.05      0.09        55\n",
      "              Rain Showers,Fog       0.00      0.00      0.00         1\n",
      "     Rain Showers,Snow Showers       0.00      0.00      0.00         1\n",
      "                      Rain,Fog       0.54      0.52      0.53        27\n",
      "                     Rain,Haze       0.00      0.00      0.00         2\n",
      "                     Rain,Snow       0.00      0.00      0.00         4\n",
      "         Rain,Snow,Ice Pellets       1.00      0.50      0.67         2\n",
      "                          Snow       0.73      0.59      0.65        87\n",
      "                  Snow Showers       0.00      0.00      0.00        14\n",
      "              Snow Showers,Fog       0.00      0.00      0.00         1\n",
      "             Snow,Blowing Snow       1.00      0.14      0.25         7\n",
      "                      Snow,Fog       0.67      0.75      0.71         8\n",
      "                     Snow,Haze       0.00      0.00      0.00         2\n",
      "              Snow,Ice Pellets       0.00      0.00      0.00         0\n",
      "    Thunderstorms,Rain Showers       0.00      0.00      0.00         2\n",
      "Thunderstorms,Rain Showers,Fog       0.00      0.00      0.00         2\n",
      "        Thunderstorms,Rain,Fog       0.00      0.00      0.00         1\n",
      "\n",
      "                      accuracy                           0.50      2196\n",
      "                     macro avg       0.30      0.24      0.25      2196\n",
      "                  weighted avg       0.50      0.50      0.49      2196\n",
      "\n"
     ]
    }
   ],
   "source": [
    "nb_cr = classification_report(y_test,y_pred)\n",
    "print(nb_cr)"
   ]
  },
  {
   "cell_type": "raw",
   "id": "e7f0df51",
   "metadata": {},
   "source": []
  }
 ],
 "metadata": {
  "kernelspec": {
   "display_name": "Python 3 (ipykernel)",
   "language": "python",
   "name": "python3"
  },
  "language_info": {
   "codemirror_mode": {
    "name": "ipython",
    "version": 3
   },
   "file_extension": ".py",
   "mimetype": "text/x-python",
   "name": "python",
   "nbconvert_exporter": "python",
   "pygments_lexer": "ipython3",
   "version": "3.10.6"
  }
 },
 "nbformat": 4,
 "nbformat_minor": 5
}
