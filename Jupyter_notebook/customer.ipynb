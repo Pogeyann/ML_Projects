{
 "cells": [
  {
   "cell_type": "code",
   "execution_count": 1,
   "metadata": {},
   "outputs": [],
   "source": [
    "import numpy as np\n",
    "import pandas as pd\n",
    "import matplotlib.pyplot as plt\n"
   ]
  },
  {
   "cell_type": "code",
   "execution_count": 2,
   "metadata": {},
   "outputs": [
    {
     "data": {
      "text/html": [
       "<div>\n",
       "<style scoped>\n",
       "    .dataframe tbody tr th:only-of-type {\n",
       "        vertical-align: middle;\n",
       "    }\n",
       "\n",
       "    .dataframe tbody tr th {\n",
       "        vertical-align: top;\n",
       "    }\n",
       "\n",
       "    .dataframe thead th {\n",
       "        text-align: right;\n",
       "    }\n",
       "</style>\n",
       "<table border=\"1\" class=\"dataframe\">\n",
       "  <thead>\n",
       "    <tr style=\"text-align: right;\">\n",
       "      <th></th>\n",
       "      <th>0</th>\n",
       "      <th>1</th>\n",
       "      <th>2</th>\n",
       "      <th>3</th>\n",
       "      <th>4</th>\n",
       "      <th>5</th>\n",
       "    </tr>\n",
       "  </thead>\n",
       "  <tbody>\n",
       "    <tr>\n",
       "      <th>0</th>\n",
       "      <td>4000001</td>\n",
       "      <td>Kristina</td>\n",
       "      <td>Chung</td>\n",
       "      <td>55</td>\n",
       "      <td>Pilot</td>\n",
       "      <td>india</td>\n",
       "    </tr>\n",
       "    <tr>\n",
       "      <th>1</th>\n",
       "      <td>4000002</td>\n",
       "      <td>Paige</td>\n",
       "      <td>Chen</td>\n",
       "      <td>74</td>\n",
       "      <td>Teacher</td>\n",
       "      <td>uk</td>\n",
       "    </tr>\n",
       "    <tr>\n",
       "      <th>2</th>\n",
       "      <td>4000003</td>\n",
       "      <td>Sherri</td>\n",
       "      <td>Melton</td>\n",
       "      <td>34</td>\n",
       "      <td>Firefighter</td>\n",
       "      <td>us</td>\n",
       "    </tr>\n",
       "    <tr>\n",
       "      <th>3</th>\n",
       "      <td>4000004</td>\n",
       "      <td>Gretchen</td>\n",
       "      <td>Hill</td>\n",
       "      <td>66</td>\n",
       "      <td>Computer hardware engineer</td>\n",
       "      <td>china</td>\n",
       "    </tr>\n",
       "    <tr>\n",
       "      <th>4</th>\n",
       "      <td>4000005</td>\n",
       "      <td>Karen</td>\n",
       "      <td>Puckett</td>\n",
       "      <td>74</td>\n",
       "      <td>Lawyer</td>\n",
       "      <td>africa</td>\n",
       "    </tr>\n",
       "    <tr>\n",
       "      <th>...</th>\n",
       "      <td>...</td>\n",
       "      <td>...</td>\n",
       "      <td>...</td>\n",
       "      <td>...</td>\n",
       "      <td>...</td>\n",
       "      <td>...</td>\n",
       "    </tr>\n",
       "    <tr>\n",
       "      <th>458</th>\n",
       "      <td>4000459</td>\n",
       "      <td>Gretchen</td>\n",
       "      <td>Francis</td>\n",
       "      <td>60</td>\n",
       "      <td>Politician</td>\n",
       "      <td>ireland</td>\n",
       "    </tr>\n",
       "    <tr>\n",
       "      <th>459</th>\n",
       "      <td>4000460</td>\n",
       "      <td>Cheryl</td>\n",
       "      <td>Horn</td>\n",
       "      <td>40</td>\n",
       "      <td>Veterinarian</td>\n",
       "      <td>ireland</td>\n",
       "    </tr>\n",
       "    <tr>\n",
       "      <th>460</th>\n",
       "      <td>4000461</td>\n",
       "      <td>Audrey</td>\n",
       "      <td>Forrest</td>\n",
       "      <td>50</td>\n",
       "      <td>Architect</td>\n",
       "      <td>ireland</td>\n",
       "    </tr>\n",
       "    <tr>\n",
       "      <th>461</th>\n",
       "      <td>4000462</td>\n",
       "      <td>Alan</td>\n",
       "      <td>Levin</td>\n",
       "      <td>43</td>\n",
       "      <td>Statistician</td>\n",
       "      <td>ireland</td>\n",
       "    </tr>\n",
       "    <tr>\n",
       "      <th>462</th>\n",
       "      <td>4000463</td>\n",
       "      <td>Wayne</td>\n",
       "      <td>Weiner</td>\n",
       "      <td>70</td>\n",
       "      <td>Actor</td>\n",
       "      <td>ireland</td>\n",
       "    </tr>\n",
       "  </tbody>\n",
       "</table>\n",
       "<p>463 rows × 6 columns</p>\n",
       "</div>"
      ],
      "text/plain": [
       "           0         1        2   3                           4        5\n",
       "0    4000001  Kristina    Chung  55                       Pilot    india\n",
       "1    4000002     Paige     Chen  74                     Teacher       uk\n",
       "2    4000003    Sherri   Melton  34                 Firefighter       us\n",
       "3    4000004  Gretchen     Hill  66  Computer hardware engineer    china\n",
       "4    4000005     Karen  Puckett  74                      Lawyer   africa\n",
       "..       ...       ...      ...  ..                         ...      ...\n",
       "458  4000459  Gretchen  Francis  60                  Politician  ireland\n",
       "459  4000460    Cheryl     Horn  40                Veterinarian  ireland\n",
       "460  4000461    Audrey  Forrest  50                   Architect  ireland\n",
       "461  4000462      Alan    Levin  43                Statistician  ireland\n",
       "462  4000463     Wayne   Weiner  70                       Actor  ireland\n",
       "\n",
       "[463 rows x 6 columns]"
      ]
     },
     "execution_count": 2,
     "metadata": {},
     "output_type": "execute_result"
    }
   ],
   "source": [
    "df = pd.read_csv('/home/mush/Downloads/customer',sep=',',header=None)\n",
    "df"
   ]
  },
  {
   "cell_type": "code",
   "execution_count": 3,
   "metadata": {},
   "outputs": [
    {
     "data": {
      "text/plain": [
       "0    0\n",
       "1    0\n",
       "2    0\n",
       "3    0\n",
       "4    0\n",
       "5    1\n",
       "dtype: int64"
      ]
     },
     "execution_count": 3,
     "metadata": {},
     "output_type": "execute_result"
    }
   ],
   "source": [
    "df.isna().sum()"
   ]
  },
  {
   "cell_type": "code",
   "execution_count": 4,
   "metadata": {},
   "outputs": [
    {
     "data": {
      "text/html": [
       "<div>\n",
       "<style scoped>\n",
       "    .dataframe tbody tr th:only-of-type {\n",
       "        vertical-align: middle;\n",
       "    }\n",
       "\n",
       "    .dataframe tbody tr th {\n",
       "        vertical-align: top;\n",
       "    }\n",
       "\n",
       "    .dataframe thead th {\n",
       "        text-align: right;\n",
       "    }\n",
       "</style>\n",
       "<table border=\"1\" class=\"dataframe\">\n",
       "  <thead>\n",
       "    <tr style=\"text-align: right;\">\n",
       "      <th></th>\n",
       "      <th>0</th>\n",
       "      <th>1</th>\n",
       "      <th>2</th>\n",
       "      <th>3</th>\n",
       "      <th>4</th>\n",
       "      <th>5</th>\n",
       "    </tr>\n",
       "  </thead>\n",
       "  <tbody>\n",
       "    <tr>\n",
       "      <th>0</th>\n",
       "      <td>4000001</td>\n",
       "      <td>Kristina</td>\n",
       "      <td>Chung</td>\n",
       "      <td>55</td>\n",
       "      <td>Pilot</td>\n",
       "      <td>india</td>\n",
       "    </tr>\n",
       "    <tr>\n",
       "      <th>1</th>\n",
       "      <td>4000002</td>\n",
       "      <td>Paige</td>\n",
       "      <td>Chen</td>\n",
       "      <td>74</td>\n",
       "      <td>Teacher</td>\n",
       "      <td>uk</td>\n",
       "    </tr>\n",
       "    <tr>\n",
       "      <th>2</th>\n",
       "      <td>4000003</td>\n",
       "      <td>Sherri</td>\n",
       "      <td>Melton</td>\n",
       "      <td>34</td>\n",
       "      <td>Firefighter</td>\n",
       "      <td>us</td>\n",
       "    </tr>\n",
       "    <tr>\n",
       "      <th>3</th>\n",
       "      <td>4000004</td>\n",
       "      <td>Gretchen</td>\n",
       "      <td>Hill</td>\n",
       "      <td>66</td>\n",
       "      <td>Computer hardware engineer</td>\n",
       "      <td>china</td>\n",
       "    </tr>\n",
       "    <tr>\n",
       "      <th>4</th>\n",
       "      <td>4000005</td>\n",
       "      <td>Karen</td>\n",
       "      <td>Puckett</td>\n",
       "      <td>74</td>\n",
       "      <td>Lawyer</td>\n",
       "      <td>africa</td>\n",
       "    </tr>\n",
       "    <tr>\n",
       "      <th>...</th>\n",
       "      <td>...</td>\n",
       "      <td>...</td>\n",
       "      <td>...</td>\n",
       "      <td>...</td>\n",
       "      <td>...</td>\n",
       "      <td>...</td>\n",
       "    </tr>\n",
       "    <tr>\n",
       "      <th>458</th>\n",
       "      <td>4000459</td>\n",
       "      <td>Gretchen</td>\n",
       "      <td>Francis</td>\n",
       "      <td>60</td>\n",
       "      <td>Politician</td>\n",
       "      <td>ireland</td>\n",
       "    </tr>\n",
       "    <tr>\n",
       "      <th>459</th>\n",
       "      <td>4000460</td>\n",
       "      <td>Cheryl</td>\n",
       "      <td>Horn</td>\n",
       "      <td>40</td>\n",
       "      <td>Veterinarian</td>\n",
       "      <td>ireland</td>\n",
       "    </tr>\n",
       "    <tr>\n",
       "      <th>460</th>\n",
       "      <td>4000461</td>\n",
       "      <td>Audrey</td>\n",
       "      <td>Forrest</td>\n",
       "      <td>50</td>\n",
       "      <td>Architect</td>\n",
       "      <td>ireland</td>\n",
       "    </tr>\n",
       "    <tr>\n",
       "      <th>461</th>\n",
       "      <td>4000462</td>\n",
       "      <td>Alan</td>\n",
       "      <td>Levin</td>\n",
       "      <td>43</td>\n",
       "      <td>Statistician</td>\n",
       "      <td>ireland</td>\n",
       "    </tr>\n",
       "    <tr>\n",
       "      <th>462</th>\n",
       "      <td>4000463</td>\n",
       "      <td>Wayne</td>\n",
       "      <td>Weiner</td>\n",
       "      <td>70</td>\n",
       "      <td>Actor</td>\n",
       "      <td>ireland</td>\n",
       "    </tr>\n",
       "  </tbody>\n",
       "</table>\n",
       "<p>462 rows × 6 columns</p>\n",
       "</div>"
      ],
      "text/plain": [
       "           0         1        2   3                           4        5\n",
       "0    4000001  Kristina    Chung  55                       Pilot    india\n",
       "1    4000002     Paige     Chen  74                     Teacher       uk\n",
       "2    4000003    Sherri   Melton  34                 Firefighter       us\n",
       "3    4000004  Gretchen     Hill  66  Computer hardware engineer    china\n",
       "4    4000005     Karen  Puckett  74                      Lawyer   africa\n",
       "..       ...       ...      ...  ..                         ...      ...\n",
       "458  4000459  Gretchen  Francis  60                  Politician  ireland\n",
       "459  4000460    Cheryl     Horn  40                Veterinarian  ireland\n",
       "460  4000461    Audrey  Forrest  50                   Architect  ireland\n",
       "461  4000462      Alan    Levin  43                Statistician  ireland\n",
       "462  4000463     Wayne   Weiner  70                       Actor  ireland\n",
       "\n",
       "[462 rows x 6 columns]"
      ]
     },
     "execution_count": 4,
     "metadata": {},
     "output_type": "execute_result"
    }
   ],
   "source": [
    "df.dropna()"
   ]
  },
  {
   "cell_type": "code",
   "execution_count": 5,
   "metadata": {},
   "outputs": [],
   "source": [
    "df.columns = ['id','fname','lname','age','occupation', 'location']\n"
   ]
  },
  {
   "cell_type": "code",
   "execution_count": 15,
   "metadata": {},
   "outputs": [
    {
     "data": {
      "text/plain": [
       "[<matplotlib.lines.Line2D at 0x7f9aadab6670>]"
      ]
     },
     "execution_count": 15,
     "metadata": {},
     "output_type": "execute_result"
    },
    {
     "data": {
      "image/png": "[encoded data removed]",
      "text/plain": [
       "<Figure size 640x480 with 1 Axes>"
      ]
     },
     "metadata": {},
     "output_type": "display_data"
    }
   ],
   "source": [
    "#count of age above 50\n",
    "df1 = df[df['age']>50].groupby('age') ['age'].count()\n",
    "plt.plot(df1)"
   ]
  },
  {
   "cell_type": "code",
   "execution_count": 27,
   "metadata": {},
   "outputs": [
    {
     "data": {
      "text/plain": [
       "([<matplotlib.patches.Wedge at 0x7f9aa9a2e220>,\n",
       "  <matplotlib.patches.Wedge at 0x7f9aa9a2e6a0>,\n",
       "  <matplotlib.patches.Wedge at 0x7f9aa9a2eb20>,\n",
       "  <matplotlib.patches.Wedge at 0x7f9aa9a2efa0>,\n",
       "  <matplotlib.patches.Wedge at 0x7f9aa99bd460>,\n",
       "  <matplotlib.patches.Wedge at 0x7f9aa99bd8e0>,\n",
       "  <matplotlib.patches.Wedge at 0x7f9aa99bdd60>],\n",
       " [Text(0.904628048582323, 0.6258179397541577, ''),\n",
       "  Text(-0.3738782147592804, 1.034512001152434, ''),\n",
       "  Text(-1.0898429148428055, 0.14913893176142085, ''),\n",
       "  Text(-1.018401109781298, -0.41576336971433764, ''),\n",
       "  Text(-0.5435094619095604, -0.9563458918272092, ''),\n",
       "  Text(0.2810867970625842, -1.0634802360726305, ''),\n",
       "  Text(0.9488659818578412, -0.5564650469463067, '')])"
      ]
     },
     "execution_count": 27,
     "metadata": {},
     "output_type": "execute_result"
    },
    {
     "data": {
      "image/png": "[encoded data removed]",
      "text/plain": [
       "<Figure size 640x480 with 1 Axes>"
      ]
     },
     "metadata": {},
     "output_type": "display_data"
    }
   ],
   "source": [
    "df2 = df.groupby('location') ['location'].count()\n",
    "\n",
    "label = []\n",
    "plt.pie(df2)"
   ]
  },
  {
   "cell_type": "code",
   "execution_count": 40,
   "metadata": {},
   "outputs": [
    {
     "ename": "SyntaxError",
     "evalue": "invalid syntax (607363961.py, line 3)",
     "output_type": "error",
     "traceback": [
      "\u001b[0;36m  Cell \u001b[0;32mIn[40], line 3\u001b[0;36m\u001b[0m\n\u001b[0;31m    if i=1:\u001b[0m\n\u001b[0m        ^\u001b[0m\n\u001b[0;31mSyntaxError\u001b[0m\u001b[0;31m:\u001b[0m invalid syntax\n"
     ]
    }
   ],
   "source": [
    "sum = 0\n",
    "for i in df.location:\n",
    "    if i=1:\n",
    "\n",
    "        sum.\n",
    "        print(sum)"
   ]
  }
 ],
 "metadata": {
  "kernelspec": {
   "display_name": "Python 3",
   "language": "python",
   "name": "python3"
  },
  "language_info": {
   "codemirror_mode": {
    "name": "ipython",
    "version": 3
   },
   "file_extension": ".py",
   "mimetype": "text/x-python",
   "name": "python",
   "nbconvert_exporter": "python",
   "pygments_lexer": "ipython3",
   "version": "3.8.10"
  },
  "orig_nbformat": 4,
  "vscode": {
   "interpreter": {
    "hash": "31f2aee4e71d21fbe5cf8b01ff0e069b9275f58929596ceb00d14d90e3e16cd6"
   }
  }
 },
 "nbformat": 4,
 "nbformat_minor": 2
}
