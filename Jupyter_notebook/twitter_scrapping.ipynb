{
 "cells": [
  {
   "cell_type": "code",
   "execution_count": 1,
   "metadata": {},
   "outputs": [
    {
     "name": "stderr",
     "output_type": "stream",
     "text": [
      "[nltk_data] Downloading package punkt to /home/mush/nltk_data...\n",
      "[nltk_data]   Package punkt is already up-to-date!\n",
      "[nltk_data] Downloading package wordnet to /home/mush/nltk_data...\n",
      "[nltk_data]   Package wordnet is already up-to-date!\n"
     ]
    }
   ],
   "source": [
    "import nltk\n",
    "nltk.download('punkt')\n",
    "nltk.download('wordnet')\n",
    "from nltk import sent_tokenize, word_tokenize\n",
    "from nltk.stem.snowball import SnowballStemmer\n",
    "from nltk.stem.wordnet import WordNetLemmatizer\n",
    "from nltk.corpus import stopwords\n",
    "import pandas as pd\n",
    "import numpy as np\n",
    "import re  \n",
    "import spacy\n",
    "nlp = spacy.load('en_core_web_lg')\n"
   ]
  },
  {
   "attachments": {},
   "cell_type": "markdown",
   "metadata": {},
   "source": [
    "The code you provided imports several libraries and modules in Python.\n",
    "\n",
    "The nltk (Natural Language Toolkit) library is a popular library for natural language processing tasks in Python.\n",
    "\n",
    "The punkt and wordnet datasets are included in the nltk library and are used for natural language processing tasks. These datasets are downloaded using the nltk.download() function.\n",
    "\n",
    "The sent_tokenize and word_tokenize functions from nltk are used to split a piece of text into sentences or words, respectively.\n",
    "\n",
    "The SnowballStemmer and WordNetLemmatizer classes from nltk are used to perform stemming and lemmatization on words in a piece of text. Stemming involves reducing words to their base form, while lemmatization involves reducing words to their base form while taking into account the part of speech of the word.\n",
    "\n",
    "The stopwords corpus from nltk is a list of commonly used words in the English language that are generally not useful for natural language processing tasks.\n",
    "\n",
    "The pandas library is a popular library for data manipulation and analysis in Python. It provides data structures for storing and manipulating large datasets, as well as tools for working with them.\n",
    "\n",
    "The numpy library is a popular library for scientific computing in Python. It provides tools for working with large, multi-dimensional arrays and matrices of numerical data.\n",
    "\n",
    "The re (regular expression) module provides tools for working with regular expressions in Python. Regular expressions are a powerful tool for matching patterns in text data.\n",
    "\n",
    "The spacy library is a popular library for natural language processing tasks in Python. It provides tools for tasks such as tokenization, part-of-speech tagging, and dependency parsing.\n",
    "\n",
    "The en_core_web_lg model is a pre-trained model for natural language processing tasks in the English language, provided by the spacy library. It is loaded using the spacy.load() function.\n",
    "\n",
    "\n",
    "\n"
   ]
  },
  {
   "cell_type": "code",
   "execution_count": 11,
   "metadata": {},
   "outputs": [],
   "source": [
    "import requests\n",
    "import json\n",
    "from collections import Counter\n",
    "from requests.auth import HTTPBasicAuth"
   ]
  },
  {
   "cell_type": "code",
   "execution_count": 13,
   "metadata": {},
   "outputs": [
    {
     "ename": "TypeError",
     "evalue": "'tuple' object is not callable",
     "output_type": "error",
     "traceback": [
      "\u001b[0;31m---------------------------------------------------------------------------\u001b[0m",
      "\u001b[0;31mTypeError\u001b[0m                                 Traceback (most recent call last)",
      "Cell \u001b[0;32mIn[13], line 23\u001b[0m\n\u001b[1;32m     20\u001b[0m auth \u001b[39m=\u001b[39m (api_key, api_secret, access_token, access_token_secret)\n\u001b[1;32m     22\u001b[0m \u001b[39m# Make the request to the API endpoint\u001b[39;00m\n\u001b[0;32m---> 23\u001b[0m response \u001b[39m=\u001b[39m requests\u001b[39m.\u001b[39;49mget(api_endpoint, auth\u001b[39m=\u001b[39;49mauth, params\u001b[39m=\u001b[39;49mrequest_params)\n\u001b[1;32m     25\u001b[0m \u001b[39m# Check the response status code\u001b[39;00m\n\u001b[1;32m     26\u001b[0m \u001b[39mif\u001b[39;00m response\u001b[39m.\u001b[39mstatus_code \u001b[39m==\u001b[39m \u001b[39m200\u001b[39m:\n",
      "File \u001b[0;32m/usr/lib/python3/dist-packages/requests/api.py:75\u001b[0m, in \u001b[0;36mget\u001b[0;34m(url, params, **kwargs)\u001b[0m\n\u001b[1;32m     64\u001b[0m \u001b[39mr\u001b[39m\u001b[39m\"\"\"Sends a GET request.\u001b[39;00m\n\u001b[1;32m     65\u001b[0m \n\u001b[1;32m     66\u001b[0m \u001b[39m:param url: URL for the new :class:`Request` object.\u001b[39;00m\n\u001b[0;32m   (...)\u001b[0m\n\u001b[1;32m     71\u001b[0m \u001b[39m:rtype: requests.Response\u001b[39;00m\n\u001b[1;32m     72\u001b[0m \u001b[39m\"\"\"\u001b[39;00m\n\u001b[1;32m     74\u001b[0m kwargs\u001b[39m.\u001b[39msetdefault(\u001b[39m'\u001b[39m\u001b[39mallow_redirects\u001b[39m\u001b[39m'\u001b[39m, \u001b[39mTrue\u001b[39;00m)\n\u001b[0;32m---> 75\u001b[0m \u001b[39mreturn\u001b[39;00m request(\u001b[39m'\u001b[39;49m\u001b[39mget\u001b[39;49m\u001b[39m'\u001b[39;49m, url, params\u001b[39m=\u001b[39;49mparams, \u001b[39m*\u001b[39;49m\u001b[39m*\u001b[39;49mkwargs)\n",
      "File \u001b[0;32m/usr/lib/python3/dist-packages/requests/api.py:60\u001b[0m, in \u001b[0;36mrequest\u001b[0;34m(method, url, **kwargs)\u001b[0m\n\u001b[1;32m     56\u001b[0m \u001b[39m# By using the 'with' statement we are sure the session is closed, thus we\u001b[39;00m\n\u001b[1;32m     57\u001b[0m \u001b[39m# avoid leaving sockets open which can trigger a ResourceWarning in some\u001b[39;00m\n\u001b[1;32m     58\u001b[0m \u001b[39m# cases, and look like a memory leak in others.\u001b[39;00m\n\u001b[1;32m     59\u001b[0m \u001b[39mwith\u001b[39;00m sessions\u001b[39m.\u001b[39mSession() \u001b[39mas\u001b[39;00m session:\n\u001b[0;32m---> 60\u001b[0m     \u001b[39mreturn\u001b[39;00m session\u001b[39m.\u001b[39;49mrequest(method\u001b[39m=\u001b[39;49mmethod, url\u001b[39m=\u001b[39;49murl, \u001b[39m*\u001b[39;49m\u001b[39m*\u001b[39;49mkwargs)\n",
      "File \u001b[0;32m/usr/lib/python3/dist-packages/requests/sessions.py:519\u001b[0m, in \u001b[0;36mSession.request\u001b[0;34m(self, method, url, params, data, headers, cookies, files, auth, timeout, allow_redirects, proxies, hooks, stream, verify, cert, json)\u001b[0m\n\u001b[1;32m    506\u001b[0m \u001b[39m# Create the Request.\u001b[39;00m\n\u001b[1;32m    507\u001b[0m req \u001b[39m=\u001b[39m Request(\n\u001b[1;32m    508\u001b[0m     method\u001b[39m=\u001b[39mmethod\u001b[39m.\u001b[39mupper(),\n\u001b[1;32m    509\u001b[0m     url\u001b[39m=\u001b[39murl,\n\u001b[0;32m   (...)\u001b[0m\n\u001b[1;32m    517\u001b[0m     hooks\u001b[39m=\u001b[39mhooks,\n\u001b[1;32m    518\u001b[0m )\n\u001b[0;32m--> 519\u001b[0m prep \u001b[39m=\u001b[39m \u001b[39mself\u001b[39;49m\u001b[39m.\u001b[39;49mprepare_request(req)\n\u001b[1;32m    521\u001b[0m proxies \u001b[39m=\u001b[39m proxies \u001b[39mor\u001b[39;00m {}\n\u001b[1;32m    523\u001b[0m settings \u001b[39m=\u001b[39m \u001b[39mself\u001b[39m\u001b[39m.\u001b[39mmerge_environment_settings(\n\u001b[1;32m    524\u001b[0m     prep\u001b[39m.\u001b[39murl, proxies, stream, verify, cert\n\u001b[1;32m    525\u001b[0m )\n",
      "File \u001b[0;32m/usr/lib/python3/dist-packages/requests/sessions.py:452\u001b[0m, in \u001b[0;36mSession.prepare_request\u001b[0;34m(self, request)\u001b[0m\n\u001b[1;32m    449\u001b[0m     auth \u001b[39m=\u001b[39m get_netrc_auth(request\u001b[39m.\u001b[39murl)\n\u001b[1;32m    451\u001b[0m p \u001b[39m=\u001b[39m PreparedRequest()\n\u001b[0;32m--> 452\u001b[0m p\u001b[39m.\u001b[39;49mprepare(\n\u001b[1;32m    453\u001b[0m     method\u001b[39m=\u001b[39;49mrequest\u001b[39m.\u001b[39;49mmethod\u001b[39m.\u001b[39;49mupper(),\n\u001b[1;32m    454\u001b[0m     url\u001b[39m=\u001b[39;49mrequest\u001b[39m.\u001b[39;49murl,\n\u001b[1;32m    455\u001b[0m     files\u001b[39m=\u001b[39;49mrequest\u001b[39m.\u001b[39;49mfiles,\n\u001b[1;32m    456\u001b[0m     data\u001b[39m=\u001b[39;49mrequest\u001b[39m.\u001b[39;49mdata,\n\u001b[1;32m    457\u001b[0m     json\u001b[39m=\u001b[39;49mrequest\u001b[39m.\u001b[39;49mjson,\n\u001b[1;32m    458\u001b[0m     headers\u001b[39m=\u001b[39;49mmerge_setting(request\u001b[39m.\u001b[39;49mheaders, \u001b[39mself\u001b[39;49m\u001b[39m.\u001b[39;49mheaders, dict_class\u001b[39m=\u001b[39;49mCaseInsensitiveDict),\n\u001b[1;32m    459\u001b[0m     params\u001b[39m=\u001b[39;49mmerge_setting(request\u001b[39m.\u001b[39;49mparams, \u001b[39mself\u001b[39;49m\u001b[39m.\u001b[39;49mparams),\n\u001b[1;32m    460\u001b[0m     auth\u001b[39m=\u001b[39;49mmerge_setting(auth, \u001b[39mself\u001b[39;49m\u001b[39m.\u001b[39;49mauth),\n\u001b[1;32m    461\u001b[0m     cookies\u001b[39m=\u001b[39;49mmerged_cookies,\n\u001b[1;32m    462\u001b[0m     hooks\u001b[39m=\u001b[39;49mmerge_hooks(request\u001b[39m.\u001b[39;49mhooks, \u001b[39mself\u001b[39;49m\u001b[39m.\u001b[39;49mhooks),\n\u001b[1;32m    463\u001b[0m )\n\u001b[1;32m    464\u001b[0m \u001b[39mreturn\u001b[39;00m p\n",
      "File \u001b[0;32m/usr/lib/python3/dist-packages/requests/models.py:317\u001b[0m, in \u001b[0;36mPreparedRequest.prepare\u001b[0;34m(self, method, url, headers, files, data, params, auth, cookies, hooks, json)\u001b[0m\n\u001b[1;32m    315\u001b[0m \u001b[39mself\u001b[39m\u001b[39m.\u001b[39mprepare_cookies(cookies)\n\u001b[1;32m    316\u001b[0m \u001b[39mself\u001b[39m\u001b[39m.\u001b[39mprepare_body(data, files, json)\n\u001b[0;32m--> 317\u001b[0m \u001b[39mself\u001b[39;49m\u001b[39m.\u001b[39;49mprepare_auth(auth, url)\n\u001b[1;32m    319\u001b[0m \u001b[39m# Note that prepare_auth must be last to enable authentication schemes\u001b[39;00m\n\u001b[1;32m    320\u001b[0m \u001b[39m# such as OAuth to work on a fully prepared request.\u001b[39;00m\n\u001b[1;32m    321\u001b[0m \n\u001b[1;32m    322\u001b[0m \u001b[39m# This MUST go after prepare_auth. Authenticators could add a hook\u001b[39;00m\n\u001b[1;32m    323\u001b[0m \u001b[39mself\u001b[39m\u001b[39m.\u001b[39mprepare_hooks(hooks)\n",
      "File \u001b[0;32m/usr/lib/python3/dist-packages/requests/models.py:548\u001b[0m, in \u001b[0;36mPreparedRequest.prepare_auth\u001b[0;34m(self, auth, url)\u001b[0m\n\u001b[1;32m    545\u001b[0m     auth \u001b[39m=\u001b[39m HTTPBasicAuth(\u001b[39m*\u001b[39mauth)\n\u001b[1;32m    547\u001b[0m \u001b[39m# Allow auth to make its changes.\u001b[39;00m\n\u001b[0;32m--> 548\u001b[0m r \u001b[39m=\u001b[39m auth(\u001b[39mself\u001b[39;49m)\n\u001b[1;32m    550\u001b[0m \u001b[39m# Update self to reflect the auth changes.\u001b[39;00m\n\u001b[1;32m    551\u001b[0m \u001b[39mself\u001b[39m\u001b[39m.\u001b[39m\u001b[39m__dict__\u001b[39m\u001b[39m.\u001b[39mupdate(r\u001b[39m.\u001b[39m\u001b[39m__dict__\u001b[39m)\n",
      "\u001b[0;31mTypeError\u001b[0m: 'tuple' object is not callable"
     ]
    }
   ],
   "source": [
    "#Set the api credentials\n",
    "api_key = '7rXWUMyLcWtNCcj2nIu546Eh0'\n",
    "api_secret = '8Zb9XUvT6CUv9j0Pt6XYBPQiPYdhprU75dKD0lQXiul8Z8CVDA'\n",
    "\n",
    "access_token = '1460157939210240003-z1stAc4pNo8BbSPbBwiZ1c6Z9ppqyv'\n",
    "\n",
    "access_token_secret = 'iC91YzcVizO9YZPFyBpzfdA9uDsDIh6BCltphYVVvKA0c'\n",
    "\n",
    "# Set up the API endpoint and request parameters\n",
    "api_endpoint = 'https://api.twitter.com/1.1/statuses/user_timeline.json'\n",
    "\n",
    "request_params = {\n",
    "    'screen_name' : 'Elon Musk',\n",
    "    'count':100,\n",
    "    'since_id':'2022-01-01'\n",
    "}\n",
    "#Retrieve the last 100 tweets\n",
    "\n",
    "# Set up the authentication for the request\n",
    "auth = (api_key, api_secret, access_token, access_token_secret)\n",
    "\n",
    "# Make the request to the API endpoint\n",
    "response = requests.get(api_endpoint, auth=auth, params=request_params)\n",
    "\n",
    "# Check the response status code\n",
    "if response.status_code == 200:\n",
    "    words =[]"
   ]
  },
  {
   "cell_type": "code",
   "execution_count": null,
   "metadata": {},
   "outputs": [],
   "source": [
    "import requests\n",
    "import json\n",
    "import nltk\n",
    "from nltk.tokenize import word_tokenize\n",
    "from nltk.corpus import stopwords\n",
    "from nltk.stem.snowball import SnowballStemmer\n",
    "from collections import Counter\n",
    "\n",
    "# Set up the API credentials\n",
    "api_key = 'YOUR_API_KEY'\n",
    "api_secret = 'YOUR_API_SECRET'\n",
    "access_token = 'YOUR_ACCESS_TOKEN'\n",
    "access_token_secret = 'YOUR_ACCESS_TOKEN_SECRET'\n",
    "\n",
    "# Set up the API endpoint and request parameters\n",
    "api_endpoint = 'https://api.twitter.com/1.1/statuses/user_timeline.json'\n",
    "request_params = {\n",
    "    'screen_name': 'elonmusk',  # replace with the username of the account you want to analyze\n",
    "    'count': 100  # retrieve the last 100 tweets\n",
    "}\n",
    "\n",
    "# Set up the authentication for the request\n",
    "auth = (api_key, api_secret, access_token, access_token_secret)\n",
    "\n",
    "# Make the request to the API endpoint\n",
    "response = requests.get(api_endpoint, auth\n"
   ]
  }
 ],
 "metadata": {
  "kernelspec": {
   "display_name": "Python 3",
   "language": "python",
   "name": "python3"
  },
  "language_info": {
   "codemirror_mode": {
    "name": "ipython",
    "version": 3
   },
   "file_extension": ".py",
   "mimetype": "text/x-python",
   "name": "python",
   "nbconvert_exporter": "python",
   "pygments_lexer": "ipython3",
   "version": "3.10.6 (tags/v3.10.6:9c7b4bd, Aug  1 2022, 21:53:49) [MSC v.1932 64 bit (AMD64)]"
  },
  "orig_nbformat": 4,
  "vscode": {
   "interpreter": {
    "hash": "3196968d684371006099b3d55edeef8ed90365227a30deaef86e5d4aa8519be0"
   }
  }
 },
 "nbformat": 4,
 "nbformat_minor": 2
}
