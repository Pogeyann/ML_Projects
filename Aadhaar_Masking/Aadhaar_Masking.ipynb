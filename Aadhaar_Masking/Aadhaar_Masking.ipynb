{
 "cells": [
  {
   "cell_type": "code",
   "execution_count": 11,
   "metadata": {},
   "outputs": [],
   "source": [
    "import pytesseract\n",
    "import cv2\n",
    "import re\n",
    "from pytesseract import Output"
   ]
  },
  {
   "cell_type": "code",
   "execution_count": 12,
   "metadata": {},
   "outputs": [],
   "source": [
    "#Read Image\n",
    "img=cv2.imread(\"Aadhaar_letter_large.png\")\n",
    "gray_img=cv2.cvtColor(img,cv2.COLOR_BGR2GRAY)"
   ]
  },
  {
   "cell_type": "code",
   "execution_count": 13,
   "metadata": {},
   "outputs": [
    {
     "data": {
      "text/plain": [
       "dict_keys(['level', 'page_num', 'block_num', 'par_num', 'line_num', 'word_num', 'left', 'top', 'width', 'height', 'conf', 'text'])"
      ]
     },
     "execution_count": 13,
     "metadata": {},
     "output_type": "execute_result"
    }
   ],
   "source": [
    "data=pytesseract.image_to_data(gray_img,output_type=Output.DICT)\n",
    "data.keys()"
   ]
  },
  {
   "cell_type": "code",
   "execution_count": 14,
   "metadata": {},
   "outputs": [
    {
     "data": {
      "text/plain": [
       "242"
      ]
     },
     "execution_count": 14,
     "metadata": {},
     "output_type": "execute_result"
    }
   ],
   "source": [
    "len(data['text'])"
   ]
  },
  {
   "cell_type": "code",
   "execution_count": 15,
   "metadata": {},
   "outputs": [],
   "source": [
    "n_boxes=len(data['text'])\n",
    "for i in range(n_boxes):\n",
    "    if data['conf'][i]>60:\n",
    "        x,y,w,h=data['left'][i],data['top'][i],data['width'][i],data['height'][i]\n",
    "        img=cv2.rectangle(img,(x,y),(x+w,y+h),(0,255,0),2)\n",
    "cv2.imshow('Aadhaar',img)\n",
    "cv2.waitKey()\n",
    "cv2.destroyAllWindows()"
   ]
  },
  {
   "cell_type": "code",
   "execution_count": 16,
   "metadata": {},
   "outputs": [],
   "source": [
    "#Aadhaar_Pattern='^[2-9]{1}[0-9]{3}\\s[0-9]{4}\\s[0-9]{4}$'\n",
    "Aadhaar_Pattern='^[2-9]{1}[0-9]{3}\\s[0-9]{4}$'\n",
    "\n",
    "#Aadhaar_Pattern='^[2-9]{1}[0-9]{3}$'"
   ]
  },
  {
   "cell_type": "code",
   "execution_count": 17,
   "metadata": {},
   "outputs": [
    {
     "data": {
      "text/plain": [
       "dict_keys(['level', 'page_num', 'block_num', 'par_num', 'line_num', 'word_num', 'left', 'top', 'width', 'height', 'conf', 'text'])"
      ]
     },
     "execution_count": 17,
     "metadata": {},
     "output_type": "execute_result"
    }
   ],
   "source": [
    "img=cv2.imread(\"Aadhaar_letter_large.png\")\n",
    "data=pytesseract.image_to_data(img,output_type=Output.DICT)"
   ]
  },
  {
   "cell_type": "code",
   "execution_count": 18,
   "metadata": {},
   "outputs": [
    {
     "name": "stdout",
     "output_type": "stream",
     "text": [
      "1800 1901047 ae1800 1801947 or,3977 88008800 02340234 1087 3977 88008800 02340234 \n"
     ]
    }
   ],
   "source": [
    "n_boxes=len(data['text'])\n",
    "a_num=''\n",
    "for i in range(n_boxes):\n",
    "    if len(data['text'][i])==4 and data['text'][i].isdigit():\n",
    "        a_num=a_num+data['text'][i]+' '+data['text'][i+1]\n",
    "print(a_num)"
   ]
  },
  {
   "cell_type": "code",
   "execution_count": 19,
   "metadata": {},
   "outputs": [],
   "source": [
    "n_boxes=len(data['text'])\n",
    "for i in range(n_boxes):\n",
    "    if len(data['text'][i])==4 and data['text'][i].isdigit():\n",
    "        if re.match(Aadhaar_Pattern,data['text'][i]+' '+data['text'][i+1]):\n",
    "            x,y,w,h=data['left'][i],data['top'][i],data['width'][i],data['height'][i]\n",
    "            img=cv2.rectangle(img,(x,y),(x+w,y+h),(0,255,0),-1)\n",
    "cv2.imshow('Aadhaar',img)\n",
    "cv2.waitKey()\n",
    "cv2.destroyAllWindows()"
   ]
  }
 ],
 "metadata": {
  "kernelspec": {
   "display_name": "Python 3",
   "language": "python",
   "name": "python3"
  },
  "language_info": {
   "codemirror_mode": {
    "name": "ipython",
    "version": 3
   },
   "file_extension": ".py",
   "mimetype": "text/x-python",
   "name": "python",
   "nbconvert_exporter": "python",
   "pygments_lexer": "ipython3",
   "version": "3.10.6 (tags/v3.10.6:9c7b4bd, Aug  1 2022, 21:53:49) [MSC v.1932 64 bit (AMD64)]"
  },
  "orig_nbformat": 4,
  "vscode": {
   "interpreter": {
    "hash": "3196968d684371006099b3d55edeef8ed90365227a30deaef86e5d4aa8519be0"
   }
  }
 },
 "nbformat": 4,
 "nbformat_minor": 2
}
