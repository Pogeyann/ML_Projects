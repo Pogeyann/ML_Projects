{
 "cells": [
  {
   "cell_type": "code",
   "execution_count": 1,
   "metadata": {},
   "outputs": [],
   "source": [
    "import cv2\n",
    "import pytesseract\n"
   ]
  },
  {
   "cell_type": "code",
   "execution_count": 3,
   "metadata": {},
   "outputs": [],
   "source": [
    "img = cv2.imread('/home/mush/Computer_vision/ocr/quickfox.jpg')"
   ]
  },
  {
   "cell_type": "code",
   "execution_count": 4,
   "metadata": {},
   "outputs": [
    {
     "data": {
      "text/plain": [
       "(1024, 1536, 3)"
      ]
     },
     "execution_count": 4,
     "metadata": {},
     "output_type": "execute_result"
    }
   ],
   "source": [
    "img.shape"
   ]
  },
  {
   "cell_type": "code",
   "execution_count": 5,
   "metadata": {},
   "outputs": [],
   "source": [
    "h,w,c = img.shape"
   ]
  },
  {
   "cell_type": "code",
   "execution_count": 6,
   "metadata": {},
   "outputs": [
    {
     "data": {
      "text/plain": [
       "1024"
      ]
     },
     "execution_count": 6,
     "metadata": {},
     "output_type": "execute_result"
    }
   ],
   "source": [
    "h"
   ]
  },
  {
   "cell_type": "code",
   "execution_count": 7,
   "metadata": {},
   "outputs": [],
   "source": [
    "boxes = pytesseract.image_to_boxes(img)"
   ]
  },
  {
   "cell_type": "code",
   "execution_count": 8,
   "metadata": {},
   "outputs": [
    {
     "name": "stdout",
     "output_type": "stream",
     "text": [
      "T 388 708 479 824 0\n",
      "h 490 708 574 827 0\n",
      "e 587 707 673 796 0\n",
      "q 711 679 802 796 0\n",
      "u 739 679 904 833 0\n",
      "i 821 706 953 833 0\n",
      "c 966 707 1045 796 0\n",
      "k 1056 708 1144 827 0\n",
      "b 379 540 470 661 0\n",
      "r 484 542 543 630 0\n",
      "o 545 540 636 630 0\n",
      "w 588 540 749 661 0\n",
      "n 641 542 873 630 0\n",
      "f 915 542 977 663 0\n",
      "o 976 540 1067 630 0\n",
      "x 1068 542 1161 628 0\n",
      "j 319 345 367 501 0\n",
      "u 384 374 468 462 0\n",
      "m 487 376 621 464 0\n",
      "p 522 345 689 501 0\n",
      "s 640 347 814 464 0\n",
      "o 852 374 938 464 0\n",
      "v 852 374 943 464 0\n",
      "e 946 376 1040 462 0\n",
      "r 1043 374 1201 464 0\n",
      "a 352 208 437 298 0\n",
      "l 482 210 510 329 0\n",
      "a 525 208 609 298 0\n",
      "z 616 210 694 296 0\n",
      "y 697 178 791 296 0\n",
      "d 827 208 918 329 0\n",
      "o 932 208 1023 298 0\n",
      "g 948 178 1082 329 0\n",
      ". 1031 178 1172 298 0\n",
      "\n"
     ]
    }
   ],
   "source": [
    "print(boxes)"
   ]
  },
  {
   "cell_type": "code",
   "execution_count": 22,
   "metadata": {},
   "outputs": [
    {
     "name": "stdout",
     "output_type": "stream",
     "text": [
      "['T', '388', '708', '479', '824', '0']\n",
      "['h', '490', '708', '574', '827', '0']\n",
      "['e', '587', '707', '673', '796', '0']\n",
      "['q', '711', '679', '802', '796', '0']\n",
      "['u', '739', '679', '904', '833', '0']\n",
      "['i', '821', '706', '953', '833', '0']\n",
      "['c', '966', '707', '1045', '796', '0']\n",
      "['k', '1056', '708', '1144', '827', '0']\n",
      "['b', '379', '540', '470', '661', '0']\n",
      "['r', '484', '542', '543', '630', '0']\n",
      "['o', '545', '540', '636', '630', '0']\n",
      "['w', '588', '540', '749', '661', '0']\n",
      "['n', '641', '542', '873', '630', '0']\n",
      "['f', '915', '542', '977', '663', '0']\n",
      "['o', '976', '540', '1067', '630', '0']\n",
      "['x', '1068', '542', '1161', '628', '0']\n",
      "['j', '319', '345', '367', '501', '0']\n",
      "['u', '384', '374', '468', '462', '0']\n",
      "['m', '487', '376', '621', '464', '0']\n",
      "['p', '522', '345', '689', '501', '0']\n",
      "['s', '640', '347', '814', '464', '0']\n",
      "['o', '852', '374', '938', '464', '0']\n",
      "['v', '852', '374', '943', '464', '0']\n",
      "['e', '946', '376', '1040', '462', '0']\n",
      "['r', '1043', '374', '1201', '464', '0']\n",
      "['a', '352', '208', '437', '298', '0']\n",
      "['l', '482', '210', '510', '329', '0']\n",
      "['a', '525', '208', '609', '298', '0']\n",
      "['z', '616', '210', '694', '296', '0']\n",
      "['y', '697', '178', '791', '296', '0']\n",
      "['d', '827', '208', '918', '329', '0']\n",
      "['o', '932', '208', '1023', '298', '0']\n",
      "['g', '948', '178', '1082', '329', '0']\n",
      "['.', '1031', '178', '1172', '298', '0']\n"
     ]
    }
   ],
   "source": [
    "img = cv2.imread('/home/mush/Computer_vision/ocr/quickfox.jpg')\n",
    "\n",
    "for b in boxes.splitlines():\n",
    "    b = b.split(' ')\n",
    "    print(b)\n",
    "\n",
    "    img = cv2.rectangle(img,(int(b[1]),h - int(b[2])),(int(b[3]),h - int(b[4])),(0,255,0),3) #x,y values\n",
    "\n",
    "\n",
    "cv2.imshow('img',img)\n",
    "cv2.waitKey()\n",
    "cv2.destroyAllWindows()"
   ]
  },
  {
   "cell_type": "code",
   "execution_count": 12,
   "metadata": {},
   "outputs": [
    {
     "data": {
      "text/plain": [
       "['.', '1031', '178', '1172', '298', '0']"
      ]
     },
     "execution_count": 12,
     "metadata": {},
     "output_type": "execute_result"
    }
   ],
   "source": [
    "b"
   ]
  },
  {
   "cell_type": "code",
   "execution_count": 17,
   "metadata": {},
   "outputs": [
    {
     "ename": "AttributeError",
     "evalue": "module 'cv2' has no attribute 'waitkey'",
     "output_type": "error",
     "traceback": [
      "\u001b[0;31m---------------------------------------------------------------------------\u001b[0m",
      "\u001b[0;31mAttributeError\u001b[0m                            Traceback (most recent call last)",
      "Cell \u001b[0;32mIn[17], line 2\u001b[0m\n\u001b[1;32m      1\u001b[0m cv2\u001b[39m.\u001b[39mimshow(\u001b[39m'\u001b[39m\u001b[39mimg\u001b[39m\u001b[39m'\u001b[39m,img)\n\u001b[0;32m----> 2\u001b[0m cv2\u001b[39m.\u001b[39;49mwaitkey()\n\u001b[1;32m      3\u001b[0m cv2\u001b[39m.\u001b[39mdestroyAllWindows()\n",
      "\u001b[0;31mAttributeError\u001b[0m: module 'cv2' has no attribute 'waitkey'"
     ]
    }
   ],
   "source": [
    "mg = cv2.imread('/home/mush/Computer_vision/ocr/quickfox.jpg')\n",
    "\n",
    "ht,wt,c = img.shape\n",
    "\n",
    "for b in boxes.splitlines():\n",
    "    b = b.split(' ')"
   ]
  },
  {
   "attachments": {},
   "cell_type": "markdown",
   "metadata": {},
   "source": [
    "# Image to Data"
   ]
  },
  {
   "cell_type": "code",
   "execution_count": 2,
   "metadata": {},
   "outputs": [],
   "source": [
    "from pytesseract import Output"
   ]
  },
  {
   "cell_type": "code",
   "execution_count": 3,
   "metadata": {},
   "outputs": [],
   "source": [
    "img = cv2.imread('/home/mush/Computer_vision/ocr/quickfox.jpg')\n"
   ]
  },
  {
   "cell_type": "code",
   "execution_count": 4,
   "metadata": {},
   "outputs": [],
   "source": [
    "data = pytesseract.image_to_data(img,output_type=Output.DICT)"
   ]
  },
  {
   "cell_type": "code",
   "execution_count": 5,
   "metadata": {},
   "outputs": [
    {
     "data": {
      "text/plain": [
       "{'level': [1, 2, 3, 4, 5, 5, 4, 5, 5, 4, 5, 5, 4, 5, 5, 5],\n",
       " 'page_num': [1, 1, 1, 1, 1, 1, 1, 1, 1, 1, 1, 1, 1, 1, 1, 1],\n",
       " 'block_num': [0, 1, 1, 1, 1, 1, 1, 1, 1, 1, 1, 1, 1, 1, 1, 1],\n",
       " 'par_num': [0, 0, 1, 1, 1, 1, 1, 1, 1, 1, 1, 1, 1, 1, 1, 1],\n",
       " 'line_num': [0, 0, 0, 1, 1, 1, 2, 2, 2, 3, 3, 3, 4, 4, 4, 4],\n",
       " 'word_num': [0, 0, 0, 0, 1, 2, 0, 1, 2, 0, 1, 2, 0, 1, 2, 3],\n",
       " 'left': [0,\n",
       "  319,\n",
       "  319,\n",
       "  388,\n",
       "  388,\n",
       "  711,\n",
       "  379,\n",
       "  379,\n",
       "  915,\n",
       "  319,\n",
       "  319,\n",
       "  852,\n",
       "  352,\n",
       "  352,\n",
       "  482,\n",
       "  827],\n",
       " 'top': [0,\n",
       "  191,\n",
       "  191,\n",
       "  191,\n",
       "  197,\n",
       "  191,\n",
       "  361,\n",
       "  363,\n",
       "  361,\n",
       "  523,\n",
       "  523,\n",
       "  560,\n",
       "  695,\n",
       "  726,\n",
       "  695,\n",
       "  695],\n",
       " 'width': [1536,\n",
       "  882,\n",
       "  882,\n",
       "  756,\n",
       "  285,\n",
       "  433,\n",
       "  782,\n",
       "  494,\n",
       "  246,\n",
       "  882,\n",
       "  495,\n",
       "  349,\n",
       "  820,\n",
       "  85,\n",
       "  309,\n",
       "  345],\n",
       " 'height': [1024,\n",
       "  655,\n",
       "  655,\n",
       "  154,\n",
       "  120,\n",
       "  154,\n",
       "  123,\n",
       "  121,\n",
       "  123,\n",
       "  156,\n",
       "  156,\n",
       "  90,\n",
       "  151,\n",
       "  90,\n",
       "  151,\n",
       "  151],\n",
       " 'conf': [-1, -1, -1, -1, 96, 96, -1, 96, 96, -1, 95, 95, -1, 48, 48, 95],\n",
       " 'text': ['',\n",
       "  '',\n",
       "  '',\n",
       "  '',\n",
       "  'The',\n",
       "  'quick',\n",
       "  '',\n",
       "  'brown',\n",
       "  'fox',\n",
       "  '',\n",
       "  'jumps',\n",
       "  'over',\n",
       "  '',\n",
       "  'a',\n",
       "  'lazy',\n",
       "  'dog.']}"
      ]
     },
     "execution_count": 5,
     "metadata": {},
     "output_type": "execute_result"
    }
   ],
   "source": [
    "data"
   ]
  },
  {
   "cell_type": "code",
   "execution_count": 7,
   "metadata": {},
   "outputs": [
    {
     "data": {
      "text/plain": [
       "dict_keys(['level', 'page_num', 'block_num', 'par_num', 'line_num', 'word_num', 'left', 'top', 'width', 'height', 'conf', 'text'])"
      ]
     },
     "execution_count": 7,
     "metadata": {},
     "output_type": "execute_result"
    }
   ],
   "source": [
    "data.keys()"
   ]
  },
  {
   "cell_type": "code",
   "execution_count": 8,
   "metadata": {},
   "outputs": [
    {
     "data": {
      "text/plain": [
       "['',\n",
       " '',\n",
       " '',\n",
       " '',\n",
       " 'The',\n",
       " 'quick',\n",
       " '',\n",
       " 'brown',\n",
       " 'fox',\n",
       " '',\n",
       " 'jumps',\n",
       " 'over',\n",
       " '',\n",
       " 'a',\n",
       " 'lazy',\n",
       " 'dog.']"
      ]
     },
     "execution_count": 8,
     "metadata": {},
     "output_type": "execute_result"
    }
   ],
   "source": [
    "data['text']"
   ]
  },
  {
   "cell_type": "code",
   "execution_count": 9,
   "metadata": {},
   "outputs": [
    {
     "data": {
      "text/plain": [
       "[-1, -1, -1, -1, 96, 96, -1, 96, 96, -1, 95, 95, -1, 48, 48, 95]"
      ]
     },
     "execution_count": 9,
     "metadata": {},
     "output_type": "execute_result"
    }
   ],
   "source": [
    "data['conf']"
   ]
  },
  {
   "cell_type": "code",
   "execution_count": 10,
   "metadata": {},
   "outputs": [
    {
     "data": {
      "text/plain": [
       "16"
      ]
     },
     "execution_count": 10,
     "metadata": {},
     "output_type": "execute_result"
    }
   ],
   "source": [
    "#Bounding boxes to draw\n",
    "n_boxes = len(data['text'])\n",
    "n_boxes"
   ]
  },
  {
   "cell_type": "code",
   "execution_count": 12,
   "metadata": {},
   "outputs": [],
   "source": [
    "img = cv2.imread('/home/mush/Computer_vision/ocr/quickfox.jpg')\n",
    "\n",
    "for i in range(n_boxes):\n",
    "    if data['conf'][i]>90:#Based on data['conf'] values which is above 90,so it detects values above 90 to draw rectangle\n",
    "        x,y,w,h= data['left'][i], data['top'][i], data['width'][i], data['height'][i]\n",
    "        \n",
    "        img =  cv2.rectangle(img,(x,y),(x+w,y+h),(0,255,0),3)\n",
    "\n",
    "\n",
    "cv2.imshow('img',img)\n",
    "cv2.waitKey()\n",
    "cv2.destroyAllWindows()\n"
   ]
  },
  {
   "attachments": {},
   "cell_type": "markdown",
   "metadata": {},
   "source": [
    "12/01/2023\n",
    "--\n"
   ]
  },
  {
   "cell_type": "code",
   "execution_count": null,
   "metadata": {},
   "outputs": [],
   "source": []
  }
 ],
 "metadata": {
  "kernelspec": {
   "display_name": "Python 3",
   "language": "python",
   "name": "python3"
  },
  "language_info": {
   "codemirror_mode": {
    "name": "ipython",
    "version": 3
   },
   "file_extension": ".py",
   "mimetype": "text/x-python",
   "name": "python",
   "nbconvert_exporter": "python",
   "pygments_lexer": "ipython3",
   "version": "3.8.10 (default, Nov 14 2022, 12:59:47) \n[GCC 9.4.0]"
  },
  "orig_nbformat": 4,
  "vscode": {
   "interpreter": {
    "hash": "31f2aee4e71d21fbe5cf8b01ff0e069b9275f58929596ceb00d14d90e3e16cd6"
   }
  }
 },
 "nbformat": 4,
 "nbformat_minor": 2
}
