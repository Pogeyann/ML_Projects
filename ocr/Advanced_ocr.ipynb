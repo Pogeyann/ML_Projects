{
 "cells": [
  {
   "attachments": {},
   "cell_type": "markdown",
   "metadata": {},
   "source": [
    "12/01/2023\n",
    "--\n"
   ]
  },
  {
   "attachments": {},
   "cell_type": "markdown",
   "metadata": {},
   "source": [
    "Regex-Regular Expression"
   ]
  },
  {
   "cell_type": "code",
   "execution_count": 2,
   "metadata": {},
   "outputs": [],
   "source": [
    "import cv2\n",
    "import pytesseract\n",
    "from pytesseract import Output"
   ]
  },
  {
   "cell_type": "code",
   "execution_count": 3,
   "metadata": {},
   "outputs": [],
   "source": [
    "img = cv2.imread('/home/mush/Computer_vision/face_detection/invoice.jpg')\n",
    "\n",
    "cv2.imshow('invoice',img)\n",
    "cv2.waitKey()\n",
    "cv2.destroyAllWindows()\n"
   ]
  },
  {
   "cell_type": "code",
   "execution_count": 4,
   "metadata": {},
   "outputs": [
    {
     "data": {
      "text/plain": [
       "(1080, 1000, 3)"
      ]
     },
     "execution_count": 4,
     "metadata": {},
     "output_type": "execute_result"
    }
   ],
   "source": [
    "img.shape"
   ]
  },
  {
   "cell_type": "code",
   "execution_count": 5,
   "metadata": {},
   "outputs": [],
   "source": [
    "resized_img = cv2.resize(img,(240,400))"
   ]
  },
  {
   "cell_type": "code",
   "execution_count": 6,
   "metadata": {},
   "outputs": [
    {
     "data": {
      "text/plain": [
       "(400, 240, 3)"
      ]
     },
     "execution_count": 6,
     "metadata": {},
     "output_type": "execute_result"
    }
   ],
   "source": [
    "resized_img.shape"
   ]
  },
  {
   "cell_type": "code",
   "execution_count": 7,
   "metadata": {},
   "outputs": [],
   "source": [
    "cv2.imshow('invoice',img)\n",
    "cv2.waitKey()\n",
    "cv2.destroyAllWindows()\n"
   ]
  },
  {
   "cell_type": "code",
   "execution_count": 4,
   "metadata": {},
   "outputs": [
    {
     "data": {
      "text/plain": [
       "dict_keys(['level', 'page_num', 'block_num', 'par_num', 'line_num', 'word_num', 'left', 'top', 'width', 'height', 'conf', 'text'])"
      ]
     },
     "execution_count": 4,
     "metadata": {},
     "output_type": "execute_result"
    }
   ],
   "source": [
    "data = pytesseract.image_to_data(img,output_type=Output.DICT)\n",
    "data.keys()"
   ]
  },
  {
   "cell_type": "code",
   "execution_count": 9,
   "metadata": {},
   "outputs": [
    {
     "data": {
      "text/plain": [
       "157"
      ]
     },
     "execution_count": 9,
     "metadata": {},
     "output_type": "execute_result"
    }
   ],
   "source": [
    "len(data['text'])"
   ]
  },
  {
   "cell_type": "code",
   "execution_count": 10,
   "metadata": {},
   "outputs": [
    {
     "data": {
      "text/plain": [
       "[-1,\n",
       " -1,\n",
       " -1,\n",
       " -1,\n",
       " 31,\n",
       " 91,\n",
       " 91,\n",
       " 96,\n",
       " -1,\n",
       " -1,\n",
       " -1,\n",
       " 96,\n",
       " -1,\n",
       " -1,\n",
       " -1,\n",
       " 94,\n",
       " 96,\n",
       " 42,\n",
       " -1,\n",
       " -1,\n",
       " -1,\n",
       " 89,\n",
       " 96,\n",
       " -1,\n",
       " 85,\n",
       " 83,\n",
       " 83,\n",
       " 79,\n",
       " -1,\n",
       " -1,\n",
       " -1,\n",
       " 87,\n",
       " 87,\n",
       " 96,\n",
       " -1,\n",
       " -1,\n",
       " -1,\n",
       " 95,\n",
       " -1,\n",
       " -1,\n",
       " -1,\n",
       " 0,\n",
       " 0,\n",
       " 96,\n",
       " 93,\n",
       " 96,\n",
       " 96,\n",
       " -1,\n",
       " 96,\n",
       " 96,\n",
       " 95,\n",
       " 67,\n",
       " -1,\n",
       " 1,\n",
       " 1,\n",
       " 68,\n",
       " 68,\n",
       " 73,\n",
       " 96,\n",
       " 86,\n",
       " 84,\n",
       " -1,\n",
       " 90,\n",
       " 95,\n",
       " 66,\n",
       " 66,\n",
       " 83,\n",
       " 84,\n",
       " 90,\n",
       " -1,\n",
       " 79,\n",
       " 81,\n",
       " 80,\n",
       " 96,\n",
       " 89,\n",
       " 87,\n",
       " -1,\n",
       " 91,\n",
       " 92,\n",
       " 74,\n",
       " 96,\n",
       " 72,\n",
       " 89,\n",
       " -1,\n",
       " 92,\n",
       " 63,\n",
       " 63,\n",
       " 92,\n",
       " 64,\n",
       " 84,\n",
       " 87,\n",
       " -1,\n",
       " 54,\n",
       " 91,\n",
       " 91,\n",
       " 93,\n",
       " 0,\n",
       " 78,\n",
       " 81,\n",
       " -1,\n",
       " 94,\n",
       " 62,\n",
       " -1,\n",
       " 3,\n",
       " 3,\n",
       " 86,\n",
       " -1,\n",
       " -1,\n",
       " -1,\n",
       " 90,\n",
       " 24,\n",
       " -1,\n",
       " -1,\n",
       " -1,\n",
       " 92,\n",
       " 96,\n",
       " 94,\n",
       " 75,\n",
       " -1,\n",
       " 48,\n",
       " 35,\n",
       " 91,\n",
       " 93,\n",
       " 88,\n",
       " -1,\n",
       " -1,\n",
       " -1,\n",
       " 96,\n",
       " 96,\n",
       " 96,\n",
       " 96,\n",
       " 96,\n",
       " 96,\n",
       " -1,\n",
       " -1,\n",
       " -1,\n",
       " 94,\n",
       " -1,\n",
       " -1,\n",
       " -1,\n",
       " 95,\n",
       " -1,\n",
       " -1,\n",
       " -1,\n",
       " 87,\n",
       " 87,\n",
       " 80,\n",
       " 80,\n",
       " 88,\n",
       " -1,\n",
       " -1,\n",
       " -1,\n",
       " 83,\n",
       " -1,\n",
       " -1,\n",
       " -1,\n",
       " 95]"
      ]
     },
     "execution_count": 10,
     "metadata": {},
     "output_type": "execute_result"
    }
   ],
   "source": [
    "data['conf']"
   ]
  },
  {
   "cell_type": "code",
   "execution_count": 11,
   "metadata": {},
   "outputs": [],
   "source": [
    "n_boxes = len(data['text'])\n",
    "for i in range(n_boxes):\n",
    "    if data['conf'][i]>60:\n",
    "        x,y,w,h=data['left'][i],data['top'][i],data['width'][i],data['height'][i]\n",
    "\n",
    "        img = cv2.rectangle(img,(x,y),(x+w,y+h),(0,255,0),3)\n",
    "\n",
    "\n",
    "cv2.imshow('rectimg',img)\n",
    "cv2.waitKey()\n",
    "cv2.destroyAllWindows()"
   ]
  },
  {
   "cell_type": "code",
   "execution_count": 6,
   "metadata": {},
   "outputs": [],
   "source": [
    "date_pattern = '^(0[1-9]|[12][0-9]|3[01])/(0[1-9]|1[012])/(19|20)\\d\\d$'\n",
    "mail_pattern =\t'^[a-z0-9](\\.?[a-z0-9]){5,}@example\\.net$'"
   ]
  },
  {
   "cell_type": "code",
   "execution_count": 8,
   "metadata": {},
   "outputs": [],
   "source": [
    "import re\n",
    "\n",
    "\n",
    "img = cv2.imread('/home/mush/Computer_vision/ocr/WhatsApp Image 2023-01-11 at 20.06.04.jpeg')\n",
    "\n",
    "n_boxes = len(data['text'])\n",
    "for i in range(n_boxes):\n",
    "    if data['conf'][i]>60:\n",
    "        if re.match(mail_pattern,data['text'][i]):\n",
    "            x,y,w,h=data['left'][i],data['top'][i],data['width'][i],data['height'][i]\n",
    "\n",
    "            img = cv2.rectangle(img,(x,y),(x+w,y+h),(0,255,0),1)\n",
    "\n",
    "\n",
    "cv2.imshow('invoice',img)\n",
    "cv2.waitKey()\n",
    "cv2.destroyAllWindows()"
   ]
  }
 ],
 "metadata": {
  "kernelspec": {
   "display_name": "Python 3",
   "language": "python",
   "name": "python3"
  },
  "language_info": {
   "codemirror_mode": {
    "name": "ipython",
    "version": 3
   },
   "file_extension": ".py",
   "mimetype": "text/x-python",
   "name": "python",
   "nbconvert_exporter": "python",
   "pygments_lexer": "ipython3",
   "version": "3.8.10 (default, Nov 14 2022, 12:59:47) \n[GCC 9.4.0]"
  },
  "orig_nbformat": 4,
  "vscode": {
   "interpreter": {
    "hash": "31f2aee4e71d21fbe5cf8b01ff0e069b9275f58929596ceb00d14d90e3e16cd6"
   }
  }
 },
 "nbformat": 4,
 "nbformat_minor": 2
}
