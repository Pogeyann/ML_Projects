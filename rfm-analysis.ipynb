{
 "cells": [
  {
   "cell_type": "code",
   "execution_count": 1,
   "id": "4c499576",
   "metadata": {
    "execution": {
     "iopub.execute_input": "2023-04-26T03:47:42.759290Z",
     "iopub.status.busy": "2023-04-26T03:47:42.758291Z",
     "iopub.status.idle": "2023-04-26T03:47:42.765268Z",
     "shell.execute_reply": "2023-04-26T03:47:42.763947Z"
    },
    "papermill": {
     "duration": 0.026111,
     "end_time": "2023-04-26T03:47:42.770054",
     "exception": false,
     "start_time": "2023-04-26T03:47:42.743943",
     "status": "completed"
    },
    "tags": []
   },
   "outputs": [],
   "source": [
    "# RFM (Recency Frequency Monetary) Analysis\n"
   ]
  },
  {
   "cell_type": "markdown",
   "id": "22acdc5e",
   "metadata": {
    "papermill": {
     "duration": 0.011857,
     "end_time": "2023-04-26T03:47:42.794206",
     "exception": false,
     "start_time": "2023-04-26T03:47:42.782349",
     "status": "completed"
    },
    "tags": []
   },
   "source": [
    "**RFM** is a method used for analysing customer value. It is commonly used in database marketing and direct marketing and has received particular attention in retail and professional services industries\n",
    "\n",
    "RFM stands for the three dimensions:\n",
    "\n",
    "* Recency – How recently did the customer purchase?\n",
    "* Frequency – How often do they purchase?\n",
    "* Monetary Value – How much do they spend?\n",
    "\n",
    "Before starting RFM analysis we need to set objective and outcome of analysis, for this example goal is to define class of customer example - Platinum, Gold and Silver.\n",
    "\n",
    "* Platinum customer - frequent and more revenue generator.\n",
    "* Gold customer - frequent but less revenue generator.\n",
    "* Silver customer - less frequent and less revenue generator."
   ]
  },
  {
   "cell_type": "code",
   "execution_count": 2,
   "id": "3425cf9a",
   "metadata": {
    "execution": {
     "iopub.execute_input": "2023-04-26T03:47:42.821076Z",
     "iopub.status.busy": "2023-04-26T03:47:42.819749Z",
     "iopub.status.idle": "2023-04-26T03:47:44.065901Z",
     "shell.execute_reply": "2023-04-26T03:47:44.064558Z"
    },
    "papermill": {
     "duration": 1.262655,
     "end_time": "2023-04-26T03:47:44.068745",
     "exception": false,
     "start_time": "2023-04-26T03:47:42.806090",
     "status": "completed"
    },
    "tags": []
   },
   "outputs": [],
   "source": [
    "# Importing all dependencies\n",
    "import pandas as pd\n",
    "import numpy as np\n",
    "import matplotlib.pyplot as plt\n",
    "import seaborn as sns\n",
    "\n",
    "import warnings\n",
    "warnings.filterwarnings('ignore')\n"
   ]
  },
  {
   "cell_type": "code",
   "execution_count": 3,
   "id": "b619b8b5",
   "metadata": {
    "execution": {
     "iopub.execute_input": "2023-04-26T03:47:44.095615Z",
     "iopub.status.busy": "2023-04-26T03:47:44.095200Z",
     "iopub.status.idle": "2023-04-26T03:47:45.634282Z",
     "shell.execute_reply": "2023-04-26T03:47:45.632978Z"
    },
    "papermill": {
     "duration": 1.555938,
     "end_time": "2023-04-26T03:47:45.637835",
     "exception": false,
     "start_time": "2023-04-26T03:47:44.081897",
     "status": "completed"
    },
    "tags": []
   },
   "outputs": [
    {
     "data": {
      "text/html": [
       "<div>\n",
       "<style scoped>\n",
       "    .dataframe tbody tr th:only-of-type {\n",
       "        vertical-align: middle;\n",
       "    }\n",
       "\n",
       "    .dataframe tbody tr th {\n",
       "        vertical-align: top;\n",
       "    }\n",
       "\n",
       "    .dataframe thead th {\n",
       "        text-align: right;\n",
       "    }\n",
       "</style>\n",
       "<table border=\"1\" class=\"dataframe\">\n",
       "  <thead>\n",
       "    <tr style=\"text-align: right;\">\n",
       "      <th></th>\n",
       "      <th>InvoiceNo</th>\n",
       "      <th>StockCode</th>\n",
       "      <th>Description</th>\n",
       "      <th>Quantity</th>\n",
       "      <th>InvoiceDate</th>\n",
       "      <th>UnitPrice</th>\n",
       "      <th>CustomerID</th>\n",
       "      <th>Country</th>\n",
       "    </tr>\n",
       "  </thead>\n",
       "  <tbody>\n",
       "    <tr>\n",
       "      <th>0</th>\n",
       "      <td>536365</td>\n",
       "      <td>85123A</td>\n",
       "      <td>WHITE HANGING HEART T-LIGHT HOLDER</td>\n",
       "      <td>6</td>\n",
       "      <td>12/1/2010 8:26</td>\n",
       "      <td>2.55</td>\n",
       "      <td>17850.0</td>\n",
       "      <td>United Kingdom</td>\n",
       "    </tr>\n",
       "    <tr>\n",
       "      <th>1</th>\n",
       "      <td>536365</td>\n",
       "      <td>71053</td>\n",
       "      <td>WHITE METAL LANTERN</td>\n",
       "      <td>6</td>\n",
       "      <td>12/1/2010 8:26</td>\n",
       "      <td>3.39</td>\n",
       "      <td>17850.0</td>\n",
       "      <td>United Kingdom</td>\n",
       "    </tr>\n",
       "    <tr>\n",
       "      <th>2</th>\n",
       "      <td>536365</td>\n",
       "      <td>84406B</td>\n",
       "      <td>CREAM CUPID HEARTS COAT HANGER</td>\n",
       "      <td>8</td>\n",
       "      <td>12/1/2010 8:26</td>\n",
       "      <td>2.75</td>\n",
       "      <td>17850.0</td>\n",
       "      <td>United Kingdom</td>\n",
       "    </tr>\n",
       "    <tr>\n",
       "      <th>3</th>\n",
       "      <td>536365</td>\n",
       "      <td>84029G</td>\n",
       "      <td>KNITTED UNION FLAG HOT WATER BOTTLE</td>\n",
       "      <td>6</td>\n",
       "      <td>12/1/2010 8:26</td>\n",
       "      <td>3.39</td>\n",
       "      <td>17850.0</td>\n",
       "      <td>United Kingdom</td>\n",
       "    </tr>\n",
       "    <tr>\n",
       "      <th>4</th>\n",
       "      <td>536365</td>\n",
       "      <td>84029E</td>\n",
       "      <td>RED WOOLLY HOTTIE WHITE HEART.</td>\n",
       "      <td>6</td>\n",
       "      <td>12/1/2010 8:26</td>\n",
       "      <td>3.39</td>\n",
       "      <td>17850.0</td>\n",
       "      <td>United Kingdom</td>\n",
       "    </tr>\n",
       "  </tbody>\n",
       "</table>\n",
       "</div>"
      ],
      "text/plain": [
       "  InvoiceNo StockCode                          Description  Quantity  \\\n",
       "0    536365    85123A   WHITE HANGING HEART T-LIGHT HOLDER         6   \n",
       "1    536365     71053                  WHITE METAL LANTERN         6   \n",
       "2    536365    84406B       CREAM CUPID HEARTS COAT HANGER         8   \n",
       "3    536365    84029G  KNITTED UNION FLAG HOT WATER BOTTLE         6   \n",
       "4    536365    84029E       RED WOOLLY HOTTIE WHITE HEART.         6   \n",
       "\n",
       "      InvoiceDate  UnitPrice  CustomerID         Country  \n",
       "0  12/1/2010 8:26       2.55     17850.0  United Kingdom  \n",
       "1  12/1/2010 8:26       3.39     17850.0  United Kingdom  \n",
       "2  12/1/2010 8:26       2.75     17850.0  United Kingdom  \n",
       "3  12/1/2010 8:26       3.39     17850.0  United Kingdom  \n",
       "4  12/1/2010 8:26       3.39     17850.0  United Kingdom  "
      ]
     },
     "execution_count": 3,
     "metadata": {},
     "output_type": "execute_result"
    }
   ],
   "source": [
    "# load the data\n",
    "df = pd.read_csv('/kaggle/input/ecommerce-data/data.csv', encoding='ISO-8859-1')\n",
    "df.head()"
   ]
  },
  {
   "cell_type": "code",
   "execution_count": 4,
   "id": "7d2891a4",
   "metadata": {
    "execution": {
     "iopub.execute_input": "2023-04-26T03:47:45.663996Z",
     "iopub.status.busy": "2023-04-26T03:47:45.662985Z",
     "iopub.status.idle": "2023-04-26T03:47:45.830360Z",
     "shell.execute_reply": "2023-04-26T03:47:45.828646Z"
    },
    "papermill": {
     "duration": 0.183658,
     "end_time": "2023-04-26T03:47:45.833354",
     "exception": false,
     "start_time": "2023-04-26T03:47:45.649696",
     "status": "completed"
    },
    "tags": []
   },
   "outputs": [
    {
     "name": "stdout",
     "output_type": "stream",
     "text": [
      "<class 'pandas.core.frame.DataFrame'>\n",
      "RangeIndex: 541909 entries, 0 to 541908\n",
      "Data columns (total 8 columns):\n",
      " #   Column       Non-Null Count   Dtype  \n",
      "---  ------       --------------   -----  \n",
      " 0   InvoiceNo    541909 non-null  object \n",
      " 1   StockCode    541909 non-null  object \n",
      " 2   Description  540455 non-null  object \n",
      " 3   Quantity     541909 non-null  int64  \n",
      " 4   InvoiceDate  541909 non-null  object \n",
      " 5   UnitPrice    541909 non-null  float64\n",
      " 6   CustomerID   406829 non-null  float64\n",
      " 7   Country      541909 non-null  object \n",
      "dtypes: float64(2), int64(1), object(5)\n",
      "memory usage: 33.1+ MB\n"
     ]
    }
   ],
   "source": [
    "df.info()"
   ]
  },
  {
   "cell_type": "code",
   "execution_count": 5,
   "id": "ecba651c",
   "metadata": {
    "execution": {
     "iopub.execute_input": "2023-04-26T03:47:45.860419Z",
     "iopub.status.busy": "2023-04-26T03:47:45.859773Z",
     "iopub.status.idle": "2023-04-26T03:47:46.003399Z",
     "shell.execute_reply": "2023-04-26T03:47:46.002109Z"
    },
    "papermill": {
     "duration": 0.159893,
     "end_time": "2023-04-26T03:47:46.005838",
     "exception": false,
     "start_time": "2023-04-26T03:47:45.845945",
     "status": "completed"
    },
    "tags": []
   },
   "outputs": [
    {
     "data": {
      "text/plain": [
       "InvoiceNo           0\n",
       "StockCode           0\n",
       "Description      1454\n",
       "Quantity            0\n",
       "InvoiceDate         0\n",
       "UnitPrice           0\n",
       "CustomerID     135080\n",
       "Country             0\n",
       "dtype: int64"
      ]
     },
     "execution_count": 5,
     "metadata": {},
     "output_type": "execute_result"
    }
   ],
   "source": [
    "df.isna().sum()"
   ]
  },
  {
   "cell_type": "code",
   "execution_count": 6,
   "id": "772744c0",
   "metadata": {
    "execution": {
     "iopub.execute_input": "2023-04-26T03:47:46.032383Z",
     "iopub.status.busy": "2023-04-26T03:47:46.031252Z",
     "iopub.status.idle": "2023-04-26T03:47:46.075604Z",
     "shell.execute_reply": "2023-04-26T03:47:46.074342Z"
    },
    "papermill": {
     "duration": 0.060702,
     "end_time": "2023-04-26T03:47:46.078459",
     "exception": false,
     "start_time": "2023-04-26T03:47:46.017757",
     "status": "completed"
    },
    "tags": []
   },
   "outputs": [
    {
     "data": {
      "text/plain": [
       "United Kingdom    495478\n",
       "Germany             9495\n",
       "France              8557\n",
       "EIRE                8196\n",
       "Spain               2533\n",
       "Name: Country, dtype: int64"
      ]
     },
     "execution_count": 6,
     "metadata": {},
     "output_type": "execute_result"
    }
   ],
   "source": [
    "df.Country.value_counts().head(5)"
   ]
  },
  {
   "cell_type": "code",
   "execution_count": 7,
   "id": "44d7d925",
   "metadata": {
    "execution": {
     "iopub.execute_input": "2023-04-26T03:47:46.105040Z",
     "iopub.status.busy": "2023-04-26T03:47:46.104222Z",
     "iopub.status.idle": "2023-04-26T03:47:46.209412Z",
     "shell.execute_reply": "2023-04-26T03:47:46.207977Z"
    },
    "papermill": {
     "duration": 0.121492,
     "end_time": "2023-04-26T03:47:46.212176",
     "exception": false,
     "start_time": "2023-04-26T03:47:46.090684",
     "status": "completed"
    },
    "tags": []
   },
   "outputs": [],
   "source": [
    "df1 = df[df.Country == 'United Kingdom']"
   ]
  },
  {
   "cell_type": "code",
   "execution_count": 8,
   "id": "081a5b6d",
   "metadata": {
    "execution": {
     "iopub.execute_input": "2023-04-26T03:47:46.239244Z",
     "iopub.status.busy": "2023-04-26T03:47:46.238010Z",
     "iopub.status.idle": "2023-04-26T03:47:47.495875Z",
     "shell.execute_reply": "2023-04-26T03:47:47.494500Z"
    },
    "papermill": {
     "duration": 1.274178,
     "end_time": "2023-04-26T03:47:47.498552",
     "exception": false,
     "start_time": "2023-04-26T03:47:46.224374",
     "status": "completed"
    },
    "tags": []
   },
   "outputs": [
    {
     "data": {
      "text/plain": [
       "<AxesSubplot:>"
      ]
     },
     "execution_count": 8,
     "metadata": {},
     "output_type": "execute_result"
    },
    {
     "data": {
      "image/png": "[encoded data removed]",
      "text/plain": [
       "<Figure size 640x480 with 1 Axes>"
      ]
     },
     "metadata": {},
     "output_type": "display_data"
    }
   ],
   "source": [
    "sns.violinplot(df1.Quantity)"
   ]
  },
  {
   "cell_type": "code",
   "execution_count": 9,
   "id": "00b6be1d",
   "metadata": {
    "execution": {
     "iopub.execute_input": "2023-04-26T03:47:47.526799Z",
     "iopub.status.busy": "2023-04-26T03:47:47.525494Z",
     "iopub.status.idle": "2023-04-26T03:47:47.554132Z",
     "shell.execute_reply": "2023-04-26T03:47:47.552741Z"
    },
    "papermill": {
     "duration": 0.045452,
     "end_time": "2023-04-26T03:47:47.556810",
     "exception": false,
     "start_time": "2023-04-26T03:47:47.511358",
     "status": "completed"
    },
    "tags": []
   },
   "outputs": [
    {
     "data": {
      "text/plain": [
       "count    495478.000000\n",
       "mean          8.605486\n",
       "std         227.588756\n",
       "min      -80995.000000\n",
       "25%           1.000000\n",
       "50%           3.000000\n",
       "75%          10.000000\n",
       "max       80995.000000\n",
       "Name: Quantity, dtype: float64"
      ]
     },
     "execution_count": 9,
     "metadata": {},
     "output_type": "execute_result"
    }
   ],
   "source": [
    "df1.Quantity.describe()"
   ]
  },
  {
   "cell_type": "code",
   "execution_count": 10,
   "id": "7d1dc0ca",
   "metadata": {
    "execution": {
     "iopub.execute_input": "2023-04-26T03:47:47.586557Z",
     "iopub.status.busy": "2023-04-26T03:47:47.586082Z",
     "iopub.status.idle": "2023-04-26T03:47:47.693116Z",
     "shell.execute_reply": "2023-04-26T03:47:47.691836Z"
    },
    "papermill": {
     "duration": 0.125011,
     "end_time": "2023-04-26T03:47:47.695933",
     "exception": false,
     "start_time": "2023-04-26T03:47:47.570922",
     "status": "completed"
    },
    "tags": []
   },
   "outputs": [
    {
     "data": {
      "text/plain": [
       "count    531285.000000\n",
       "mean         10.655262\n",
       "std         156.830323\n",
       "min           1.000000\n",
       "25%           1.000000\n",
       "50%           3.000000\n",
       "75%          10.000000\n",
       "max       80995.000000\n",
       "Name: Quantity, dtype: float64"
      ]
     },
     "execution_count": 10,
     "metadata": {},
     "output_type": "execute_result"
    }
   ],
   "source": [
    "# Quantity can not be negative so remove negative values...\n",
    "df1 = df[df['Quantity']>=0]\n",
    "df1.Quantity.describe()"
   ]
  },
  {
   "cell_type": "code",
   "execution_count": 11,
   "id": "cbbca851",
   "metadata": {
    "execution": {
     "iopub.execute_input": "2023-04-26T03:47:47.724414Z",
     "iopub.status.busy": "2023-04-26T03:47:47.723928Z",
     "iopub.status.idle": "2023-04-26T03:47:48.993665Z",
     "shell.execute_reply": "2023-04-26T03:47:48.992373Z"
    },
    "papermill": {
     "duration": 1.287126,
     "end_time": "2023-04-26T03:47:48.996320",
     "exception": false,
     "start_time": "2023-04-26T03:47:47.709194",
     "status": "completed"
    },
    "tags": []
   },
   "outputs": [
    {
     "data": {
      "text/plain": [
       "<AxesSubplot:>"
      ]
     },
     "execution_count": 11,
     "metadata": {},
     "output_type": "execute_result"
    },
    {
     "data": {
      "image/png": "[encoded data removed]",
      "text/plain": [
       "<Figure size 640x480 with 1 Axes>"
      ]
     },
     "metadata": {},
     "output_type": "display_data"
    }
   ],
   "source": [
    "# checking distribution of unit price\n",
    "sns.violinplot(df1.UnitPrice)\n"
   ]
  },
  {
   "cell_type": "code",
   "execution_count": 12,
   "id": "a852e464",
   "metadata": {
    "execution": {
     "iopub.execute_input": "2023-04-26T03:47:49.025235Z",
     "iopub.status.busy": "2023-04-26T03:47:49.024460Z",
     "iopub.status.idle": "2023-04-26T03:47:49.128548Z",
     "shell.execute_reply": "2023-04-26T03:47:49.127325Z"
    },
    "papermill": {
     "duration": 0.121515,
     "end_time": "2023-04-26T03:47:49.131269",
     "exception": false,
     "start_time": "2023-04-26T03:47:49.009754",
     "status": "completed"
    },
    "tags": []
   },
   "outputs": [
    {
     "data": {
      "text/plain": [
       "count    531283.000000\n",
       "mean          3.898954\n",
       "std          35.876279\n",
       "min           0.000000\n",
       "25%           1.250000\n",
       "50%           2.080000\n",
       "75%           4.130000\n",
       "max       13541.330000\n",
       "Name: UnitPrice, dtype: float64"
      ]
     },
     "execution_count": 12,
     "metadata": {},
     "output_type": "execute_result"
    }
   ],
   "source": [
    "df1 = df1[df1['UnitPrice']>=0]\n",
    "df1.UnitPrice.describe()"
   ]
  },
  {
   "cell_type": "code",
   "execution_count": 13,
   "id": "d0990670",
   "metadata": {
    "execution": {
     "iopub.execute_input": "2023-04-26T03:47:49.160780Z",
     "iopub.status.busy": "2023-04-26T03:47:49.160359Z",
     "iopub.status.idle": "2023-04-26T03:47:49.566811Z",
     "shell.execute_reply": "2023-04-26T03:47:49.565888Z"
    },
    "papermill": {
     "duration": 0.424176,
     "end_time": "2023-04-26T03:47:49.569315",
     "exception": false,
     "start_time": "2023-04-26T03:47:49.145139",
     "status": "completed"
    },
    "tags": []
   },
   "outputs": [
    {
     "data": {
      "image/png": "[encoded data removed]",
      "text/plain": [
       "<Figure size 640x480 with 1 Axes>"
      ]
     },
     "metadata": {},
     "output_type": "display_data"
    }
   ],
   "source": [
    "#Checking null values in all columns in dataset\n",
    "\n",
    "null_values = pd.DataFrame(df1.isnull().sum(),columns=['count_value'])\n",
    "ax = sns.barplot(y = null_values.count_value,x = null_values.index)\n"
   ]
  },
  {
   "cell_type": "code",
   "execution_count": 14,
   "id": "0ccbc51a",
   "metadata": {
    "execution": {
     "iopub.execute_input": "2023-04-26T03:47:49.600032Z",
     "iopub.status.busy": "2023-04-26T03:47:49.598894Z",
     "iopub.status.idle": "2023-04-26T03:47:49.660764Z",
     "shell.execute_reply": "2023-04-26T03:47:49.659484Z"
    },
    "papermill": {
     "duration": 0.080319,
     "end_time": "2023-04-26T03:47:49.663669",
     "exception": false,
     "start_time": "2023-04-26T03:47:49.583350",
     "status": "completed"
    },
    "tags": []
   },
   "outputs": [],
   "source": [
    "df1.dropna(subset=['CustomerID'],inplace=True)"
   ]
  },
  {
   "cell_type": "code",
   "execution_count": 15,
   "id": "5a9480d1",
   "metadata": {
    "execution": {
     "iopub.execute_input": "2023-04-26T03:47:49.694450Z",
     "iopub.status.busy": "2023-04-26T03:47:49.693038Z",
     "iopub.status.idle": "2023-04-26T03:47:49.801097Z",
     "shell.execute_reply": "2023-04-26T03:47:49.799765Z"
    },
    "papermill": {
     "duration": 0.126343,
     "end_time": "2023-04-26T03:47:49.803969",
     "exception": false,
     "start_time": "2023-04-26T03:47:49.677626",
     "status": "completed"
    },
    "tags": []
   },
   "outputs": [
    {
     "data": {
      "text/plain": [
       "InvoiceNo      0\n",
       "StockCode      0\n",
       "Description    0\n",
       "Quantity       0\n",
       "InvoiceDate    0\n",
       "UnitPrice      0\n",
       "CustomerID     0\n",
       "Country        0\n",
       "dtype: int64"
      ]
     },
     "execution_count": 15,
     "metadata": {},
     "output_type": "execute_result"
    }
   ],
   "source": [
    "df1.isnull().sum()"
   ]
  },
  {
   "cell_type": "code",
   "execution_count": 16,
   "id": "5d41d670",
   "metadata": {
    "execution": {
     "iopub.execute_input": "2023-04-26T03:47:49.835004Z",
     "iopub.status.busy": "2023-04-26T03:47:49.833563Z",
     "iopub.status.idle": "2023-04-26T03:47:49.871572Z",
     "shell.execute_reply": "2023-04-26T03:47:49.870263Z"
    },
    "papermill": {
     "duration": 0.056624,
     "end_time": "2023-04-26T03:47:49.874676",
     "exception": false,
     "start_time": "2023-04-26T03:47:49.818052",
     "status": "completed"
    },
    "tags": []
   },
   "outputs": [
    {
     "data": {
      "text/plain": [
       "'9/9/2011 9:52'"
      ]
     },
     "execution_count": 16,
     "metadata": {},
     "output_type": "execute_result"
    }
   ],
   "source": [
    "# Last date available\n",
    "df1['InvoiceDate'].max()"
   ]
  },
  {
   "cell_type": "code",
   "execution_count": 17,
   "id": "76ab39dd",
   "metadata": {
    "execution": {
     "iopub.execute_input": "2023-04-26T03:47:49.906693Z",
     "iopub.status.busy": "2023-04-26T03:47:49.905415Z",
     "iopub.status.idle": "2023-04-26T03:47:49.912456Z",
     "shell.execute_reply": "2023-04-26T03:47:49.911102Z"
    },
    "papermill": {
     "duration": 0.025811,
     "end_time": "2023-04-26T03:47:49.915169",
     "exception": false,
     "start_time": "2023-04-26T03:47:49.889358",
     "status": "completed"
    },
    "tags": []
   },
   "outputs": [
    {
     "name": "stdout",
     "output_type": "stream",
     "text": [
      "2011-12-09\n"
     ]
    }
   ],
   "source": [
    "# use latest date in out data as current date....\n",
    "\n",
    "import datetime as dt\n",
    "now = dt.date(2011,12,9)\n",
    "print(now)"
   ]
  },
  {
   "cell_type": "code",
   "execution_count": 18,
   "id": "96ad5d45",
   "metadata": {
    "execution": {
     "iopub.execute_input": "2023-04-26T03:47:49.946594Z",
     "iopub.status.busy": "2023-04-26T03:47:49.945721Z",
     "iopub.status.idle": "2023-04-26T03:48:29.793920Z",
     "shell.execute_reply": "2023-04-26T03:48:29.792288Z"
    },
    "papermill": {
     "duration": 39.867227,
     "end_time": "2023-04-26T03:48:29.796832",
     "exception": false,
     "start_time": "2023-04-26T03:47:49.929605",
     "status": "completed"
    },
    "tags": []
   },
   "outputs": [],
   "source": [
    "df1['date'] = pd.DatetimeIndex(df1.InvoiceDate).date"
   ]
  },
  {
   "cell_type": "code",
   "execution_count": 19,
   "id": "79013813",
   "metadata": {
    "execution": {
     "iopub.execute_input": "2023-04-26T03:48:29.827633Z",
     "iopub.status.busy": "2023-04-26T03:48:29.827148Z",
     "iopub.status.idle": "2023-04-26T03:48:29.843386Z",
     "shell.execute_reply": "2023-04-26T03:48:29.842448Z"
    },
    "papermill": {
     "duration": 0.034504,
     "end_time": "2023-04-26T03:48:29.845904",
     "exception": false,
     "start_time": "2023-04-26T03:48:29.811400",
     "status": "completed"
    },
    "tags": []
   },
   "outputs": [
    {
     "data": {
      "text/html": [
       "<div>\n",
       "<style scoped>\n",
       "    .dataframe tbody tr th:only-of-type {\n",
       "        vertical-align: middle;\n",
       "    }\n",
       "\n",
       "    .dataframe tbody tr th {\n",
       "        vertical-align: top;\n",
       "    }\n",
       "\n",
       "    .dataframe thead th {\n",
       "        text-align: right;\n",
       "    }\n",
       "</style>\n",
       "<table border=\"1\" class=\"dataframe\">\n",
       "  <thead>\n",
       "    <tr style=\"text-align: right;\">\n",
       "      <th></th>\n",
       "      <th>InvoiceNo</th>\n",
       "      <th>StockCode</th>\n",
       "      <th>Description</th>\n",
       "      <th>Quantity</th>\n",
       "      <th>InvoiceDate</th>\n",
       "      <th>UnitPrice</th>\n",
       "      <th>CustomerID</th>\n",
       "      <th>Country</th>\n",
       "      <th>date</th>\n",
       "    </tr>\n",
       "  </thead>\n",
       "  <tbody>\n",
       "    <tr>\n",
       "      <th>0</th>\n",
       "      <td>536365</td>\n",
       "      <td>85123A</td>\n",
       "      <td>WHITE HANGING HEART T-LIGHT HOLDER</td>\n",
       "      <td>6</td>\n",
       "      <td>12/1/2010 8:26</td>\n",
       "      <td>2.55</td>\n",
       "      <td>17850.0</td>\n",
       "      <td>United Kingdom</td>\n",
       "      <td>2010-12-01</td>\n",
       "    </tr>\n",
       "    <tr>\n",
       "      <th>1</th>\n",
       "      <td>536365</td>\n",
       "      <td>71053</td>\n",
       "      <td>WHITE METAL LANTERN</td>\n",
       "      <td>6</td>\n",
       "      <td>12/1/2010 8:26</td>\n",
       "      <td>3.39</td>\n",
       "      <td>17850.0</td>\n",
       "      <td>United Kingdom</td>\n",
       "      <td>2010-12-01</td>\n",
       "    </tr>\n",
       "    <tr>\n",
       "      <th>2</th>\n",
       "      <td>536365</td>\n",
       "      <td>84406B</td>\n",
       "      <td>CREAM CUPID HEARTS COAT HANGER</td>\n",
       "      <td>8</td>\n",
       "      <td>12/1/2010 8:26</td>\n",
       "      <td>2.75</td>\n",
       "      <td>17850.0</td>\n",
       "      <td>United Kingdom</td>\n",
       "      <td>2010-12-01</td>\n",
       "    </tr>\n",
       "    <tr>\n",
       "      <th>3</th>\n",
       "      <td>536365</td>\n",
       "      <td>84029G</td>\n",
       "      <td>KNITTED UNION FLAG HOT WATER BOTTLE</td>\n",
       "      <td>6</td>\n",
       "      <td>12/1/2010 8:26</td>\n",
       "      <td>3.39</td>\n",
       "      <td>17850.0</td>\n",
       "      <td>United Kingdom</td>\n",
       "      <td>2010-12-01</td>\n",
       "    </tr>\n",
       "    <tr>\n",
       "      <th>4</th>\n",
       "      <td>536365</td>\n",
       "      <td>84029E</td>\n",
       "      <td>RED WOOLLY HOTTIE WHITE HEART.</td>\n",
       "      <td>6</td>\n",
       "      <td>12/1/2010 8:26</td>\n",
       "      <td>3.39</td>\n",
       "      <td>17850.0</td>\n",
       "      <td>United Kingdom</td>\n",
       "      <td>2010-12-01</td>\n",
       "    </tr>\n",
       "  </tbody>\n",
       "</table>\n",
       "</div>"
      ],
      "text/plain": [
       "  InvoiceNo StockCode                          Description  Quantity  \\\n",
       "0    536365    85123A   WHITE HANGING HEART T-LIGHT HOLDER         6   \n",
       "1    536365     71053                  WHITE METAL LANTERN         6   \n",
       "2    536365    84406B       CREAM CUPID HEARTS COAT HANGER         8   \n",
       "3    536365    84029G  KNITTED UNION FLAG HOT WATER BOTTLE         6   \n",
       "4    536365    84029E       RED WOOLLY HOTTIE WHITE HEART.         6   \n",
       "\n",
       "      InvoiceDate  UnitPrice  CustomerID         Country        date  \n",
       "0  12/1/2010 8:26       2.55     17850.0  United Kingdom  2010-12-01  \n",
       "1  12/1/2010 8:26       3.39     17850.0  United Kingdom  2010-12-01  \n",
       "2  12/1/2010 8:26       2.75     17850.0  United Kingdom  2010-12-01  \n",
       "3  12/1/2010 8:26       3.39     17850.0  United Kingdom  2010-12-01  \n",
       "4  12/1/2010 8:26       3.39     17850.0  United Kingdom  2010-12-01  "
      ]
     },
     "execution_count": 19,
     "metadata": {},
     "output_type": "execute_result"
    }
   ],
   "source": [
    "df1.head()"
   ]
  },
  {
   "cell_type": "code",
   "execution_count": 20,
   "id": "2ce817d4",
   "metadata": {
    "execution": {
     "iopub.execute_input": "2023-04-26T03:48:29.877748Z",
     "iopub.status.busy": "2023-04-26T03:48:29.876928Z",
     "iopub.status.idle": "2023-04-26T03:48:30.421988Z",
     "shell.execute_reply": "2023-04-26T03:48:30.420735Z"
    },
    "papermill": {
     "duration": 0.564109,
     "end_time": "2023-04-26T03:48:30.424766",
     "exception": false,
     "start_time": "2023-04-26T03:48:29.860657",
     "status": "completed"
    },
    "tags": []
   },
   "outputs": [
    {
     "data": {
      "text/html": [
       "<div>\n",
       "<style scoped>\n",
       "    .dataframe tbody tr th:only-of-type {\n",
       "        vertical-align: middle;\n",
       "    }\n",
       "\n",
       "    .dataframe tbody tr th {\n",
       "        vertical-align: top;\n",
       "    }\n",
       "\n",
       "    .dataframe thead th {\n",
       "        text-align: right;\n",
       "    }\n",
       "</style>\n",
       "<table border=\"1\" class=\"dataframe\">\n",
       "  <thead>\n",
       "    <tr style=\"text-align: right;\">\n",
       "      <th></th>\n",
       "      <th>CustomerID</th>\n",
       "      <th>LastPurchaseDate</th>\n",
       "    </tr>\n",
       "  </thead>\n",
       "  <tbody>\n",
       "    <tr>\n",
       "      <th>0</th>\n",
       "      <td>12346.0</td>\n",
       "      <td>2011-01-18</td>\n",
       "    </tr>\n",
       "    <tr>\n",
       "      <th>1</th>\n",
       "      <td>12347.0</td>\n",
       "      <td>2011-12-07</td>\n",
       "    </tr>\n",
       "    <tr>\n",
       "      <th>2</th>\n",
       "      <td>12348.0</td>\n",
       "      <td>2011-09-25</td>\n",
       "    </tr>\n",
       "    <tr>\n",
       "      <th>3</th>\n",
       "      <td>12349.0</td>\n",
       "      <td>2011-11-21</td>\n",
       "    </tr>\n",
       "    <tr>\n",
       "      <th>4</th>\n",
       "      <td>12350.0</td>\n",
       "      <td>2011-02-02</td>\n",
       "    </tr>\n",
       "  </tbody>\n",
       "</table>\n",
       "</div>"
      ],
      "text/plain": [
       "   CustomerID LastPurchaseDate\n",
       "0     12346.0       2011-01-18\n",
       "1     12347.0       2011-12-07\n",
       "2     12348.0       2011-09-25\n",
       "3     12349.0       2011-11-21\n",
       "4     12350.0       2011-02-02"
      ]
     },
     "execution_count": 20,
     "metadata": {},
     "output_type": "execute_result"
    }
   ],
   "source": [
    "# Group by customer by last date they purchased\n",
    "\n",
    "recent_df = df1.groupby(['CustomerID'],as_index=False) ['date'].max()\n",
    "recent_df.columns = ['CustomerID', 'LastPurchaseDate']\n",
    "recent_df.head()"
   ]
  },
  {
   "cell_type": "code",
   "execution_count": 21,
   "id": "ec887097",
   "metadata": {
    "execution": {
     "iopub.execute_input": "2023-04-26T03:48:30.455832Z",
     "iopub.status.busy": "2023-04-26T03:48:30.455402Z",
     "iopub.status.idle": "2023-04-26T03:48:30.465324Z",
     "shell.execute_reply": "2023-04-26T03:48:30.464386Z"
    },
    "papermill": {
     "duration": 0.028204,
     "end_time": "2023-04-26T03:48:30.467713",
     "exception": false,
     "start_time": "2023-04-26T03:48:30.439509",
     "status": "completed"
    },
    "tags": []
   },
   "outputs": [],
   "source": [
    "#calculate how often he is purchasing with reference to latest date in days\n",
    "\n",
    "\n",
    "recent_df['recency'] = recent_df.LastPurchaseDate.apply(lambda x: (now - x).days)"
   ]
  },
  {
   "cell_type": "code",
   "execution_count": 22,
   "id": "95a1129d",
   "metadata": {
    "execution": {
     "iopub.execute_input": "2023-04-26T03:48:30.499562Z",
     "iopub.status.busy": "2023-04-26T03:48:30.499052Z",
     "iopub.status.idle": "2023-04-26T03:48:30.512895Z",
     "shell.execute_reply": "2023-04-26T03:48:30.511513Z"
    },
    "papermill": {
     "duration": 0.033015,
     "end_time": "2023-04-26T03:48:30.515438",
     "exception": false,
     "start_time": "2023-04-26T03:48:30.482423",
     "status": "completed"
    },
    "tags": []
   },
   "outputs": [
    {
     "data": {
      "text/html": [
       "<div>\n",
       "<style scoped>\n",
       "    .dataframe tbody tr th:only-of-type {\n",
       "        vertical-align: middle;\n",
       "    }\n",
       "\n",
       "    .dataframe tbody tr th {\n",
       "        vertical-align: top;\n",
       "    }\n",
       "\n",
       "    .dataframe thead th {\n",
       "        text-align: right;\n",
       "    }\n",
       "</style>\n",
       "<table border=\"1\" class=\"dataframe\">\n",
       "  <thead>\n",
       "    <tr style=\"text-align: right;\">\n",
       "      <th></th>\n",
       "      <th>CustomerID</th>\n",
       "      <th>LastPurchaseDate</th>\n",
       "      <th>recency</th>\n",
       "    </tr>\n",
       "  </thead>\n",
       "  <tbody>\n",
       "    <tr>\n",
       "      <th>0</th>\n",
       "      <td>12346.0</td>\n",
       "      <td>2011-01-18</td>\n",
       "      <td>325</td>\n",
       "    </tr>\n",
       "    <tr>\n",
       "      <th>1</th>\n",
       "      <td>12347.0</td>\n",
       "      <td>2011-12-07</td>\n",
       "      <td>2</td>\n",
       "    </tr>\n",
       "    <tr>\n",
       "      <th>2</th>\n",
       "      <td>12348.0</td>\n",
       "      <td>2011-09-25</td>\n",
       "      <td>75</td>\n",
       "    </tr>\n",
       "    <tr>\n",
       "      <th>3</th>\n",
       "      <td>12349.0</td>\n",
       "      <td>2011-11-21</td>\n",
       "      <td>18</td>\n",
       "    </tr>\n",
       "    <tr>\n",
       "      <th>4</th>\n",
       "      <td>12350.0</td>\n",
       "      <td>2011-02-02</td>\n",
       "      <td>310</td>\n",
       "    </tr>\n",
       "  </tbody>\n",
       "</table>\n",
       "</div>"
      ],
      "text/plain": [
       "   CustomerID LastPurchaseDate  recency\n",
       "0     12346.0       2011-01-18      325\n",
       "1     12347.0       2011-12-07        2\n",
       "2     12348.0       2011-09-25       75\n",
       "3     12349.0       2011-11-21       18\n",
       "4     12350.0       2011-02-02      310"
      ]
     },
     "execution_count": 22,
     "metadata": {},
     "output_type": "execute_result"
    }
   ],
   "source": [
    "recent_df.head()"
   ]
  },
  {
   "cell_type": "code",
   "execution_count": 23,
   "id": "6d589bf4",
   "metadata": {
    "execution": {
     "iopub.execute_input": "2023-04-26T03:48:30.547158Z",
     "iopub.status.busy": "2023-04-26T03:48:30.546688Z",
     "iopub.status.idle": "2023-04-26T03:48:30.553505Z",
     "shell.execute_reply": "2023-04-26T03:48:30.552153Z"
    },
    "papermill": {
     "duration": 0.025788,
     "end_time": "2023-04-26T03:48:30.556056",
     "exception": false,
     "start_time": "2023-04-26T03:48:30.530268",
     "status": "completed"
    },
    "tags": []
   },
   "outputs": [],
   "source": [
    "recent_df.drop('LastPurchaseDate',axis=1,inplace=True)"
   ]
  },
  {
   "cell_type": "code",
   "execution_count": 24,
   "id": "7116ea6d",
   "metadata": {
    "execution": {
     "iopub.execute_input": "2023-04-26T03:48:30.588128Z",
     "iopub.status.busy": "2023-04-26T03:48:30.587656Z",
     "iopub.status.idle": "2023-04-26T03:48:30.709645Z",
     "shell.execute_reply": "2023-04-26T03:48:30.708129Z"
    },
    "papermill": {
     "duration": 0.141061,
     "end_time": "2023-04-26T03:48:30.712417",
     "exception": false,
     "start_time": "2023-04-26T03:48:30.571356",
     "status": "completed"
    },
    "tags": []
   },
   "outputs": [
    {
     "data": {
      "text/html": [
       "<div>\n",
       "<style scoped>\n",
       "    .dataframe tbody tr th:only-of-type {\n",
       "        vertical-align: middle;\n",
       "    }\n",
       "\n",
       "    .dataframe tbody tr th {\n",
       "        vertical-align: top;\n",
       "    }\n",
       "\n",
       "    .dataframe thead th {\n",
       "        text-align: right;\n",
       "    }\n",
       "</style>\n",
       "<table border=\"1\" class=\"dataframe\">\n",
       "  <thead>\n",
       "    <tr style=\"text-align: right;\">\n",
       "      <th></th>\n",
       "      <th>CustomerID</th>\n",
       "      <th>Frequency</th>\n",
       "    </tr>\n",
       "  </thead>\n",
       "  <tbody>\n",
       "    <tr>\n",
       "      <th>0</th>\n",
       "      <td>12346.0</td>\n",
       "      <td>1</td>\n",
       "    </tr>\n",
       "    <tr>\n",
       "      <th>1</th>\n",
       "      <td>12347.0</td>\n",
       "      <td>7</td>\n",
       "    </tr>\n",
       "    <tr>\n",
       "      <th>2</th>\n",
       "      <td>12348.0</td>\n",
       "      <td>4</td>\n",
       "    </tr>\n",
       "    <tr>\n",
       "      <th>3</th>\n",
       "      <td>12349.0</td>\n",
       "      <td>1</td>\n",
       "    </tr>\n",
       "    <tr>\n",
       "      <th>4</th>\n",
       "      <td>12350.0</td>\n",
       "      <td>1</td>\n",
       "    </tr>\n",
       "  </tbody>\n",
       "</table>\n",
       "</div>"
      ],
      "text/plain": [
       "   CustomerID  Frequency\n",
       "0     12346.0          1\n",
       "1     12347.0          7\n",
       "2     12348.0          4\n",
       "3     12349.0          1\n",
       "4     12350.0          1"
      ]
     },
     "execution_count": 24,
     "metadata": {},
     "output_type": "execute_result"
    }
   ],
   "source": [
    "# Check frequency of customer means how many transaction has been done...\n",
    "\n",
    "frequency_df = df1.copy()\n",
    "frequency_df.drop_duplicates(subset=['CustomerID','InvoiceNo'],keep='first',inplace=True)\n",
    "frequency_df = frequency_df.groupby('CustomerID',as_index=False)['InvoiceNo'].count()\n",
    "frequency_df.columns = ['CustomerID','Frequency']\n",
    "frequency_df.head()"
   ]
  },
  {
   "cell_type": "code",
   "execution_count": 25,
   "id": "2724cded",
   "metadata": {
    "execution": {
     "iopub.execute_input": "2023-04-26T03:48:30.745100Z",
     "iopub.status.busy": "2023-04-26T03:48:30.743898Z",
     "iopub.status.idle": "2023-04-26T03:48:30.752464Z",
     "shell.execute_reply": "2023-04-26T03:48:30.751519Z"
    },
    "papermill": {
     "duration": 0.027587,
     "end_time": "2023-04-26T03:48:30.755040",
     "exception": false,
     "start_time": "2023-04-26T03:48:30.727453",
     "status": "completed"
    },
    "tags": []
   },
   "outputs": [],
   "source": [
    "#Calculate how much a customer spend in the each transaction ...\n",
    "\n",
    "df1['Total_cost'] = df1['UnitPrice'] * df1['Quantity']"
   ]
  },
  {
   "cell_type": "code",
   "execution_count": 26,
   "id": "f2263342",
   "metadata": {
    "execution": {
     "iopub.execute_input": "2023-04-26T03:48:30.787513Z",
     "iopub.status.busy": "2023-04-26T03:48:30.786766Z",
     "iopub.status.idle": "2023-04-26T03:48:30.815432Z",
     "shell.execute_reply": "2023-04-26T03:48:30.814201Z"
    },
    "papermill": {
     "duration": 0.048437,
     "end_time": "2023-04-26T03:48:30.818489",
     "exception": false,
     "start_time": "2023-04-26T03:48:30.770052",
     "status": "completed"
    },
    "tags": []
   },
   "outputs": [],
   "source": [
    "#Check summed up spend of a customer with respect to latest date....\n",
    "\n",
    "monetary_df = df1.groupby('CustomerID',as_index=False)['Total_cost'].sum()\n",
    "monetary_df.columns = ['CustomerID','Monetary']\n"
   ]
  },
  {
   "cell_type": "code",
   "execution_count": 27,
   "id": "65dc138b",
   "metadata": {
    "execution": {
     "iopub.execute_input": "2023-04-26T03:48:30.851193Z",
     "iopub.status.busy": "2023-04-26T03:48:30.850686Z",
     "iopub.status.idle": "2023-04-26T03:48:30.863280Z",
     "shell.execute_reply": "2023-04-26T03:48:30.861961Z"
    },
    "papermill": {
     "duration": 0.031794,
     "end_time": "2023-04-26T03:48:30.865934",
     "exception": false,
     "start_time": "2023-04-26T03:48:30.834140",
     "status": "completed"
    },
    "tags": []
   },
   "outputs": [
    {
     "data": {
      "text/html": [
       "<div>\n",
       "<style scoped>\n",
       "    .dataframe tbody tr th:only-of-type {\n",
       "        vertical-align: middle;\n",
       "    }\n",
       "\n",
       "    .dataframe tbody tr th {\n",
       "        vertical-align: top;\n",
       "    }\n",
       "\n",
       "    .dataframe thead th {\n",
       "        text-align: right;\n",
       "    }\n",
       "</style>\n",
       "<table border=\"1\" class=\"dataframe\">\n",
       "  <thead>\n",
       "    <tr style=\"text-align: right;\">\n",
       "      <th></th>\n",
       "      <th>CustomerID</th>\n",
       "      <th>Monetary</th>\n",
       "    </tr>\n",
       "  </thead>\n",
       "  <tbody>\n",
       "    <tr>\n",
       "      <th>0</th>\n",
       "      <td>12346.0</td>\n",
       "      <td>77183.60</td>\n",
       "    </tr>\n",
       "    <tr>\n",
       "      <th>1</th>\n",
       "      <td>12347.0</td>\n",
       "      <td>4310.00</td>\n",
       "    </tr>\n",
       "    <tr>\n",
       "      <th>2</th>\n",
       "      <td>12348.0</td>\n",
       "      <td>1797.24</td>\n",
       "    </tr>\n",
       "    <tr>\n",
       "      <th>3</th>\n",
       "      <td>12349.0</td>\n",
       "      <td>1757.55</td>\n",
       "    </tr>\n",
       "    <tr>\n",
       "      <th>4</th>\n",
       "      <td>12350.0</td>\n",
       "      <td>334.40</td>\n",
       "    </tr>\n",
       "  </tbody>\n",
       "</table>\n",
       "</div>"
      ],
      "text/plain": [
       "   CustomerID  Monetary\n",
       "0     12346.0  77183.60\n",
       "1     12347.0   4310.00\n",
       "2     12348.0   1797.24\n",
       "3     12349.0   1757.55\n",
       "4     12350.0    334.40"
      ]
     },
     "execution_count": 27,
     "metadata": {},
     "output_type": "execute_result"
    }
   ],
   "source": [
    "monetary_df.head()"
   ]
  },
  {
   "cell_type": "code",
   "execution_count": 28,
   "id": "580a06d5",
   "metadata": {
    "execution": {
     "iopub.execute_input": "2023-04-26T03:48:30.899130Z",
     "iopub.status.busy": "2023-04-26T03:48:30.898221Z",
     "iopub.status.idle": "2023-04-26T03:48:30.923260Z",
     "shell.execute_reply": "2023-04-26T03:48:30.921979Z"
    },
    "papermill": {
     "duration": 0.044751,
     "end_time": "2023-04-26T03:48:30.926182",
     "exception": false,
     "start_time": "2023-04-26T03:48:30.881431",
     "status": "completed"
    },
    "tags": []
   },
   "outputs": [],
   "source": [
    "#cmbine all together all dataframe in so we have recency, frequency, and monetary values together\n",
    "\n",
    "# combine first recency and frequency\n",
    "\n",
    "rf = recent_df.merge(frequency_df,left_on = 'CustomerID',right_on = 'CustomerID')\n",
    "\n",
    "#Combine rf frame with monetary values...\n",
    "rfm = rf.merge(monetary_df,left_on = 'CustomerID',right_on='CustomerID')\n",
    "\n",
    "rfm.set_index('CustomerID',inplace=True)\n"
   ]
  },
  {
   "cell_type": "code",
   "execution_count": 29,
   "id": "9cebadb4",
   "metadata": {
    "execution": {
     "iopub.execute_input": "2023-04-26T03:48:30.961364Z",
     "iopub.status.busy": "2023-04-26T03:48:30.960481Z",
     "iopub.status.idle": "2023-04-26T03:48:30.973589Z",
     "shell.execute_reply": "2023-04-26T03:48:30.972316Z"
    },
    "papermill": {
     "duration": 0.032089,
     "end_time": "2023-04-26T03:48:30.976036",
     "exception": false,
     "start_time": "2023-04-26T03:48:30.943947",
     "status": "completed"
    },
    "tags": []
   },
   "outputs": [
    {
     "data": {
      "text/html": [
       "<div>\n",
       "<style scoped>\n",
       "    .dataframe tbody tr th:only-of-type {\n",
       "        vertical-align: middle;\n",
       "    }\n",
       "\n",
       "    .dataframe tbody tr th {\n",
       "        vertical-align: top;\n",
       "    }\n",
       "\n",
       "    .dataframe thead th {\n",
       "        text-align: right;\n",
       "    }\n",
       "</style>\n",
       "<table border=\"1\" class=\"dataframe\">\n",
       "  <thead>\n",
       "    <tr style=\"text-align: right;\">\n",
       "      <th></th>\n",
       "      <th>recency</th>\n",
       "      <th>Frequency</th>\n",
       "      <th>Monetary</th>\n",
       "    </tr>\n",
       "    <tr>\n",
       "      <th>CustomerID</th>\n",
       "      <th></th>\n",
       "      <th></th>\n",
       "      <th></th>\n",
       "    </tr>\n",
       "  </thead>\n",
       "  <tbody>\n",
       "    <tr>\n",
       "      <th>12346.0</th>\n",
       "      <td>325</td>\n",
       "      <td>1</td>\n",
       "      <td>77183.60</td>\n",
       "    </tr>\n",
       "    <tr>\n",
       "      <th>12347.0</th>\n",
       "      <td>2</td>\n",
       "      <td>7</td>\n",
       "      <td>4310.00</td>\n",
       "    </tr>\n",
       "    <tr>\n",
       "      <th>12348.0</th>\n",
       "      <td>75</td>\n",
       "      <td>4</td>\n",
       "      <td>1797.24</td>\n",
       "    </tr>\n",
       "    <tr>\n",
       "      <th>12349.0</th>\n",
       "      <td>18</td>\n",
       "      <td>1</td>\n",
       "      <td>1757.55</td>\n",
       "    </tr>\n",
       "    <tr>\n",
       "      <th>12350.0</th>\n",
       "      <td>310</td>\n",
       "      <td>1</td>\n",
       "      <td>334.40</td>\n",
       "    </tr>\n",
       "  </tbody>\n",
       "</table>\n",
       "</div>"
      ],
      "text/plain": [
       "            recency  Frequency  Monetary\n",
       "CustomerID                              \n",
       "12346.0         325          1  77183.60\n",
       "12347.0           2          7   4310.00\n",
       "12348.0          75          4   1797.24\n",
       "12349.0          18          1   1757.55\n",
       "12350.0         310          1    334.40"
      ]
     },
     "execution_count": 29,
     "metadata": {},
     "output_type": "execute_result"
    }
   ],
   "source": [
    "rfm.head()"
   ]
  },
  {
   "cell_type": "code",
   "execution_count": 30,
   "id": "ddd9e196",
   "metadata": {
    "execution": {
     "iopub.execute_input": "2023-04-26T03:48:31.009359Z",
     "iopub.status.busy": "2023-04-26T03:48:31.008323Z",
     "iopub.status.idle": "2023-04-26T03:48:31.026576Z",
     "shell.execute_reply": "2023-04-26T03:48:31.025216Z"
    },
    "papermill": {
     "duration": 0.037547,
     "end_time": "2023-04-26T03:48:31.029069",
     "exception": false,
     "start_time": "2023-04-26T03:48:30.991522",
     "status": "completed"
    },
    "tags": []
   },
   "outputs": [
    {
     "data": {
      "text/html": [
       "<div>\n",
       "<style scoped>\n",
       "    .dataframe tbody tr th:only-of-type {\n",
       "        vertical-align: middle;\n",
       "    }\n",
       "\n",
       "    .dataframe tbody tr th {\n",
       "        vertical-align: top;\n",
       "    }\n",
       "\n",
       "    .dataframe thead th {\n",
       "        text-align: right;\n",
       "    }\n",
       "</style>\n",
       "<table border=\"1\" class=\"dataframe\">\n",
       "  <thead>\n",
       "    <tr style=\"text-align: right;\">\n",
       "      <th></th>\n",
       "      <th>InvoiceNo</th>\n",
       "      <th>StockCode</th>\n",
       "      <th>Description</th>\n",
       "      <th>Quantity</th>\n",
       "      <th>InvoiceDate</th>\n",
       "      <th>UnitPrice</th>\n",
       "      <th>CustomerID</th>\n",
       "      <th>Country</th>\n",
       "      <th>date</th>\n",
       "      <th>Total_cost</th>\n",
       "    </tr>\n",
       "  </thead>\n",
       "  <tbody>\n",
       "    <tr>\n",
       "      <th>61619</th>\n",
       "      <td>541431</td>\n",
       "      <td>23166</td>\n",
       "      <td>MEDIUM CERAMIC TOP STORAGE JAR</td>\n",
       "      <td>74215</td>\n",
       "      <td>1/18/2011 10:01</td>\n",
       "      <td>1.04</td>\n",
       "      <td>12346.0</td>\n",
       "      <td>United Kingdom</td>\n",
       "      <td>2011-01-18</td>\n",
       "      <td>77183.6</td>\n",
       "    </tr>\n",
       "  </tbody>\n",
       "</table>\n",
       "</div>"
      ],
      "text/plain": [
       "      InvoiceNo StockCode                     Description  Quantity  \\\n",
       "61619    541431     23166  MEDIUM CERAMIC TOP STORAGE JAR     74215   \n",
       "\n",
       "           InvoiceDate  UnitPrice  CustomerID         Country        date  \\\n",
       "61619  1/18/2011 10:01       1.04     12346.0  United Kingdom  2011-01-18   \n",
       "\n",
       "       Total_cost  \n",
       "61619     77183.6  "
      ]
     },
     "execution_count": 30,
     "metadata": {},
     "output_type": "execute_result"
    }
   ],
   "source": [
    "#Checking correctness of output.\n",
    "\n",
    "df1[df1['CustomerID']==12346.0]"
   ]
  },
  {
   "cell_type": "code",
   "execution_count": 31,
   "id": "73a696c3",
   "metadata": {
    "execution": {
     "iopub.execute_input": "2023-04-26T03:48:31.063185Z",
     "iopub.status.busy": "2023-04-26T03:48:31.062425Z",
     "iopub.status.idle": "2023-04-26T03:48:31.068969Z",
     "shell.execute_reply": "2023-04-26T03:48:31.068085Z"
    },
    "papermill": {
     "duration": 0.02604,
     "end_time": "2023-04-26T03:48:31.071143",
     "exception": false,
     "start_time": "2023-04-26T03:48:31.045103",
     "status": "completed"
    },
    "tags": []
   },
   "outputs": [
    {
     "data": {
      "text/plain": [
       "True"
      ]
     },
     "execution_count": 31,
     "metadata": {},
     "output_type": "execute_result"
    }
   ],
   "source": [
    "(now - dt.date(2011,1,18)).days == 325"
   ]
  },
  {
   "cell_type": "code",
   "execution_count": 32,
   "id": "4e24fe20",
   "metadata": {
    "execution": {
     "iopub.execute_input": "2023-04-26T03:48:31.104832Z",
     "iopub.status.busy": "2023-04-26T03:48:31.104066Z",
     "iopub.status.idle": "2023-04-26T03:48:31.109792Z",
     "shell.execute_reply": "2023-04-26T03:48:31.108927Z"
    },
    "papermill": {
     "duration": 0.025194,
     "end_time": "2023-04-26T03:48:31.112097",
     "exception": false,
     "start_time": "2023-04-26T03:48:31.086903",
     "status": "completed"
    },
    "tags": []
   },
   "outputs": [],
   "source": [
    "# Bring all the quartile value in a single dataframe\n",
    "\n",
    "rfm_segmentation = rfm.copy()"
   ]
  },
  {
   "cell_type": "code",
   "execution_count": 33,
   "id": "8ce74d0b",
   "metadata": {
    "execution": {
     "iopub.execute_input": "2023-04-26T03:48:31.146420Z",
     "iopub.status.busy": "2023-04-26T03:48:31.145599Z",
     "iopub.status.idle": "2023-04-26T03:48:56.112277Z",
     "shell.execute_reply": "2023-04-26T03:48:56.110812Z"
    },
    "papermill": {
     "duration": 24.986797,
     "end_time": "2023-04-26T03:48:56.115141",
     "exception": false,
     "start_time": "2023-04-26T03:48:31.128344",
     "status": "completed"
    },
    "tags": []
   },
   "outputs": [
    {
     "data": {
      "image/png": "[encoded data removed]",
      "text/plain": [
       "<Figure size 640x480 with 1 Axes>"
      ]
     },
     "metadata": {},
     "output_type": "display_data"
    }
   ],
   "source": [
    "from sklearn.cluster import KMeans\n",
    "#Get the right number of cluster for kmeans so \n",
    "#we need to loop from 1 to 20 number of cluster and check score\n",
    "# Elbow method is used to represent that.\n",
    "Nc = range(1, 20)\n",
    "kmeans = [KMeans(n_clusters=i) for i in Nc]\n",
    "score = [kmeans[i].fit(rfm_segmentation).score(rfm_segmentation) for i in range(len(kmeans))]\n",
    "plt.plot(Nc,score)\n",
    "plt.xlabel('Number of clusters')\n",
    "plt.ylabel('score')\n",
    "plt.title('Elbow Curve')\n",
    "plt.show()"
   ]
  },
  {
   "cell_type": "code",
   "execution_count": 34,
   "id": "96e839a4",
   "metadata": {
    "execution": {
     "iopub.execute_input": "2023-04-26T03:48:56.150010Z",
     "iopub.status.busy": "2023-04-26T03:48:56.149470Z",
     "iopub.status.idle": "2023-04-26T03:48:57.205147Z",
     "shell.execute_reply": "2023-04-26T03:48:57.204065Z"
    },
    "papermill": {
     "duration": 1.077067,
     "end_time": "2023-04-26T03:48:57.208447",
     "exception": false,
     "start_time": "2023-04-26T03:48:56.131380",
     "status": "completed"
    },
    "tags": []
   },
   "outputs": [],
   "source": [
    "# Fitting data in kmeans theorem\n",
    "\n",
    "kmeans = KMeans(n_clusters=3, random_state=0).fit(rfm_segmentation)"
   ]
  },
  {
   "cell_type": "code",
   "execution_count": 35,
   "id": "4eb04cf7",
   "metadata": {
    "execution": {
     "iopub.execute_input": "2023-04-26T03:48:57.245768Z",
     "iopub.status.busy": "2023-04-26T03:48:57.245335Z",
     "iopub.status.idle": "2023-04-26T03:48:57.252179Z",
     "shell.execute_reply": "2023-04-26T03:48:57.250732Z"
    },
    "papermill": {
     "duration": 0.027749,
     "end_time": "2023-04-26T03:48:57.255481",
     "exception": false,
     "start_time": "2023-04-26T03:48:57.227732",
     "status": "completed"
    },
    "tags": []
   },
   "outputs": [],
   "source": [
    "#This creates a new column called cluster which has cluster number for each row respectively\n",
    "rfm_segmentation['cluster'] = kmeans.labels_"
   ]
  },
  {
   "cell_type": "code",
   "execution_count": 36,
   "id": "7f5a8e75",
   "metadata": {
    "execution": {
     "iopub.execute_input": "2023-04-26T03:48:57.289713Z",
     "iopub.status.busy": "2023-04-26T03:48:57.289252Z",
     "iopub.status.idle": "2023-04-26T03:48:57.307135Z",
     "shell.execute_reply": "2023-04-26T03:48:57.305711Z"
    },
    "papermill": {
     "duration": 0.038758,
     "end_time": "2023-04-26T03:48:57.310152",
     "exception": false,
     "start_time": "2023-04-26T03:48:57.271394",
     "status": "completed"
    },
    "tags": []
   },
   "outputs": [
    {
     "data": {
      "text/html": [
       "<div>\n",
       "<style scoped>\n",
       "    .dataframe tbody tr th:only-of-type {\n",
       "        vertical-align: middle;\n",
       "    }\n",
       "\n",
       "    .dataframe tbody tr th {\n",
       "        vertical-align: top;\n",
       "    }\n",
       "\n",
       "    .dataframe thead th {\n",
       "        text-align: right;\n",
       "    }\n",
       "</style>\n",
       "<table border=\"1\" class=\"dataframe\">\n",
       "  <thead>\n",
       "    <tr style=\"text-align: right;\">\n",
       "      <th></th>\n",
       "      <th>recency</th>\n",
       "      <th>Frequency</th>\n",
       "      <th>Monetary</th>\n",
       "      <th>cluster</th>\n",
       "    </tr>\n",
       "    <tr>\n",
       "      <th>CustomerID</th>\n",
       "      <th></th>\n",
       "      <th></th>\n",
       "      <th></th>\n",
       "      <th></th>\n",
       "    </tr>\n",
       "  </thead>\n",
       "  <tbody>\n",
       "    <tr>\n",
       "      <th>12347.0</th>\n",
       "      <td>2</td>\n",
       "      <td>7</td>\n",
       "      <td>4310.00</td>\n",
       "      <td>0</td>\n",
       "    </tr>\n",
       "    <tr>\n",
       "      <th>12348.0</th>\n",
       "      <td>75</td>\n",
       "      <td>4</td>\n",
       "      <td>1797.24</td>\n",
       "      <td>0</td>\n",
       "    </tr>\n",
       "    <tr>\n",
       "      <th>12349.0</th>\n",
       "      <td>18</td>\n",
       "      <td>1</td>\n",
       "      <td>1757.55</td>\n",
       "      <td>0</td>\n",
       "    </tr>\n",
       "    <tr>\n",
       "      <th>12350.0</th>\n",
       "      <td>310</td>\n",
       "      <td>1</td>\n",
       "      <td>334.40</td>\n",
       "      <td>0</td>\n",
       "    </tr>\n",
       "    <tr>\n",
       "      <th>12352.0</th>\n",
       "      <td>36</td>\n",
       "      <td>8</td>\n",
       "      <td>2506.04</td>\n",
       "      <td>0</td>\n",
       "    </tr>\n",
       "    <tr>\n",
       "      <th>12353.0</th>\n",
       "      <td>204</td>\n",
       "      <td>1</td>\n",
       "      <td>89.00</td>\n",
       "      <td>0</td>\n",
       "    </tr>\n",
       "    <tr>\n",
       "      <th>12354.0</th>\n",
       "      <td>232</td>\n",
       "      <td>1</td>\n",
       "      <td>1079.40</td>\n",
       "      <td>0</td>\n",
       "    </tr>\n",
       "    <tr>\n",
       "      <th>12355.0</th>\n",
       "      <td>214</td>\n",
       "      <td>1</td>\n",
       "      <td>459.40</td>\n",
       "      <td>0</td>\n",
       "    </tr>\n",
       "    <tr>\n",
       "      <th>12356.0</th>\n",
       "      <td>22</td>\n",
       "      <td>3</td>\n",
       "      <td>2811.43</td>\n",
       "      <td>0</td>\n",
       "    </tr>\n",
       "    <tr>\n",
       "      <th>12357.0</th>\n",
       "      <td>33</td>\n",
       "      <td>1</td>\n",
       "      <td>6207.67</td>\n",
       "      <td>0</td>\n",
       "    </tr>\n",
       "  </tbody>\n",
       "</table>\n",
       "</div>"
      ],
      "text/plain": [
       "            recency  Frequency  Monetary  cluster\n",
       "CustomerID                                       \n",
       "12347.0           2          7   4310.00        0\n",
       "12348.0          75          4   1797.24        0\n",
       "12349.0          18          1   1757.55        0\n",
       "12350.0         310          1    334.40        0\n",
       "12352.0          36          8   2506.04        0\n",
       "12353.0         204          1     89.00        0\n",
       "12354.0         232          1   1079.40        0\n",
       "12355.0         214          1    459.40        0\n",
       "12356.0          22          3   2811.43        0\n",
       "12357.0          33          1   6207.67        0"
      ]
     },
     "execution_count": 36,
     "metadata": {},
     "output_type": "execute_result"
    }
   ],
   "source": [
    "# check our hypothesis\n",
    "rfm_segmentation[rfm_segmentation.cluster == 0].head(10)\n"
   ]
  },
  {
   "cell_type": "code",
   "execution_count": 37,
   "id": "ae9cf551",
   "metadata": {
    "execution": {
     "iopub.execute_input": "2023-04-26T03:48:57.345543Z",
     "iopub.status.busy": "2023-04-26T03:48:57.345122Z",
     "iopub.status.idle": "2023-04-26T03:48:57.601191Z",
     "shell.execute_reply": "2023-04-26T03:48:57.599961Z"
    },
    "papermill": {
     "duration": 0.276948,
     "end_time": "2023-04-26T03:48:57.603955",
     "exception": false,
     "start_time": "2023-04-26T03:48:57.327007",
     "status": "completed"
    },
    "tags": []
   },
   "outputs": [
    {
     "data": {
      "text/plain": [
       "<AxesSubplot:xlabel='cluster', ylabel='recency'>"
      ]
     },
     "execution_count": 37,
     "metadata": {},
     "output_type": "execute_result"
    },
    {
     "data": {
      "image/png": "[encoded data removed]",
      "text/plain": [
       "<Figure size 640x480 with 1 Axes>"
      ]
     },
     "metadata": {},
     "output_type": "display_data"
    }
   ],
   "source": [
    "''' Cluster 0 have high recency rate which is bad. cluster1 and cluster 2 \n",
    "having low so they are in race of platinum and gold customer'''\n",
    "\n",
    "sns.boxplot(x = rfm_segmentation.cluster,y = rfm_segmentation.recency)\n"
   ]
  },
  {
   "cell_type": "code",
   "execution_count": 38,
   "id": "67a36212",
   "metadata": {
    "execution": {
     "iopub.execute_input": "2023-04-26T03:48:57.639756Z",
     "iopub.status.busy": "2023-04-26T03:48:57.639325Z",
     "iopub.status.idle": "2023-04-26T03:48:57.879503Z",
     "shell.execute_reply": "2023-04-26T03:48:57.878274Z"
    },
    "papermill": {
     "duration": 0.261104,
     "end_time": "2023-04-26T03:48:57.882065",
     "exception": false,
     "start_time": "2023-04-26T03:48:57.620961",
     "status": "completed"
    },
    "tags": []
   },
   "outputs": [
    {
     "data": {
      "text/plain": [
       "<AxesSubplot:xlabel='cluster', ylabel='Frequency'>"
      ]
     },
     "execution_count": 38,
     "metadata": {},
     "output_type": "execute_result"
    },
    {
     "data": {
      "image/png": "[encoded data removed]",
      "text/plain": [
       "<Figure size 640x480 with 1 Axes>"
      ]
     },
     "metadata": {},
     "output_type": "display_data"
    }
   ],
   "source": [
    "''' cluster 0 have low frequency rate which is bad .\n",
    "cluster 1 and 2 having high so they are in race of\n",
    "platinum and gold customer'''\n",
    "\n",
    "sns.boxplot(x = rfm_segmentation.cluster,y = rfm_segmentation.Frequency)"
   ]
  },
  {
   "cell_type": "code",
   "execution_count": 39,
   "id": "e9e4eaf2",
   "metadata": {
    "execution": {
     "iopub.execute_input": "2023-04-26T03:48:57.918385Z",
     "iopub.status.busy": "2023-04-26T03:48:57.917949Z",
     "iopub.status.idle": "2023-04-26T03:48:58.167957Z",
     "shell.execute_reply": "2023-04-26T03:48:58.166662Z"
    },
    "papermill": {
     "duration": 0.271443,
     "end_time": "2023-04-26T03:48:58.170684",
     "exception": false,
     "start_time": "2023-04-26T03:48:57.899241",
     "status": "completed"
    },
    "tags": []
   },
   "outputs": [
    {
     "data": {
      "text/plain": [
       "<AxesSubplot:xlabel='cluster', ylabel='Monetary'>"
      ]
     },
     "execution_count": 39,
     "metadata": {},
     "output_type": "execute_result"
    },
    {
     "data": {
      "image/png": "[encoded data removed]",
      "text/plain": [
       "<Figure size 640x480 with 1 Axes>"
      ]
     },
     "metadata": {},
     "output_type": "display_data"
    }
   ],
   "source": [
    "''' Cluster 0 have low Monetary rat which is bad. cluster 1 have highest\n",
    "monetary (money spend) platinum where as cluster 2 have\n",
    "medium level(gold) and cluster 0 is silver customer'''\n",
    "\n",
    "sns.boxplot(x = rfm_segmentation.cluster,y = rfm_segmentation.Monetary)\n"
   ]
  },
  {
   "cell_type": "markdown",
   "id": "854776fc",
   "metadata": {
    "papermill": {
     "duration": 0.017341,
     "end_time": "2023-04-26T03:48:58.206468",
     "exception": false,
     "start_time": "2023-04-26T03:48:58.189127",
     "status": "completed"
    },
    "tags": []
   },
   "source": [
    "Based on customer segmentation we found that cluster 1 is platinum customers cluster 2 is gold customers cluster 3 is silver customers."
   ]
  },
  {
   "cell_type": "markdown",
   "id": "1d600007",
   "metadata": {
    "papermill": {
     "duration": 0.017414,
     "end_time": "2023-04-26T03:48:58.241833",
     "exception": false,
     "start_time": "2023-04-26T03:48:58.224419",
     "status": "completed"
    },
    "tags": []
   },
   "source": [
    "# Optional steps if you want to perform for more granularity."
   ]
  },
  {
   "cell_type": "code",
   "execution_count": 40,
   "id": "a6e23103",
   "metadata": {
    "execution": {
     "iopub.execute_input": "2023-04-26T03:48:58.280609Z",
     "iopub.status.busy": "2023-04-26T03:48:58.279252Z",
     "iopub.status.idle": "2023-04-26T03:48:58.288264Z",
     "shell.execute_reply": "2023-04-26T03:48:58.287223Z"
    },
    "papermill": {
     "duration": 0.030939,
     "end_time": "2023-04-26T03:48:58.290952",
     "exception": false,
     "start_time": "2023-04-26T03:48:58.260013",
     "status": "completed"
    },
    "tags": []
   },
   "outputs": [],
   "source": [
    "# Arguments (x = value, p = recency, monetary_value, frequency,d = quartiles dict)\n",
    "\n",
    "# lower the recency , good for store..\n",
    "\n",
    "def Rscore(x,p,d):\n",
    "    if x <= d[p][0.25]:\n",
    "        return 1\n",
    "    elif x <= d[p][0.50]:\n",
    "        return 2\n",
    "    elif x <= d[p][0.75]:\n",
    "        return 3\n",
    "    else:\n",
    "        return 4\n",
    "    \n",
    "# Arguments (x = value, p= recency, monetary value, frequency, k= quartiles dict)\n",
    "\n",
    "# higher value of frequency and monetary lead to a good consumer.\n",
    "# here higher value = 1 in reverse way.\n",
    "\n",
    "def FMscore(x,p,d):\n",
    "    if x<= d[p][0.25]:\n",
    "        return 4\n",
    "    elif x <= d[p][0.50]:\n",
    "        return 3\n",
    "    elif x <= d[p][0.75]:\n",
    "        return 2\n",
    "    else:\n",
    "        return 1"
   ]
  },
  {
   "cell_type": "code",
   "execution_count": 41,
   "id": "1ea08927",
   "metadata": {
    "execution": {
     "iopub.execute_input": "2023-04-26T03:48:58.328832Z",
     "iopub.status.busy": "2023-04-26T03:48:58.328370Z",
     "iopub.status.idle": "2023-04-26T03:48:58.343917Z",
     "shell.execute_reply": "2023-04-26T03:48:58.342614Z"
    },
    "papermill": {
     "duration": 0.037779,
     "end_time": "2023-04-26T03:48:58.346379",
     "exception": false,
     "start_time": "2023-04-26T03:48:58.308600",
     "status": "completed"
    },
    "tags": []
   },
   "outputs": [
    {
     "data": {
      "text/html": [
       "<div>\n",
       "<style scoped>\n",
       "    .dataframe tbody tr th:only-of-type {\n",
       "        vertical-align: middle;\n",
       "    }\n",
       "\n",
       "    .dataframe tbody tr th {\n",
       "        vertical-align: top;\n",
       "    }\n",
       "\n",
       "    .dataframe thead th {\n",
       "        text-align: right;\n",
       "    }\n",
       "</style>\n",
       "<table border=\"1\" class=\"dataframe\">\n",
       "  <thead>\n",
       "    <tr style=\"text-align: right;\">\n",
       "      <th></th>\n",
       "      <th>recency</th>\n",
       "      <th>Frequency</th>\n",
       "      <th>Monetary</th>\n",
       "    </tr>\n",
       "  </thead>\n",
       "  <tbody>\n",
       "    <tr>\n",
       "      <th>0.25</th>\n",
       "      <td>17.0</td>\n",
       "      <td>1.0</td>\n",
       "      <td>307.245</td>\n",
       "    </tr>\n",
       "    <tr>\n",
       "      <th>0.50</th>\n",
       "      <td>50.0</td>\n",
       "      <td>2.0</td>\n",
       "      <td>674.450</td>\n",
       "    </tr>\n",
       "    <tr>\n",
       "      <th>0.75</th>\n",
       "      <td>141.5</td>\n",
       "      <td>5.0</td>\n",
       "      <td>1661.640</td>\n",
       "    </tr>\n",
       "  </tbody>\n",
       "</table>\n",
       "</div>"
      ],
      "text/plain": [
       "      recency  Frequency  Monetary\n",
       "0.25     17.0        1.0   307.245\n",
       "0.50     50.0        2.0   674.450\n",
       "0.75    141.5        5.0  1661.640"
      ]
     },
     "execution_count": 41,
     "metadata": {},
     "output_type": "execute_result"
    }
   ],
   "source": [
    "''' Quartile is like 25% , 50% and 75% level of values. example \n",
    "if we have 100 values first 25 in 1st quartile 25% then \n",
    "second contain next 25% which is 50% and there after next 25%\n",
    "which is 75% and 4th quartile is more than 75% values'''\n",
    "\n",
    "quantile = rfm.quantile(q = [0.25,0.5,0.75])\n",
    "quantile"
   ]
  },
  {
   "cell_type": "code",
   "execution_count": 42,
   "id": "bb309ba0",
   "metadata": {
    "execution": {
     "iopub.execute_input": "2023-04-26T03:48:58.384025Z",
     "iopub.status.busy": "2023-04-26T03:48:58.383544Z",
     "iopub.status.idle": "2023-04-26T03:48:58.597063Z",
     "shell.execute_reply": "2023-04-26T03:48:58.595932Z"
    },
    "papermill": {
     "duration": 0.235766,
     "end_time": "2023-04-26T03:48:58.599818",
     "exception": false,
     "start_time": "2023-04-26T03:48:58.364052",
     "status": "completed"
    },
    "tags": []
   },
   "outputs": [],
   "source": [
    "rfm_segmentation['R_Quartile'] = rfm_segmentation['recency'].apply(Rscore,args=('recency',quantile))\n",
    "rfm_segmentation['F_Quartile'] = rfm_segmentation['Frequency'].apply(FMscore,args=('Frequency',quantile))\n",
    "rfm_segmentation['M_Quartile'] = rfm_segmentation['Monetary'].apply(FMscore, args=('Monetary',quantile))"
   ]
  },
  {
   "cell_type": "code",
   "execution_count": 43,
   "id": "c0528ff3",
   "metadata": {
    "execution": {
     "iopub.execute_input": "2023-04-26T03:48:58.638043Z",
     "iopub.status.busy": "2023-04-26T03:48:58.637596Z",
     "iopub.status.idle": "2023-04-26T03:48:58.646142Z",
     "shell.execute_reply": "2023-04-26T03:48:58.644890Z"
    },
    "papermill": {
     "duration": 0.030569,
     "end_time": "2023-04-26T03:48:58.648752",
     "exception": false,
     "start_time": "2023-04-26T03:48:58.618183",
     "status": "completed"
    },
    "tags": []
   },
   "outputs": [
    {
     "data": {
      "text/plain": [
       "{'recency': {0.25: 17.0, 0.5: 50.0, 0.75: 141.5},\n",
       " 'Frequency': {0.25: 1.0, 0.5: 2.0, 0.75: 5.0},\n",
       " 'Monetary': {0.25: 307.245, 0.5: 674.45, 0.75: 1661.64}}"
      ]
     },
     "execution_count": 43,
     "metadata": {},
     "output_type": "execute_result"
    }
   ],
   "source": [
    "quantile.to_dict()"
   ]
  },
  {
   "cell_type": "code",
   "execution_count": 44,
   "id": "2d3779e3",
   "metadata": {
    "execution": {
     "iopub.execute_input": "2023-04-26T03:48:58.687113Z",
     "iopub.status.busy": "2023-04-26T03:48:58.686164Z",
     "iopub.status.idle": "2023-04-26T03:48:58.700053Z",
     "shell.execute_reply": "2023-04-26T03:48:58.698611Z"
    },
    "papermill": {
     "duration": 0.035917,
     "end_time": "2023-04-26T03:48:58.702623",
     "exception": false,
     "start_time": "2023-04-26T03:48:58.666706",
     "status": "completed"
    },
    "tags": []
   },
   "outputs": [],
   "source": [
    "# calculate RFM score..\n",
    "\n",
    "rfm_segmentation['RFMscore'] = rfm_segmentation.R_Quartile.map(str) + rfm_segmentation.F_Quartile.map(str) + rfm_segmentation.M_Quartile.map(str)"
   ]
  },
  {
   "cell_type": "code",
   "execution_count": 45,
   "id": "0a70d7ee",
   "metadata": {
    "execution": {
     "iopub.execute_input": "2023-04-26T03:48:58.741010Z",
     "iopub.status.busy": "2023-04-26T03:48:58.740506Z",
     "iopub.status.idle": "2023-04-26T03:48:58.756233Z",
     "shell.execute_reply": "2023-04-26T03:48:58.755006Z"
    },
    "papermill": {
     "duration": 0.037957,
     "end_time": "2023-04-26T03:48:58.758913",
     "exception": false,
     "start_time": "2023-04-26T03:48:58.720956",
     "status": "completed"
    },
    "tags": []
   },
   "outputs": [
    {
     "data": {
      "text/html": [
       "<div>\n",
       "<style scoped>\n",
       "    .dataframe tbody tr th:only-of-type {\n",
       "        vertical-align: middle;\n",
       "    }\n",
       "\n",
       "    .dataframe tbody tr th {\n",
       "        vertical-align: top;\n",
       "    }\n",
       "\n",
       "    .dataframe thead th {\n",
       "        text-align: right;\n",
       "    }\n",
       "</style>\n",
       "<table border=\"1\" class=\"dataframe\">\n",
       "  <thead>\n",
       "    <tr style=\"text-align: right;\">\n",
       "      <th></th>\n",
       "      <th>recency</th>\n",
       "      <th>Frequency</th>\n",
       "      <th>Monetary</th>\n",
       "      <th>cluster</th>\n",
       "      <th>R_Quartile</th>\n",
       "      <th>F_Quartile</th>\n",
       "      <th>M_Quartile</th>\n",
       "      <th>RFMscore</th>\n",
       "    </tr>\n",
       "    <tr>\n",
       "      <th>CustomerID</th>\n",
       "      <th></th>\n",
       "      <th></th>\n",
       "      <th></th>\n",
       "      <th></th>\n",
       "      <th></th>\n",
       "      <th></th>\n",
       "      <th></th>\n",
       "      <th></th>\n",
       "    </tr>\n",
       "  </thead>\n",
       "  <tbody>\n",
       "    <tr>\n",
       "      <th>12346.0</th>\n",
       "      <td>325</td>\n",
       "      <td>1</td>\n",
       "      <td>77183.60</td>\n",
       "      <td>2</td>\n",
       "      <td>4</td>\n",
       "      <td>4</td>\n",
       "      <td>1</td>\n",
       "      <td>441</td>\n",
       "    </tr>\n",
       "    <tr>\n",
       "      <th>12347.0</th>\n",
       "      <td>2</td>\n",
       "      <td>7</td>\n",
       "      <td>4310.00</td>\n",
       "      <td>0</td>\n",
       "      <td>1</td>\n",
       "      <td>1</td>\n",
       "      <td>1</td>\n",
       "      <td>111</td>\n",
       "    </tr>\n",
       "    <tr>\n",
       "      <th>12348.0</th>\n",
       "      <td>75</td>\n",
       "      <td>4</td>\n",
       "      <td>1797.24</td>\n",
       "      <td>0</td>\n",
       "      <td>3</td>\n",
       "      <td>2</td>\n",
       "      <td>1</td>\n",
       "      <td>321</td>\n",
       "    </tr>\n",
       "    <tr>\n",
       "      <th>12349.0</th>\n",
       "      <td>18</td>\n",
       "      <td>1</td>\n",
       "      <td>1757.55</td>\n",
       "      <td>0</td>\n",
       "      <td>2</td>\n",
       "      <td>4</td>\n",
       "      <td>1</td>\n",
       "      <td>241</td>\n",
       "    </tr>\n",
       "    <tr>\n",
       "      <th>12350.0</th>\n",
       "      <td>310</td>\n",
       "      <td>1</td>\n",
       "      <td>334.40</td>\n",
       "      <td>0</td>\n",
       "      <td>4</td>\n",
       "      <td>4</td>\n",
       "      <td>3</td>\n",
       "      <td>443</td>\n",
       "    </tr>\n",
       "  </tbody>\n",
       "</table>\n",
       "</div>"
      ],
      "text/plain": [
       "            recency  Frequency  Monetary  cluster  R_Quartile  F_Quartile  \\\n",
       "CustomerID                                                                  \n",
       "12346.0         325          1  77183.60        2           4           4   \n",
       "12347.0           2          7   4310.00        0           1           1   \n",
       "12348.0          75          4   1797.24        0           3           2   \n",
       "12349.0          18          1   1757.55        0           2           4   \n",
       "12350.0         310          1    334.40        0           4           4   \n",
       "\n",
       "            M_Quartile RFMscore  \n",
       "CustomerID                       \n",
       "12346.0              1      441  \n",
       "12347.0              1      111  \n",
       "12348.0              1      321  \n",
       "12349.0              1      241  \n",
       "12350.0              3      443  "
      ]
     },
     "execution_count": 45,
     "metadata": {},
     "output_type": "execute_result"
    }
   ],
   "source": [
    "rfm_segmentation.head()"
   ]
  },
  {
   "cell_type": "code",
   "execution_count": 46,
   "id": "74629064",
   "metadata": {
    "execution": {
     "iopub.execute_input": "2023-04-26T03:48:58.798057Z",
     "iopub.status.busy": "2023-04-26T03:48:58.797180Z",
     "iopub.status.idle": "2023-04-26T03:48:58.805040Z",
     "shell.execute_reply": "2023-04-26T03:48:58.803990Z"
    },
    "papermill": {
     "duration": 0.030231,
     "end_time": "2023-04-26T03:48:58.807422",
     "exception": false,
     "start_time": "2023-04-26T03:48:58.777191",
     "status": "completed"
    },
    "tags": []
   },
   "outputs": [],
   "source": [
    "''' Another possibility is to combine the scores to create one score \n",
    "(eg. 4+1+1). This will create a score between 3 and 12.\n",
    "Here the advantage is that each of the scoress got same importance.\n",
    "HOwever some scores will have many segments as constituents(eg -413 ad 431)'''\n",
    "rfm_segmentation['Total_score'] = rfm_segmentation['R_Quartile'] + rfm_segmentation['F_Quartile'] + rfm_segmentation['M_Quartile']"
   ]
  },
  {
   "cell_type": "code",
   "execution_count": 47,
   "id": "a4f823c3",
   "metadata": {
    "execution": {
     "iopub.execute_input": "2023-04-26T03:48:58.845963Z",
     "iopub.status.busy": "2023-04-26T03:48:58.845467Z",
     "iopub.status.idle": "2023-04-26T03:48:58.862503Z",
     "shell.execute_reply": "2023-04-26T03:48:58.860982Z"
    },
    "papermill": {
     "duration": 0.03927,
     "end_time": "2023-04-26T03:48:58.865085",
     "exception": false,
     "start_time": "2023-04-26T03:48:58.825815",
     "status": "completed"
    },
    "tags": []
   },
   "outputs": [
    {
     "data": {
      "text/html": [
       "<div>\n",
       "<style scoped>\n",
       "    .dataframe tbody tr th:only-of-type {\n",
       "        vertical-align: middle;\n",
       "    }\n",
       "\n",
       "    .dataframe tbody tr th {\n",
       "        vertical-align: top;\n",
       "    }\n",
       "\n",
       "    .dataframe thead th {\n",
       "        text-align: right;\n",
       "    }\n",
       "</style>\n",
       "<table border=\"1\" class=\"dataframe\">\n",
       "  <thead>\n",
       "    <tr style=\"text-align: right;\">\n",
       "      <th></th>\n",
       "      <th>recency</th>\n",
       "      <th>Frequency</th>\n",
       "      <th>Monetary</th>\n",
       "      <th>cluster</th>\n",
       "      <th>R_Quartile</th>\n",
       "      <th>F_Quartile</th>\n",
       "      <th>M_Quartile</th>\n",
       "      <th>RFMscore</th>\n",
       "      <th>Total_score</th>\n",
       "    </tr>\n",
       "    <tr>\n",
       "      <th>CustomerID</th>\n",
       "      <th></th>\n",
       "      <th></th>\n",
       "      <th></th>\n",
       "      <th></th>\n",
       "      <th></th>\n",
       "      <th></th>\n",
       "      <th></th>\n",
       "      <th></th>\n",
       "      <th></th>\n",
       "    </tr>\n",
       "  </thead>\n",
       "  <tbody>\n",
       "    <tr>\n",
       "      <th>12346.0</th>\n",
       "      <td>325</td>\n",
       "      <td>1</td>\n",
       "      <td>77183.60</td>\n",
       "      <td>2</td>\n",
       "      <td>4</td>\n",
       "      <td>4</td>\n",
       "      <td>1</td>\n",
       "      <td>441</td>\n",
       "      <td>9</td>\n",
       "    </tr>\n",
       "    <tr>\n",
       "      <th>12347.0</th>\n",
       "      <td>2</td>\n",
       "      <td>7</td>\n",
       "      <td>4310.00</td>\n",
       "      <td>0</td>\n",
       "      <td>1</td>\n",
       "      <td>1</td>\n",
       "      <td>1</td>\n",
       "      <td>111</td>\n",
       "      <td>3</td>\n",
       "    </tr>\n",
       "    <tr>\n",
       "      <th>12348.0</th>\n",
       "      <td>75</td>\n",
       "      <td>4</td>\n",
       "      <td>1797.24</td>\n",
       "      <td>0</td>\n",
       "      <td>3</td>\n",
       "      <td>2</td>\n",
       "      <td>1</td>\n",
       "      <td>321</td>\n",
       "      <td>6</td>\n",
       "    </tr>\n",
       "    <tr>\n",
       "      <th>12349.0</th>\n",
       "      <td>18</td>\n",
       "      <td>1</td>\n",
       "      <td>1757.55</td>\n",
       "      <td>0</td>\n",
       "      <td>2</td>\n",
       "      <td>4</td>\n",
       "      <td>1</td>\n",
       "      <td>241</td>\n",
       "      <td>7</td>\n",
       "    </tr>\n",
       "    <tr>\n",
       "      <th>12350.0</th>\n",
       "      <td>310</td>\n",
       "      <td>1</td>\n",
       "      <td>334.40</td>\n",
       "      <td>0</td>\n",
       "      <td>4</td>\n",
       "      <td>4</td>\n",
       "      <td>3</td>\n",
       "      <td>443</td>\n",
       "      <td>11</td>\n",
       "    </tr>\n",
       "  </tbody>\n",
       "</table>\n",
       "</div>"
      ],
      "text/plain": [
       "            recency  Frequency  Monetary  cluster  R_Quartile  F_Quartile  \\\n",
       "CustomerID                                                                  \n",
       "12346.0         325          1  77183.60        2           4           4   \n",
       "12347.0           2          7   4310.00        0           1           1   \n",
       "12348.0          75          4   1797.24        0           3           2   \n",
       "12349.0          18          1   1757.55        0           2           4   \n",
       "12350.0         310          1    334.40        0           4           4   \n",
       "\n",
       "            M_Quartile RFMscore  Total_score  \n",
       "CustomerID                                    \n",
       "12346.0              1      441            9  \n",
       "12347.0              1      111            3  \n",
       "12348.0              1      321            6  \n",
       "12349.0              1      241            7  \n",
       "12350.0              3      443           11  "
      ]
     },
     "execution_count": 47,
     "metadata": {},
     "output_type": "execute_result"
    }
   ],
   "source": [
    "rfm_segmentation.head()"
   ]
  },
  {
   "cell_type": "code",
   "execution_count": 48,
   "id": "c1ac5da3",
   "metadata": {
    "execution": {
     "iopub.execute_input": "2023-04-26T03:48:58.905043Z",
     "iopub.status.busy": "2023-04-26T03:48:58.903930Z",
     "iopub.status.idle": "2023-04-26T03:48:58.920531Z",
     "shell.execute_reply": "2023-04-26T03:48:58.918938Z"
    },
    "papermill": {
     "duration": 0.03931,
     "end_time": "2023-04-26T03:48:58.923051",
     "exception": false,
     "start_time": "2023-04-26T03:48:58.883741",
     "status": "completed"
    },
    "tags": []
   },
   "outputs": [
    {
     "name": "stdout",
     "output_type": "stream",
     "text": [
      "Best Customers:  456\n",
      "Loyal Customers:  872\n",
      "Big Spenders:  1085\n",
      "Almost Lost:  34\n",
      "Lost Customers:  208\n",
      "Lost Cheap Customers:  443\n"
     ]
    }
   ],
   "source": [
    "print(\"Best Customers: \",len(rfm_segmentation[rfm_segmentation['RFMscore']=='111']))\n",
    "print('Loyal Customers: ',len(rfm_segmentation[rfm_segmentation['F_Quartile']==1]))\n",
    "print(\"Big Spenders: \",len(rfm_segmentation[rfm_segmentation['M_Quartile']==1]))\n",
    "print('Almost Lost: ', len(rfm_segmentation[rfm_segmentation['RFMscore']=='134']))\n",
    "print('Lost Customers: ',len(rfm_segmentation[rfm_segmentation['RFMscore']=='344']))\n",
    "print('Lost Cheap Customers: ',len(rfm_segmentation[rfm_segmentation['RFMscore']=='444']))"
   ]
  }
 ],
 "metadata": {
  "kernelspec": {
   "display_name": "Python 3",
   "language": "python",
   "name": "python3"
  },
  "language_info": {
   "codemirror_mode": {
    "name": "ipython",
    "version": 3
   },
   "file_extension": ".py",
   "mimetype": "text/x-python",
   "name": "python",
   "nbconvert_exporter": "python",
   "pygments_lexer": "ipython3",
   "version": "3.7.12"
  },
  "papermill": {
   "default_parameters": {},
   "duration": 87.878897,
   "end_time": "2023-04-26T03:49:00.168712",
   "environment_variables": {},
   "exception": null,
   "input_path": "__notebook__.ipynb",
   "output_path": "__notebook__.ipynb",
   "parameters": {},
   "start_time": "2023-04-26T03:47:32.289815",
   "version": "2.4.0"
  }
 },
 "nbformat": 4,
 "nbformat_minor": 5
}
