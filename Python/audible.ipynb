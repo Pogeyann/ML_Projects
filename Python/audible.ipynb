{
 "cells": [
  {
   "cell_type": "code",
   "execution_count": 109,
   "metadata": {},
   "outputs": [],
   "source": [
    "import pandas as pd\n",
    "import numpy as np\n"
   ]
  },
  {
   "cell_type": "code",
   "execution_count": 110,
   "metadata": {},
   "outputs": [
    {
     "data": {
      "text/html": [
       "<div>\n",
       "<style scoped>\n",
       "    .dataframe tbody tr th:only-of-type {\n",
       "        vertical-align: middle;\n",
       "    }\n",
       "\n",
       "    .dataframe tbody tr th {\n",
       "        vertical-align: top;\n",
       "    }\n",
       "\n",
       "    .dataframe thead th {\n",
       "        text-align: right;\n",
       "    }\n",
       "</style>\n",
       "<table border=\"1\" class=\"dataframe\">\n",
       "  <thead>\n",
       "    <tr style=\"text-align: right;\">\n",
       "      <th></th>\n",
       "      <th>name</th>\n",
       "      <th>author</th>\n",
       "      <th>narrator</th>\n",
       "      <th>time</th>\n",
       "      <th>releasedate</th>\n",
       "      <th>language</th>\n",
       "      <th>stars</th>\n",
       "      <th>price</th>\n",
       "    </tr>\n",
       "  </thead>\n",
       "  <tbody>\n",
       "    <tr>\n",
       "      <th>0</th>\n",
       "      <td>Geronimo Stilton #11 &amp; #12</td>\n",
       "      <td>Writtenby:GeronimoStilton</td>\n",
       "      <td>Narratedby:BillLobely</td>\n",
       "      <td>2 hrs and 20 mins</td>\n",
       "      <td>04-08-08</td>\n",
       "      <td>English</td>\n",
       "      <td>5 out of 5 stars34 ratings</td>\n",
       "      <td>468.00</td>\n",
       "    </tr>\n",
       "    <tr>\n",
       "      <th>1</th>\n",
       "      <td>The Burning Maze</td>\n",
       "      <td>Writtenby:RickRiordan</td>\n",
       "      <td>Narratedby:RobbieDaymond</td>\n",
       "      <td>13 hrs and 8 mins</td>\n",
       "      <td>01-05-18</td>\n",
       "      <td>English</td>\n",
       "      <td>4.5 out of 5 stars41 ratings</td>\n",
       "      <td>820.00</td>\n",
       "    </tr>\n",
       "    <tr>\n",
       "      <th>2</th>\n",
       "      <td>The Deep End</td>\n",
       "      <td>Writtenby:JeffKinney</td>\n",
       "      <td>Narratedby:DanRussell</td>\n",
       "      <td>2 hrs and 3 mins</td>\n",
       "      <td>06-11-20</td>\n",
       "      <td>English</td>\n",
       "      <td>4.5 out of 5 stars38 ratings</td>\n",
       "      <td>410.00</td>\n",
       "    </tr>\n",
       "    <tr>\n",
       "      <th>3</th>\n",
       "      <td>Daughter of the Deep</td>\n",
       "      <td>Writtenby:RickRiordan</td>\n",
       "      <td>Narratedby:SoneelaNankani</td>\n",
       "      <td>11 hrs and 16 mins</td>\n",
       "      <td>05-10-21</td>\n",
       "      <td>English</td>\n",
       "      <td>4.5 out of 5 stars12 ratings</td>\n",
       "      <td>615.00</td>\n",
       "    </tr>\n",
       "    <tr>\n",
       "      <th>4</th>\n",
       "      <td>The Lightning Thief: Percy Jackson, Book 1</td>\n",
       "      <td>Writtenby:RickRiordan</td>\n",
       "      <td>Narratedby:JesseBernstein</td>\n",
       "      <td>10 hrs</td>\n",
       "      <td>13-01-10</td>\n",
       "      <td>English</td>\n",
       "      <td>4.5 out of 5 stars181 ratings</td>\n",
       "      <td>820.00</td>\n",
       "    </tr>\n",
       "    <tr>\n",
       "      <th>...</th>\n",
       "      <td>...</td>\n",
       "      <td>...</td>\n",
       "      <td>...</td>\n",
       "      <td>...</td>\n",
       "      <td>...</td>\n",
       "      <td>...</td>\n",
       "      <td>...</td>\n",
       "      <td>...</td>\n",
       "    </tr>\n",
       "    <tr>\n",
       "      <th>87484</th>\n",
       "      <td>Last Days of the Bus Club</td>\n",
       "      <td>Writtenby:ChrisStewart</td>\n",
       "      <td>Narratedby:ChrisStewart</td>\n",
       "      <td>7 hrs and 34 mins</td>\n",
       "      <td>09-03-17</td>\n",
       "      <td>English</td>\n",
       "      <td>Not rated yet</td>\n",
       "      <td>596.00</td>\n",
       "    </tr>\n",
       "    <tr>\n",
       "      <th>87485</th>\n",
       "      <td>The Alps</td>\n",
       "      <td>Writtenby:StephenO'Shea</td>\n",
       "      <td>Narratedby:RobertFass</td>\n",
       "      <td>10 hrs and 7 mins</td>\n",
       "      <td>21-02-17</td>\n",
       "      <td>English</td>\n",
       "      <td>Not rated yet</td>\n",
       "      <td>820.00</td>\n",
       "    </tr>\n",
       "    <tr>\n",
       "      <th>87486</th>\n",
       "      <td>The Innocents Abroad</td>\n",
       "      <td>Writtenby:MarkTwain</td>\n",
       "      <td>Narratedby:FloGibson</td>\n",
       "      <td>19 hrs and 4 mins</td>\n",
       "      <td>30-12-16</td>\n",
       "      <td>English</td>\n",
       "      <td>Not rated yet</td>\n",
       "      <td>938.00</td>\n",
       "    </tr>\n",
       "    <tr>\n",
       "      <th>87487</th>\n",
       "      <td>A Sentimental Journey</td>\n",
       "      <td>Writtenby:LaurenceSterne</td>\n",
       "      <td>Narratedby:AntonLesser</td>\n",
       "      <td>4 hrs and 8 mins</td>\n",
       "      <td>23-02-11</td>\n",
       "      <td>English</td>\n",
       "      <td>Not rated yet</td>\n",
       "      <td>680.00</td>\n",
       "    </tr>\n",
       "    <tr>\n",
       "      <th>87488</th>\n",
       "      <td>Havana</td>\n",
       "      <td>Writtenby:MarkKurlansky</td>\n",
       "      <td>Narratedby:FleetCooper</td>\n",
       "      <td>6 hrs and 1 min</td>\n",
       "      <td>07-03-17</td>\n",
       "      <td>English</td>\n",
       "      <td>Not rated yet</td>\n",
       "      <td>569.00</td>\n",
       "    </tr>\n",
       "  </tbody>\n",
       "</table>\n",
       "<p>87489 rows × 8 columns</p>\n",
       "</div>"
      ],
      "text/plain": [
       "                                             name                     author  \\\n",
       "0                      Geronimo Stilton #11 & #12  Writtenby:GeronimoStilton   \n",
       "1                                The Burning Maze      Writtenby:RickRiordan   \n",
       "2                                    The Deep End       Writtenby:JeffKinney   \n",
       "3                            Daughter of the Deep      Writtenby:RickRiordan   \n",
       "4      The Lightning Thief: Percy Jackson, Book 1      Writtenby:RickRiordan   \n",
       "...                                           ...                        ...   \n",
       "87484                   Last Days of the Bus Club     Writtenby:ChrisStewart   \n",
       "87485                                    The Alps    Writtenby:StephenO'Shea   \n",
       "87486                        The Innocents Abroad        Writtenby:MarkTwain   \n",
       "87487                       A Sentimental Journey   Writtenby:LaurenceSterne   \n",
       "87488                                      Havana    Writtenby:MarkKurlansky   \n",
       "\n",
       "                        narrator                time releasedate language  \\\n",
       "0          Narratedby:BillLobely   2 hrs and 20 mins    04-08-08  English   \n",
       "1       Narratedby:RobbieDaymond   13 hrs and 8 mins    01-05-18  English   \n",
       "2          Narratedby:DanRussell    2 hrs and 3 mins    06-11-20  English   \n",
       "3      Narratedby:SoneelaNankani  11 hrs and 16 mins    05-10-21  English   \n",
       "4      Narratedby:JesseBernstein              10 hrs    13-01-10  English   \n",
       "...                          ...                 ...         ...      ...   \n",
       "87484    Narratedby:ChrisStewart   7 hrs and 34 mins    09-03-17  English   \n",
       "87485      Narratedby:RobertFass   10 hrs and 7 mins    21-02-17  English   \n",
       "87486       Narratedby:FloGibson   19 hrs and 4 mins    30-12-16  English   \n",
       "87487     Narratedby:AntonLesser    4 hrs and 8 mins    23-02-11  English   \n",
       "87488     Narratedby:FleetCooper     6 hrs and 1 min    07-03-17  English   \n",
       "\n",
       "                               stars   price  \n",
       "0         5 out of 5 stars34 ratings  468.00  \n",
       "1       4.5 out of 5 stars41 ratings  820.00  \n",
       "2       4.5 out of 5 stars38 ratings  410.00  \n",
       "3       4.5 out of 5 stars12 ratings  615.00  \n",
       "4      4.5 out of 5 stars181 ratings  820.00  \n",
       "...                              ...     ...  \n",
       "87484                  Not rated yet  596.00  \n",
       "87485                  Not rated yet  820.00  \n",
       "87486                  Not rated yet  938.00  \n",
       "87487                  Not rated yet  680.00  \n",
       "87488                  Not rated yet  569.00  \n",
       "\n",
       "[87489 rows x 8 columns]"
      ]
     },
     "execution_count": 110,
     "metadata": {},
     "output_type": "execute_result"
    }
   ],
   "source": [
    "df = pd.read_csv('audible_uncleaned.csv')\n",
    "df"
   ]
  },
  {
   "cell_type": "code",
   "execution_count": 111,
   "metadata": {},
   "outputs": [
    {
     "name": "stdout",
     "output_type": "stream",
     "text": [
      "<class 'pandas.core.frame.DataFrame'>\n",
      "RangeIndex: 87489 entries, 0 to 87488\n",
      "Data columns (total 8 columns):\n",
      " #   Column       Non-Null Count  Dtype \n",
      "---  ------       --------------  ----- \n",
      " 0   name         87489 non-null  object\n",
      " 1   author       87489 non-null  object\n",
      " 2   narrator     87489 non-null  object\n",
      " 3   time         87489 non-null  object\n",
      " 4   releasedate  87489 non-null  object\n",
      " 5   language     87489 non-null  object\n",
      " 6   stars        87489 non-null  object\n",
      " 7   price        87489 non-null  object\n",
      "dtypes: object(8)\n",
      "memory usage: 5.3+ MB\n"
     ]
    }
   ],
   "source": [
    "df.info()"
   ]
  },
  {
   "cell_type": "code",
   "execution_count": 112,
   "metadata": {},
   "outputs": [
    {
     "data": {
      "text/plain": [
       "0        468.00\n",
       "1        820.00\n",
       "2        410.00\n",
       "3        615.00\n",
       "4        820.00\n",
       "          ...  \n",
       "87484    596.00\n",
       "87485    820.00\n",
       "87486    938.00\n",
       "87487    680.00\n",
       "87488    569.00\n",
       "Name: price, Length: 87489, dtype: object"
      ]
     },
     "execution_count": 112,
     "metadata": {},
     "output_type": "execute_result"
    }
   ],
   "source": [
    "\n",
    "df.price = df.price.str.replace(',', '')\n",
    "\n",
    "df.price.str.replace('Free','')\n"
   ]
  },
  {
   "cell_type": "code",
   "execution_count": 113,
   "metadata": {},
   "outputs": [
    {
     "data": {
      "text/plain": [
       "0"
      ]
     },
     "execution_count": 113,
     "metadata": {},
     "output_type": "execute_result"
    }
   ],
   "source": [
    "df.price.isnull().sum()"
   ]
  },
  {
   "cell_type": "code",
   "execution_count": 114,
   "metadata": {},
   "outputs": [
    {
     "data": {
      "text/plain": [
       "English             61884\n",
       "german               8295\n",
       "spanish              3496\n",
       "japanese             3167\n",
       "italian              2694\n",
       "french               2386\n",
       "russian              1804\n",
       "danish                935\n",
       "portuguese            526\n",
       "swedish               515\n",
       "Hindi                 436\n",
       "polish                224\n",
       "finnish               197\n",
       "dutch                 190\n",
       "tamil                 161\n",
       "catalan               153\n",
       "mandarin_chinese       97\n",
       "icelandic              52\n",
       "romanian               50\n",
       "hungarian              36\n",
       "urdu                   34\n",
       "afrikaans              28\n",
       "czech                  23\n",
       "turkish                20\n",
       "greek                  18\n",
       "arabic                 16\n",
       "norwegian              16\n",
       "galician               10\n",
       "bulgarian               9\n",
       "korean                  4\n",
       "slovene                 4\n",
       "hebrew                  2\n",
       "basque                  2\n",
       "telugu                  2\n",
       "lithuanian              2\n",
       "ukrainian               1\n",
       "Name: language, dtype: int64"
      ]
     },
     "execution_count": 114,
     "metadata": {},
     "output_type": "execute_result"
    }
   ],
   "source": [
    "df.language.value_counts()"
   ]
  },
  {
   "cell_type": "code",
   "execution_count": 115,
   "metadata": {},
   "outputs": [],
   "source": [
    "df.price = df.price.replace('Free', np.nan)"
   ]
  },
  {
   "cell_type": "code",
   "execution_count": 116,
   "metadata": {},
   "outputs": [],
   "source": [
    "df.price = pd.to_numeric(df.price,errors='coerce')"
   ]
  },
  {
   "cell_type": "code",
   "execution_count": 117,
   "metadata": {},
   "outputs": [],
   "source": [
    "df.price.fillna(df.price.mean(),inplace=True)"
   ]
  },
  {
   "cell_type": "code",
   "execution_count": 118,
   "metadata": {},
   "outputs": [
    {
     "data": {
      "text/plain": [
       "name           0\n",
       "author         0\n",
       "narrator       0\n",
       "time           0\n",
       "releasedate    0\n",
       "language       0\n",
       "stars          0\n",
       "price          0\n",
       "dtype: int64"
      ]
     },
     "execution_count": 118,
     "metadata": {},
     "output_type": "execute_result"
    }
   ],
   "source": [
    "df.isna().sum()"
   ]
  },
  {
   "cell_type": "code",
   "execution_count": 119,
   "metadata": {},
   "outputs": [],
   "source": [
    "# pricecol = df['price']\n",
    "# string_values = pricecol[pricecol.apply(lambda x: isinstance(x, str))]\n",
    "# print(string_values.unique())"
   ]
  },
  {
   "cell_type": "code",
   "execution_count": 120,
   "metadata": {},
   "outputs": [],
   "source": [
    "df.author = df.author.apply(lambda x : x.replace('Writtenby:',''))"
   ]
  },
  {
   "cell_type": "code",
   "execution_count": 121,
   "metadata": {},
   "outputs": [
    {
     "data": {
      "text/plain": [
       "0        GeronimoStilton\n",
       "1            RickRiordan\n",
       "2             JeffKinney\n",
       "3            RickRiordan\n",
       "4            RickRiordan\n",
       "              ...       \n",
       "87484       ChrisStewart\n",
       "87485      StephenO'Shea\n",
       "87486          MarkTwain\n",
       "87487     LaurenceSterne\n",
       "87488      MarkKurlansky\n",
       "Name: author, Length: 87489, dtype: object"
      ]
     },
     "execution_count": 121,
     "metadata": {},
     "output_type": "execute_result"
    }
   ],
   "source": [
    "df.author"
   ]
  },
  {
   "cell_type": "code",
   "execution_count": 122,
   "metadata": {},
   "outputs": [],
   "source": [
    "df.narrator = df.narrator.apply(lambda x : x.replace('Narratedby:',''))"
   ]
  },
  {
   "cell_type": "code",
   "execution_count": 123,
   "metadata": {},
   "outputs": [
    {
     "data": {
      "text/html": [
       "<div>\n",
       "<style scoped>\n",
       "    .dataframe tbody tr th:only-of-type {\n",
       "        vertical-align: middle;\n",
       "    }\n",
       "\n",
       "    .dataframe tbody tr th {\n",
       "        vertical-align: top;\n",
       "    }\n",
       "\n",
       "    .dataframe thead th {\n",
       "        text-align: right;\n",
       "    }\n",
       "</style>\n",
       "<table border=\"1\" class=\"dataframe\">\n",
       "  <thead>\n",
       "    <tr style=\"text-align: right;\">\n",
       "      <th></th>\n",
       "      <th>name</th>\n",
       "      <th>author</th>\n",
       "      <th>narrator</th>\n",
       "      <th>time</th>\n",
       "      <th>releasedate</th>\n",
       "      <th>language</th>\n",
       "      <th>stars</th>\n",
       "      <th>price</th>\n",
       "    </tr>\n",
       "  </thead>\n",
       "  <tbody>\n",
       "    <tr>\n",
       "      <th>0</th>\n",
       "      <td>Geronimo Stilton #11 &amp; #12</td>\n",
       "      <td>GeronimoStilton</td>\n",
       "      <td>BillLobely</td>\n",
       "      <td>2 hrs and 20 mins</td>\n",
       "      <td>04-08-08</td>\n",
       "      <td>English</td>\n",
       "      <td>5 out of 5 stars34 ratings</td>\n",
       "      <td>468.0</td>\n",
       "    </tr>\n",
       "    <tr>\n",
       "      <th>1</th>\n",
       "      <td>The Burning Maze</td>\n",
       "      <td>RickRiordan</td>\n",
       "      <td>RobbieDaymond</td>\n",
       "      <td>13 hrs and 8 mins</td>\n",
       "      <td>01-05-18</td>\n",
       "      <td>English</td>\n",
       "      <td>4.5 out of 5 stars41 ratings</td>\n",
       "      <td>820.0</td>\n",
       "    </tr>\n",
       "    <tr>\n",
       "      <th>2</th>\n",
       "      <td>The Deep End</td>\n",
       "      <td>JeffKinney</td>\n",
       "      <td>DanRussell</td>\n",
       "      <td>2 hrs and 3 mins</td>\n",
       "      <td>06-11-20</td>\n",
       "      <td>English</td>\n",
       "      <td>4.5 out of 5 stars38 ratings</td>\n",
       "      <td>410.0</td>\n",
       "    </tr>\n",
       "    <tr>\n",
       "      <th>3</th>\n",
       "      <td>Daughter of the Deep</td>\n",
       "      <td>RickRiordan</td>\n",
       "      <td>SoneelaNankani</td>\n",
       "      <td>11 hrs and 16 mins</td>\n",
       "      <td>05-10-21</td>\n",
       "      <td>English</td>\n",
       "      <td>4.5 out of 5 stars12 ratings</td>\n",
       "      <td>615.0</td>\n",
       "    </tr>\n",
       "    <tr>\n",
       "      <th>4</th>\n",
       "      <td>The Lightning Thief: Percy Jackson, Book 1</td>\n",
       "      <td>RickRiordan</td>\n",
       "      <td>JesseBernstein</td>\n",
       "      <td>10 hrs</td>\n",
       "      <td>13-01-10</td>\n",
       "      <td>English</td>\n",
       "      <td>4.5 out of 5 stars181 ratings</td>\n",
       "      <td>820.0</td>\n",
       "    </tr>\n",
       "  </tbody>\n",
       "</table>\n",
       "</div>"
      ],
      "text/plain": [
       "                                         name           author  \\\n",
       "0                  Geronimo Stilton #11 & #12  GeronimoStilton   \n",
       "1                            The Burning Maze      RickRiordan   \n",
       "2                                The Deep End       JeffKinney   \n",
       "3                        Daughter of the Deep      RickRiordan   \n",
       "4  The Lightning Thief: Percy Jackson, Book 1      RickRiordan   \n",
       "\n",
       "         narrator                time releasedate language  \\\n",
       "0      BillLobely   2 hrs and 20 mins    04-08-08  English   \n",
       "1   RobbieDaymond   13 hrs and 8 mins    01-05-18  English   \n",
       "2      DanRussell    2 hrs and 3 mins    06-11-20  English   \n",
       "3  SoneelaNankani  11 hrs and 16 mins    05-10-21  English   \n",
       "4  JesseBernstein              10 hrs    13-01-10  English   \n",
       "\n",
       "                           stars  price  \n",
       "0     5 out of 5 stars34 ratings  468.0  \n",
       "1   4.5 out of 5 stars41 ratings  820.0  \n",
       "2   4.5 out of 5 stars38 ratings  410.0  \n",
       "3   4.5 out of 5 stars12 ratings  615.0  \n",
       "4  4.5 out of 5 stars181 ratings  820.0  "
      ]
     },
     "execution_count": 123,
     "metadata": {},
     "output_type": "execute_result"
    }
   ],
   "source": [
    "df.head()"
   ]
  },
  {
   "cell_type": "code",
   "execution_count": 124,
   "metadata": {},
   "outputs": [],
   "source": [
    "def extract_minutes(x):\n",
    "    try:\n",
    "\n",
    "        parts = x.split(' ')\n",
    "        hours = int(parts[0])\n",
    "        minutes = int(parts[-2])\n",
    "        return hours * 60 + minutes\n",
    "    except ValueError:\n",
    "        return None"
   ]
  },
  {
   "cell_type": "code",
   "execution_count": 125,
   "metadata": {},
   "outputs": [],
   "source": [
    "df['time'] = df['time'].apply(extract_minutes)"
   ]
  },
  {
   "cell_type": "code",
   "execution_count": 126,
   "metadata": {},
   "outputs": [
    {
     "data": {
      "text/plain": [
       "61"
      ]
     },
     "execution_count": 126,
     "metadata": {},
     "output_type": "execute_result"
    }
   ],
   "source": [
    "df.time.isnull().sum()"
   ]
  },
  {
   "cell_type": "code",
   "execution_count": 127,
   "metadata": {},
   "outputs": [],
   "source": [
    "df.interpolate(method='linear',inplace=True)"
   ]
  },
  {
   "cell_type": "code",
   "execution_count": 128,
   "metadata": {},
   "outputs": [
    {
     "data": {
      "text/plain": [
       "0"
      ]
     },
     "execution_count": 128,
     "metadata": {},
     "output_type": "execute_result"
    }
   ],
   "source": [
    "df.time.isnull().sum()"
   ]
  },
  {
   "cell_type": "code",
   "execution_count": 129,
   "metadata": {},
   "outputs": [],
   "source": [
    "df[['Stars','Ratings']] = df['stars'].str.extract(r'^([\\d.]+) out of \\d+ stars(\\d+) ratings')"
   ]
  },
  {
   "cell_type": "code",
   "execution_count": 130,
   "metadata": {},
   "outputs": [
    {
     "data": {
      "text/html": [
       "<div>\n",
       "<style scoped>\n",
       "    .dataframe tbody tr th:only-of-type {\n",
       "        vertical-align: middle;\n",
       "    }\n",
       "\n",
       "    .dataframe tbody tr th {\n",
       "        vertical-align: top;\n",
       "    }\n",
       "\n",
       "    .dataframe thead th {\n",
       "        text-align: right;\n",
       "    }\n",
       "</style>\n",
       "<table border=\"1\" class=\"dataframe\">\n",
       "  <thead>\n",
       "    <tr style=\"text-align: right;\">\n",
       "      <th></th>\n",
       "      <th>Stars</th>\n",
       "      <th>Ratings</th>\n",
       "    </tr>\n",
       "  </thead>\n",
       "  <tbody>\n",
       "    <tr>\n",
       "      <th>0</th>\n",
       "      <td>5</td>\n",
       "      <td>34</td>\n",
       "    </tr>\n",
       "    <tr>\n",
       "      <th>1</th>\n",
       "      <td>4.5</td>\n",
       "      <td>41</td>\n",
       "    </tr>\n",
       "    <tr>\n",
       "      <th>2</th>\n",
       "      <td>4.5</td>\n",
       "      <td>38</td>\n",
       "    </tr>\n",
       "    <tr>\n",
       "      <th>3</th>\n",
       "      <td>4.5</td>\n",
       "      <td>12</td>\n",
       "    </tr>\n",
       "    <tr>\n",
       "      <th>4</th>\n",
       "      <td>4.5</td>\n",
       "      <td>181</td>\n",
       "    </tr>\n",
       "    <tr>\n",
       "      <th>...</th>\n",
       "      <td>...</td>\n",
       "      <td>...</td>\n",
       "    </tr>\n",
       "    <tr>\n",
       "      <th>87484</th>\n",
       "      <td>NaN</td>\n",
       "      <td>NaN</td>\n",
       "    </tr>\n",
       "    <tr>\n",
       "      <th>87485</th>\n",
       "      <td>NaN</td>\n",
       "      <td>NaN</td>\n",
       "    </tr>\n",
       "    <tr>\n",
       "      <th>87486</th>\n",
       "      <td>NaN</td>\n",
       "      <td>NaN</td>\n",
       "    </tr>\n",
       "    <tr>\n",
       "      <th>87487</th>\n",
       "      <td>NaN</td>\n",
       "      <td>NaN</td>\n",
       "    </tr>\n",
       "    <tr>\n",
       "      <th>87488</th>\n",
       "      <td>NaN</td>\n",
       "      <td>NaN</td>\n",
       "    </tr>\n",
       "  </tbody>\n",
       "</table>\n",
       "<p>87489 rows × 2 columns</p>\n",
       "</div>"
      ],
      "text/plain": [
       "      Stars Ratings\n",
       "0         5      34\n",
       "1       4.5      41\n",
       "2       4.5      38\n",
       "3       4.5      12\n",
       "4       4.5     181\n",
       "...     ...     ...\n",
       "87484   NaN     NaN\n",
       "87485   NaN     NaN\n",
       "87486   NaN     NaN\n",
       "87487   NaN     NaN\n",
       "87488   NaN     NaN\n",
       "\n",
       "[87489 rows x 2 columns]"
      ]
     },
     "execution_count": 130,
     "metadata": {},
     "output_type": "execute_result"
    }
   ],
   "source": [
    "df[['Stars','Ratings']]"
   ]
  },
  {
   "cell_type": "code",
   "execution_count": 138,
   "metadata": {},
   "outputs": [],
   "source": [
    "df = df.dropna()"
   ]
  },
  {
   "cell_type": "code",
   "execution_count": 140,
   "metadata": {},
   "outputs": [
    {
     "data": {
      "text/html": [
       "<div>\n",
       "<style scoped>\n",
       "    .dataframe tbody tr th:only-of-type {\n",
       "        vertical-align: middle;\n",
       "    }\n",
       "\n",
       "    .dataframe tbody tr th {\n",
       "        vertical-align: top;\n",
       "    }\n",
       "\n",
       "    .dataframe thead th {\n",
       "        text-align: right;\n",
       "    }\n",
       "</style>\n",
       "<table border=\"1\" class=\"dataframe\">\n",
       "  <thead>\n",
       "    <tr style=\"text-align: right;\">\n",
       "      <th></th>\n",
       "      <th>name</th>\n",
       "      <th>author</th>\n",
       "      <th>narrator</th>\n",
       "      <th>time</th>\n",
       "      <th>releasedate</th>\n",
       "      <th>language</th>\n",
       "      <th>price</th>\n",
       "      <th>Stars</th>\n",
       "      <th>Ratings</th>\n",
       "    </tr>\n",
       "  </thead>\n",
       "  <tbody>\n",
       "    <tr>\n",
       "      <th>0</th>\n",
       "      <td>Geronimo Stilton #11 &amp; #12</td>\n",
       "      <td>GeronimoStilton</td>\n",
       "      <td>BillLobely</td>\n",
       "      <td>140.0</td>\n",
       "      <td>04-08-08</td>\n",
       "      <td>English</td>\n",
       "      <td>468.0</td>\n",
       "      <td>5</td>\n",
       "      <td>34</td>\n",
       "    </tr>\n",
       "    <tr>\n",
       "      <th>1</th>\n",
       "      <td>The Burning Maze</td>\n",
       "      <td>RickRiordan</td>\n",
       "      <td>RobbieDaymond</td>\n",
       "      <td>788.0</td>\n",
       "      <td>01-05-18</td>\n",
       "      <td>English</td>\n",
       "      <td>820.0</td>\n",
       "      <td>4.5</td>\n",
       "      <td>41</td>\n",
       "    </tr>\n",
       "    <tr>\n",
       "      <th>2</th>\n",
       "      <td>The Deep End</td>\n",
       "      <td>JeffKinney</td>\n",
       "      <td>DanRussell</td>\n",
       "      <td>123.0</td>\n",
       "      <td>06-11-20</td>\n",
       "      <td>English</td>\n",
       "      <td>410.0</td>\n",
       "      <td>4.5</td>\n",
       "      <td>38</td>\n",
       "    </tr>\n",
       "    <tr>\n",
       "      <th>3</th>\n",
       "      <td>Daughter of the Deep</td>\n",
       "      <td>RickRiordan</td>\n",
       "      <td>SoneelaNankani</td>\n",
       "      <td>676.0</td>\n",
       "      <td>05-10-21</td>\n",
       "      <td>English</td>\n",
       "      <td>615.0</td>\n",
       "      <td>4.5</td>\n",
       "      <td>12</td>\n",
       "    </tr>\n",
       "    <tr>\n",
       "      <th>4</th>\n",
       "      <td>The Lightning Thief: Percy Jackson, Book 1</td>\n",
       "      <td>RickRiordan</td>\n",
       "      <td>JesseBernstein</td>\n",
       "      <td>610.0</td>\n",
       "      <td>13-01-10</td>\n",
       "      <td>English</td>\n",
       "      <td>820.0</td>\n",
       "      <td>4.5</td>\n",
       "      <td>181</td>\n",
       "    </tr>\n",
       "  </tbody>\n",
       "</table>\n",
       "</div>"
      ],
      "text/plain": [
       "                                         name           author  \\\n",
       "0                  Geronimo Stilton #11 & #12  GeronimoStilton   \n",
       "1                            The Burning Maze      RickRiordan   \n",
       "2                                The Deep End       JeffKinney   \n",
       "3                        Daughter of the Deep      RickRiordan   \n",
       "4  The Lightning Thief: Percy Jackson, Book 1      RickRiordan   \n",
       "\n",
       "         narrator   time releasedate language  price Stars Ratings  \n",
       "0      BillLobely  140.0    04-08-08  English  468.0     5      34  \n",
       "1   RobbieDaymond  788.0    01-05-18  English  820.0   4.5      41  \n",
       "2      DanRussell  123.0    06-11-20  English  410.0   4.5      38  \n",
       "3  SoneelaNankani  676.0    05-10-21  English  615.0   4.5      12  \n",
       "4  JesseBernstein  610.0    13-01-10  English  820.0   4.5     181  "
      ]
     },
     "execution_count": 140,
     "metadata": {},
     "output_type": "execute_result"
    }
   ],
   "source": [
    "df.head()"
   ]
  },
  {
   "cell_type": "code",
   "execution_count": 141,
   "metadata": {},
   "outputs": [
    {
     "data": {
      "text/plain": [
       "English    8858\n",
       "Hindi       266\n",
       "tamil        68\n",
       "german        7\n",
       "urdu          7\n",
       "french        2\n",
       "polish        1\n",
       "danish        1\n",
       "italian       1\n",
       "Name: language, dtype: int64"
      ]
     },
     "execution_count": 141,
     "metadata": {},
     "output_type": "execute_result"
    }
   ],
   "source": [
    "df.language.value_counts()"
   ]
  },
  {
   "cell_type": "code",
   "execution_count": 152,
   "metadata": {},
   "outputs": [
    {
     "data": {
      "text/plain": [
       "<AxesSubplot: xlabel='Stars', ylabel='Price Count'>"
      ]
     },
     "execution_count": 152,
     "metadata": {},
     "output_type": "execute_result"
    },
    {
     "data": {
      "image/png": "[encoded data removed]",
      "text/plain": [
       "<Figure size 640x480 with 1 Axes>"
      ]
     },
     "metadata": {},
     "output_type": "display_data"
    }
   ],
   "source": [
    "df1 = df.groupby(['Stars']) ['price'].count().sort_values(ascending=False)\n",
    "df1.plot(kind='bar',xlabel='Stars',cmap='viridis',ylabel='Price Count')"
   ]
  },
  {
   "cell_type": "code",
   "execution_count": 155,
   "metadata": {},
   "outputs": [
    {
     "name": "stderr",
     "output_type": "stream",
     "text": [
      "C:\\Users\\Administrator\\AppData\\Local\\Temp\\ipykernel_11484\\2814554231.py:1: SettingWithCopyWarning: \n",
      "A value is trying to be set on a copy of a slice from a DataFrame.\n",
      "Try using .loc[row_indexer,col_indexer] = value instead\n",
      "\n",
      "See the caveats in the documentation: https://pandas.pydata.org/pandas-docs/stable/user_guide/indexing.html#returning-a-view-versus-a-copy\n",
      "  df['releasedate'] = pd.to_datetime(df['releasedate'])\n"
     ]
    },
    {
     "data": {
      "text/plain": [
       "0       2008-04-08\n",
       "1       2018-01-05\n",
       "2       2020-06-11\n",
       "3       2021-05-10\n",
       "4       2010-01-13\n",
       "           ...    \n",
       "86991   2013-01-02\n",
       "86993   2020-12-11\n",
       "87010   2008-02-26\n",
       "87017   2011-09-09\n",
       "87018   2017-01-08\n",
       "Name: releasedate, Length: 9211, dtype: datetime64[ns]"
      ]
     },
     "execution_count": 155,
     "metadata": {},
     "output_type": "execute_result"
    }
   ],
   "source": [
    "df['releasedate'] = pd.to_datetime(df['releasedate'])\n",
    "df.releasedate\n"
   ]
  },
  {
   "cell_type": "code",
   "execution_count": 157,
   "metadata": {},
   "outputs": [
    {
     "name": "stdout",
     "output_type": "stream",
     "text": [
      "<class 'pandas.core.frame.DataFrame'>\n",
      "Int64Index: 9211 entries, 0 to 87018\n",
      "Data columns (total 9 columns):\n",
      " #   Column       Non-Null Count  Dtype         \n",
      "---  ------       --------------  -----         \n",
      " 0   name         9211 non-null   object        \n",
      " 1   author       9211 non-null   object        \n",
      " 2   narrator     9211 non-null   object        \n",
      " 3   time         9211 non-null   float64       \n",
      " 4   releasedate  9211 non-null   datetime64[ns]\n",
      " 5   language     9211 non-null   object        \n",
      " 6   price        9211 non-null   float64       \n",
      " 7   Stars        9211 non-null   object        \n",
      " 8   Ratings      9211 non-null   object        \n",
      "dtypes: datetime64[ns](1), float64(2), object(6)\n",
      "memory usage: 719.6+ KB\n"
     ]
    }
   ],
   "source": [
    "df.info()"
   ]
  },
  {
   "cell_type": "code",
   "execution_count": 160,
   "metadata": {},
   "outputs": [
    {
     "name": "stderr",
     "output_type": "stream",
     "text": [
      "C:\\Users\\Administrator\\AppData\\Local\\Temp\\ipykernel_11484\\1758093287.py:1: SettingWithCopyWarning: \n",
      "A value is trying to be set on a copy of a slice from a DataFrame\n",
      "\n",
      "See the caveats in the documentation: https://pandas.pydata.org/pandas-docs/stable/user_guide/indexing.html#returning-a-view-versus-a-copy\n",
      "  df.rename(columns = {'Stars':'stars','Ratings':'ratings'},inplace=True)\n"
     ]
    }
   ],
   "source": [
    "df.rename(columns = {'Stars':'stars','Ratings':'ratings'},inplace=True)"
   ]
  },
  {
   "cell_type": "code",
   "execution_count": 161,
   "metadata": {},
   "outputs": [
    {
     "name": "stderr",
     "output_type": "stream",
     "text": [
      "C:\\Users\\Administrator\\AppData\\Local\\Temp\\ipykernel_11484\\1444374649.py:1: SettingWithCopyWarning: \n",
      "A value is trying to be set on a copy of a slice from a DataFrame.\n",
      "Try using .loc[row_indexer,col_indexer] = value instead\n",
      "\n",
      "See the caveats in the documentation: https://pandas.pydata.org/pandas-docs/stable/user_guide/indexing.html#returning-a-view-versus-a-copy\n",
      "  df['stars'] = df['stars'].astype(float)\n"
     ]
    }
   ],
   "source": [
    "df['stars'] = df['stars'].astype(float)"
   ]
  },
  {
   "cell_type": "code",
   "execution_count": 163,
   "metadata": {},
   "outputs": [
    {
     "name": "stderr",
     "output_type": "stream",
     "text": [
      "C:\\Users\\Administrator\\AppData\\Local\\Temp\\ipykernel_11484\\217876988.py:1: SettingWithCopyWarning: \n",
      "A value is trying to be set on a copy of a slice from a DataFrame.\n",
      "Try using .loc[row_indexer,col_indexer] = value instead\n",
      "\n",
      "See the caveats in the documentation: https://pandas.pydata.org/pandas-docs/stable/user_guide/indexing.html#returning-a-view-versus-a-copy\n",
      "  df.ratings = df.ratings.astype(int)\n"
     ]
    }
   ],
   "source": [
    "df.ratings = df.ratings.astype(int)"
   ]
  },
  {
   "cell_type": "code",
   "execution_count": 164,
   "metadata": {},
   "outputs": [
    {
     "name": "stdout",
     "output_type": "stream",
     "text": [
      "<class 'pandas.core.frame.DataFrame'>\n",
      "Int64Index: 9211 entries, 0 to 87018\n",
      "Data columns (total 9 columns):\n",
      " #   Column       Non-Null Count  Dtype         \n",
      "---  ------       --------------  -----         \n",
      " 0   name         9211 non-null   object        \n",
      " 1   author       9211 non-null   object        \n",
      " 2   narrator     9211 non-null   object        \n",
      " 3   time         9211 non-null   float64       \n",
      " 4   releasedate  9211 non-null   datetime64[ns]\n",
      " 5   language     9211 non-null   object        \n",
      " 6   price        9211 non-null   float64       \n",
      " 7   stars        9211 non-null   float64       \n",
      " 8   ratings      9211 non-null   int32         \n",
      "dtypes: datetime64[ns](1), float64(3), int32(1), object(4)\n",
      "memory usage: 683.6+ KB\n"
     ]
    }
   ],
   "source": [
    "df.info()"
   ]
  }
 ],
 "metadata": {
  "kernelspec": {
   "display_name": "Python 3",
   "language": "python",
   "name": "python3"
  },
  "language_info": {
   "codemirror_mode": {
    "name": "ipython",
    "version": 3
   },
   "file_extension": ".py",
   "mimetype": "text/x-python",
   "name": "python",
   "nbconvert_exporter": "python",
   "pygments_lexer": "ipython3",
   "version": "3.10.6 (tags/v3.10.6:9c7b4bd, Aug  1 2022, 21:53:49) [MSC v.1932 64 bit (AMD64)]"
  },
  "orig_nbformat": 4,
  "vscode": {
   "interpreter": {
    "hash": "3196968d684371006099b3d55edeef8ed90365227a30deaef86e5d4aa8519be0"
   }
  }
 },
 "nbformat": 4,
 "nbformat_minor": 2
}
