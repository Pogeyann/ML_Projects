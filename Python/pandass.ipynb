{
 "cells": [
  {
   "cell_type": "code",
   "execution_count": 4,
   "metadata": {},
   "outputs": [],
   "source": [
    "import pandas as pd\n",
    "import numpy as np\n",
    "\n",
    "transactions = {\"transaction_id\" : [1, 2, 3, 4, 5], \"product_id\" : [101, 102, 103, 104, 105], \"amount\" : [3, 5, 8, 3, 2]}\n",
    "products = {\"product_id\" : [101, 102, 103, 104, 105], \"price\" : [20.00, 21.00, 15.00, 16.00, 52.00]}\n",
    "df_transactions = pd.DataFrame(transactions)\n",
    "\n",
    "df_products = pd.DataFrame(products)\n",
    "# df_concat = pd.merge('df_transactions','df_products',on='product_id')\n",
    "# print(df_concat)\n"
   ]
  },
  {
   "cell_type": "code",
   "execution_count": 8,
   "metadata": {},
   "outputs": [
    {
     "data": {
      "text/html": [
       "<div>\n",
       "<style scoped>\n",
       "    .dataframe tbody tr th:only-of-type {\n",
       "        vertical-align: middle;\n",
       "    }\n",
       "\n",
       "    .dataframe tbody tr th {\n",
       "        vertical-align: top;\n",
       "    }\n",
       "\n",
       "    .dataframe thead th {\n",
       "        text-align: right;\n",
       "    }\n",
       "</style>\n",
       "<table border=\"1\" class=\"dataframe\">\n",
       "  <thead>\n",
       "    <tr style=\"text-align: right;\">\n",
       "      <th></th>\n",
       "      <th>transaction_id</th>\n",
       "      <th>product_id</th>\n",
       "      <th>amount</th>\n",
       "      <th>price</th>\n",
       "    </tr>\n",
       "  </thead>\n",
       "  <tbody>\n",
       "    <tr>\n",
       "      <th>0</th>\n",
       "      <td>1</td>\n",
       "      <td>101</td>\n",
       "      <td>3</td>\n",
       "      <td>20.0</td>\n",
       "    </tr>\n",
       "    <tr>\n",
       "      <th>1</th>\n",
       "      <td>2</td>\n",
       "      <td>102</td>\n",
       "      <td>5</td>\n",
       "      <td>21.0</td>\n",
       "    </tr>\n",
       "    <tr>\n",
       "      <th>2</th>\n",
       "      <td>3</td>\n",
       "      <td>103</td>\n",
       "      <td>8</td>\n",
       "      <td>15.0</td>\n",
       "    </tr>\n",
       "    <tr>\n",
       "      <th>3</th>\n",
       "      <td>4</td>\n",
       "      <td>104</td>\n",
       "      <td>3</td>\n",
       "      <td>16.0</td>\n",
       "    </tr>\n",
       "    <tr>\n",
       "      <th>4</th>\n",
       "      <td>5</td>\n",
       "      <td>105</td>\n",
       "      <td>2</td>\n",
       "      <td>52.0</td>\n",
       "    </tr>\n",
       "  </tbody>\n",
       "</table>\n",
       "</div>"
      ],
      "text/plain": [
       "   transaction_id  product_id  amount  price\n",
       "0               1         101       3   20.0\n",
       "1               2         102       5   21.0\n",
       "2               3         103       8   15.0\n",
       "3               4         104       3   16.0\n",
       "4               5         105       2   52.0"
      ]
     },
     "execution_count": 8,
     "metadata": {},
     "output_type": "execute_result"
    }
   ],
   "source": [
    "df = pd.merge(df_transactions,df_products,how='left',on='product_id')\n",
    "df['total_value'] = df['amount'] * df['price']"
   ]
  },
  {
   "cell_type": "code",
   "execution_count": 22,
   "metadata": {},
   "outputs": [
    {
     "data": {
      "text/html": [
       "<div>\n",
       "<style scoped>\n",
       "    .dataframe tbody tr th:only-of-type {\n",
       "        vertical-align: middle;\n",
       "    }\n",
       "\n",
       "    .dataframe tbody tr th {\n",
       "        vertical-align: top;\n",
       "    }\n",
       "\n",
       "    .dataframe thead th {\n",
       "        text-align: right;\n",
       "    }\n",
       "</style>\n",
       "<table border=\"1\" class=\"dataframe\">\n",
       "  <thead>\n",
       "    <tr style=\"text-align: right;\">\n",
       "      <th></th>\n",
       "      <th>address</th>\n",
       "      <th>city_name</th>\n",
       "      <th>city</th>\n",
       "      <th>street no</th>\n",
       "    </tr>\n",
       "  </thead>\n",
       "  <tbody>\n",
       "    <tr>\n",
       "      <th>0</th>\n",
       "      <td>4860 Sunset Boulevard, San Francisco, 94105</td>\n",
       "      <td>4860 Sunset Boulevard</td>\n",
       "      <td>San Francisco</td>\n",
       "      <td>94105</td>\n",
       "    </tr>\n",
       "    <tr>\n",
       "      <th>1</th>\n",
       "      <td>3055 Paradise Lane, Salt Lake City, 84103</td>\n",
       "      <td>3055 Paradise Lane</td>\n",
       "      <td>Salt Lake City</td>\n",
       "      <td>84103</td>\n",
       "    </tr>\n",
       "    <tr>\n",
       "      <th>2</th>\n",
       "      <td>682 Main Street, Detroit, 48204</td>\n",
       "      <td>682 Main Street</td>\n",
       "      <td>Detroit</td>\n",
       "      <td>48204</td>\n",
       "    </tr>\n",
       "    <tr>\n",
       "      <th>3</th>\n",
       "      <td>9001 Cascade Road, Kansas City, 64102</td>\n",
       "      <td>9001 Cascade Road</td>\n",
       "      <td>Kansas City</td>\n",
       "      <td>64102</td>\n",
       "    </tr>\n",
       "    <tr>\n",
       "      <th>4</th>\n",
       "      <td>5853 Leon Street, Tampa, 33605</td>\n",
       "      <td>5853 Leon Street</td>\n",
       "      <td>Tampa</td>\n",
       "      <td>33605</td>\n",
       "    </tr>\n",
       "  </tbody>\n",
       "</table>\n",
       "</div>"
      ],
      "text/plain": [
       "                                       address              city_name  \\\n",
       "0  4860 Sunset Boulevard, San Francisco, 94105  4860 Sunset Boulevard   \n",
       "1    3055 Paradise Lane, Salt Lake City, 84103     3055 Paradise Lane   \n",
       "2              682 Main Street, Detroit, 48204        682 Main Street   \n",
       "3        9001 Cascade Road, Kansas City, 64102      9001 Cascade Road   \n",
       "4               5853 Leon Street, Tampa, 33605       5853 Leon Street   \n",
       "\n",
       "              city street no  \n",
       "0    San Francisco     94105  \n",
       "1   Salt Lake City     84103  \n",
       "2          Detroit     48204  \n",
       "3      Kansas City     64102  \n",
       "4            Tampa     33605  "
      ]
     },
     "execution_count": 22,
     "metadata": {},
     "output_type": "execute_result"
    }
   ],
   "source": [
    "import pandas as pd\n",
    "\n",
    "addresses = {\"address\": [\"4860 Sunset Boulevard, San Francisco, 94105\", \"3055 Paradise Lane, Salt Lake City, 84103\", \"682 Main Street, Detroit, 48204\", \"9001 Cascade Road, Kansas City, 64102\", \"5853 Leon Street, Tampa, 33605\"]}\n",
    "\n",
    "cities = {\"city\": [\"Salt Lake City\", \"Kansas City\", \"Detroit\", \"Tampa\", \"San Francisco\"], \"state\": [\"Utah\", \"Missouri\", \"Michigan\", \"Florida\", \"California\"]}\n",
    "\n",
    "df_addresses = pd.DataFrame(addresses)\n",
    "df_cities = pd.DataFrame(cities)\n",
    "df_addresses[['city_name','city','street no']] = df_addresses['address'].str.split(',',expand=True)\n",
    "df_addresses"
   ]
  },
  {
   "cell_type": "code",
   "execution_count": 21,
   "metadata": {},
   "outputs": [],
   "source": [
    "df_addresses.drop('address',axis=1,inplace=True)\n",
    "df_merged = pd.merge(df_addresses, df_cities,how='left',on='city')\n"
   ]
  },
  {
   "cell_type": "code",
   "execution_count": null,
   "metadata": {},
   "outputs": [],
   "source": [
    "ls = ['as','as','r','ss', 'as', 'r', 'sa']\n",
    "for i in ls:\n",
    "    d[i] = d.get(i,0) + 1"
   ]
  }
 ],
 "metadata": {
  "kernelspec": {
   "display_name": "Python 3",
   "language": "python",
   "name": "python3"
  },
  "language_info": {
   "codemirror_mode": {
    "name": "ipython",
    "version": 3
   },
   "file_extension": ".py",
   "mimetype": "text/x-python",
   "name": "python",
   "nbconvert_exporter": "python",
   "pygments_lexer": "ipython3",
   "version": "3.10.6 (tags/v3.10.6:9c7b4bd, Aug  1 2022, 21:53:49) [MSC v.1932 64 bit (AMD64)]"
  },
  "orig_nbformat": 4,
  "vscode": {
   "interpreter": {
    "hash": "3196968d684371006099b3d55edeef8ed90365227a30deaef86e5d4aa8519be0"
   }
  }
 },
 "nbformat": 4,
 "nbformat_minor": 2
}
