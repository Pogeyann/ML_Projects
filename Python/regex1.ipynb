{
 "cells": [
  {
   "cell_type": "code",
   "execution_count": 1,
   "metadata": {},
   "outputs": [
    {
     "ename": "TypeError",
     "evalue": "sub() missing 1 required positional argument: 'string'",
     "output_type": "error",
     "traceback": [
      "\u001b[1;31m---------------------------------------------------------------------------\u001b[0m",
      "\u001b[1;31mTypeError\u001b[0m                                 Traceback (most recent call last)",
      "Cell \u001b[1;32mIn[1], line 4\u001b[0m\n\u001b[0;32m      1\u001b[0m \u001b[39mimport\u001b[39;00m \u001b[39mre\u001b[39;00m\n\u001b[0;32m      3\u001b[0m text \u001b[39m=\u001b[39m \u001b[39m'\u001b[39m\u001b[39m50 Best Ever French Films - jan 10 2020\u001b[39m\u001b[39m'\u001b[39m\n\u001b[1;32m----> 4\u001b[0m d1 \u001b[39m=\u001b[39m re\u001b[39m.\u001b[39;49msub(\u001b[39m'\u001b[39;49m\u001b[39m[a-z]\u001b[39;49m\u001b[39m'\u001b[39;49m,text)\n\u001b[0;32m      5\u001b[0m \u001b[39mprint\u001b[39m(d1)\n\u001b[0;32m      6\u001b[0m data \u001b[39m=\u001b[39m re\u001b[39m.\u001b[39mfindall(\u001b[39m\"\u001b[39m\u001b[39m[A-Z]\u001b[39m\u001b[39m\"\u001b[39m,text)\n",
      "\u001b[1;31mTypeError\u001b[0m: sub() missing 1 required positional argument: 'string'"
     ]
    }
   ],
   "source": [
    "import re\n",
    "\n",
    "text = '50 Best Ever French Films - jan 10 2020'\n",
    "d1 = re.sub('[a-z]',text)\n",
    "print(d1)\n",
    "data = re.findall(\"[A-Z]\",text)\n",
    "data\n",
    "import pandas as pd\n"
   ]
  },
  {
   "cell_type": "code",
   "execution_count": 3,
   "metadata": {},
   "outputs": [
    {
     "name": "stdout",
     "output_type": "stream",
     "text": [
      "['Bes', 'Eve', 'Fre', 'Fil']\n"
     ]
    }
   ],
   "source": [
    "import re\n",
    "text = '50 Best Ever French Films - jan 10 2020'\n",
    "data = re.findall(\"[A-Z][a-z]{2}\",text)\n",
    "print(data)"
   ]
  },
  {
   "attachments": {},
   "cell_type": "markdown",
   "metadata": {},
   "source": [
    "[abcde]0 - only\n",
    " \n",
    "[^abcde] - excludes abcde\n",
    "\n",
    "\\s : will show whitespaces\n",
    "\n",
    "\\S: NON whitespace\n",
    "\n",
    "\\d :will filter digits\n",
    "\n",
    "\\D will filter non digits\n",
    "\n",
    "\\w - will show word class [a-z][A-Z],[0-9] and usually underscore:'_'\n",
    "\n",
    "\\W nonword\n",
    "\n",
    ". - captures any characters\n",
    ".* "
   ]
  },
  {
   "cell_type": "code",
   "execution_count": 15,
   "metadata": {},
   "outputs": [
    {
     "name": "stdout",
     "output_type": "stream",
     "text": [
      "['5', '0', '1', '0', '2', '0', '2', '0']\n",
      "['50', '10', '2020']\n"
     ]
    },
    {
     "data": {
      "text/plain": [
       "['50',\n",
       " '',\n",
       " '',\n",
       " '',\n",
       " '',\n",
       " '',\n",
       " '',\n",
       " '',\n",
       " '',\n",
       " '',\n",
       " '',\n",
       " '',\n",
       " '',\n",
       " '',\n",
       " '',\n",
       " '',\n",
       " '',\n",
       " '',\n",
       " '',\n",
       " '',\n",
       " '',\n",
       " '',\n",
       " '',\n",
       " '',\n",
       " '',\n",
       " '',\n",
       " '',\n",
       " '',\n",
       " '',\n",
       " '',\n",
       " '',\n",
       " '10',\n",
       " '',\n",
       " '2020',\n",
       " '']"
      ]
     },
     "execution_count": 15,
     "metadata": {},
     "output_type": "execute_result"
    }
   ],
   "source": [
    "import re\n",
    "text = '50 Best Ever French Films - jan 10 2020'\n",
    "data = re.findall('\\d+',text)\n",
    "data1= re.findall(\"\\d\",text)\n",
    "print(data1)\n",
    "print(data)\n",
    "\n",
    "data2 = re.findall(\"\\d*\",text)\n",
    "data2\n"
   ]
  },
  {
   "cell_type": "code",
   "execution_count": 24,
   "metadata": {},
   "outputs": [
    {
     "data": {
      "text/plain": [
       "[' Best Ever French Films - jan ', ' ']"
      ]
     },
     "execution_count": 24,
     "metadata": {},
     "output_type": "execute_result"
    }
   ],
   "source": [
    "#Regex with no digits\n",
    "import re\n",
    "\n",
    "txt = '50 Best Ever French Films - jan 10 2020'\n",
    "data = re.findall(\"\\D+\",txt)\n",
    "data"
   ]
  },
  {
   "cell_type": "code",
   "execution_count": 22,
   "metadata": {},
   "outputs": [
    {
     "name": "stdout",
     "output_type": "stream",
     "text": [
      "['Best', 'Ever', 'French', 'Films', 'Jan']\n"
     ]
    }
   ],
   "source": [
    "import re\n",
    "txt = '50 Best Ever French Films - Jan 10 2020'\n",
    "data =re.findall(\"[A-Z][a-z]+\",txt)\n",
    "print(data)"
   ]
  },
  {
   "cell_type": "code",
   "execution_count": 34,
   "metadata": {},
   "outputs": [
    {
     "name": "stdout",
     "output_type": "stream",
     "text": [
      "['50', ' B', 't ', 'r ', 'h ', 's ', '- ', 'n ', '10', ' 2', '02']\n"
     ]
    }
   ],
   "source": [
    "import re\n",
    "txt = '50 Best Ever French Films - Jan 10 2020'\n",
    "data =re.findall(\"[^A-^Z][^a-z]\",txt)\n",
    "print(data)"
   ]
  },
  {
   "cell_type": "code",
   "execution_count": 35,
   "metadata": {},
   "outputs": [
    {
     "data": {
      "text/plain": [
       "['19', '64', 'five']"
      ]
     },
     "execution_count": 35,
     "metadata": {},
     "output_type": "execute_result"
    }
   ],
   "source": [
    "import re\n",
    "\n",
    "txt = \"TuringMachine1940Transistors645 ?fivethree\"\n",
    "data = re.findall(\"19|64|five\",txt)\n",
    "data"
   ]
  },
  {
   "cell_type": "code",
   "execution_count": 2,
   "metadata": {},
   "outputs": [
    {
     "ename": "AttributeError",
     "evalue": "'str' object has no attribute 'extract'",
     "output_type": "error",
     "traceback": [
      "\u001b[0;31m---------------------------------------------------------------------------\u001b[0m",
      "\u001b[0;31mAttributeError\u001b[0m                            Traceback (most recent call last)",
      "Cell \u001b[0;32mIn[2], line 4\u001b[0m\n\u001b[1;32m      2\u001b[0m txt \u001b[39m=\u001b[39m \u001b[39m\"\u001b[39m\u001b[39mTuringMachine1940Transistors645 ?fivethree\u001b[39m\u001b[39m\"\u001b[39m\n\u001b[1;32m      3\u001b[0m data \u001b[39m=\u001b[39m re\u001b[39m.\u001b[39mfindall(\u001b[39m\"\u001b[39m\u001b[39m\\\u001b[39m\u001b[39m?five(\u001b[39m\u001b[39m\\\u001b[39m\u001b[39mS+)\u001b[39m\u001b[39m\"\u001b[39m,txt)\n\u001b[0;32m----> 4\u001b[0m ns \u001b[39m=\u001b[39m txt\u001b[39m.\u001b[39;49mextract(\u001b[39mr\u001b[39m\u001b[39m'\u001b[39m\u001b[39mTuringMachine([\u001b[39m\u001b[39m\\\u001b[39m\u001b[39md]+)\u001b[39m\u001b[39m'\u001b[39m)\n\u001b[1;32m      5\u001b[0m ns\n",
      "\u001b[0;31mAttributeError\u001b[0m: 'str' object has no attribute 'extract'"
     ]
    }
   ],
   "source": [
    "import re\n",
    "txt = \"TuringMachine1940Transistors645 ?fivethree\"\n",
    "data = re.findall(\"\\?five(\\S+)\",txt)\n"
   ]
  },
  {
   "cell_type": "code",
   "execution_count": 38,
   "metadata": {},
   "outputs": [
    {
     "data": {
      "text/plain": [
       "['Observatory?']"
      ]
     },
     "execution_count": 38,
     "metadata": {},
     "output_type": "execute_result"
    }
   ],
   "source": [
    "import re \n",
    "txt  =  'Antartica Space Observatory?'\n",
    "data = re.findall(\"O\\w+\\?\",txt)\n",
    "data"
   ]
  },
  {
   "cell_type": "code",
   "execution_count": 39,
   "metadata": {},
   "outputs": [
    {
     "data": {
      "text/plain": [
       "['Ant']"
      ]
     },
     "execution_count": 39,
     "metadata": {},
     "output_type": "execute_result"
    }
   ],
   "source": [
    "import re\n",
    "txt = 'Antartica Space Obseervatory'\n",
    "data = re.findall(\"^A[^a]+\", txt)\n",
    "datab"
   ]
  },
  {
   "cell_type": "code",
   "execution_count": null,
   "metadata": {},
   "outputs": [],
   "source": []
  },
  {
   "cell_type": "code",
   "execution_count": 41,
   "metadata": {},
   "outputs": [
    {
     "name": "stdout",
     "output_type": "stream",
     "text": [
      "{'camera': 2, 'phone': 1}\n"
     ]
    }
   ],
   "source": [
    "#Python dir\n",
    "\n",
    "nested_lst2 = [{'camera':2,'phone':1},{'car':1,'van':0}]\n",
    "print(nested_lst2[0])\n",
    "\n",
    "# *list, **dict unpacking list and dictionaries"
   ]
  },
  {
   "cell_type": "code",
   "execution_count": 58,
   "metadata": {},
   "outputs": [
    {
     "name": "stdout",
     "output_type": "stream",
     "text": [
      "1\n",
      "2\n",
      "5\n",
      "4\n",
      "5\n"
     ]
    }
   ],
   "source": [
    "ls = [1,2,5,4,5]\n",
    "for i in ls:\n",
    "    print(i)"
   ]
  },
  {
   "cell_type": "code",
   "execution_count": 43,
   "metadata": {},
   "outputs": [
    {
     "name": "stdout",
     "output_type": "stream",
     "text": [
      "[1, 2] ['venus', 'mars'] [True, False]\n"
     ]
    }
   ],
   "source": [
    "nested_ls = [[1,2],['venus','mars'],[True,False]]\n",
    "print(*nested_ls)"
   ]
  },
  {
   "cell_type": "code",
   "execution_count": 46,
   "metadata": {},
   "outputs": [
    {
     "name": "stdout",
     "output_type": "stream",
     "text": [
      "[(1, 'venus', True), (2, 'mars', False)]\n"
     ]
    }
   ],
   "source": [
    "nested_ls = [[1,2],['venus','mars'],[True,False]]\n",
    "lst_t = list(zip(*nested_ls))\n",
    "print(lst_t)"
   ]
  },
  {
   "cell_type": "code",
   "execution_count": 48,
   "metadata": {},
   "outputs": [
    {
     "name": "stdout",
     "output_type": "stream",
     "text": [
      "9\n"
     ]
    }
   ],
   "source": [
    "nested_lst2 = [{\"camera\":2, \"phone\":1}, {\"car\":9, \"van\":0}]\n",
    "print(nested_lst2[1]['car'])"
   ]
  },
  {
   "cell_type": "code",
   "execution_count": 53,
   "metadata": {},
   "outputs": [
    {
     "name": "stdout",
     "output_type": "stream",
     "text": [
      "black\n"
     ]
    },
    {
     "ename": "TypeError",
     "evalue": "list indices must be integers or slices, not str",
     "output_type": "error",
     "traceback": [
      "\u001b[1;31m---------------------------------------------------------------------------\u001b[0m",
      "\u001b[1;31mTypeError\u001b[0m                                 Traceback (most recent call last)",
      "Cell \u001b[1;32mIn[53], line 4\u001b[0m\n\u001b[0;32m      1\u001b[0m nested_lst3 \u001b[39m=\u001b[39m [{\u001b[39m\"\u001b[39m\u001b[39mcamera\u001b[39m\u001b[39m\"\u001b[39m:{\u001b[39m\"\u001b[39m\u001b[39mcolor\u001b[39m\u001b[39m\"\u001b[39m: \u001b[39m\"\u001b[39m\u001b[39mblack\u001b[39m\u001b[39m\"\u001b[39m, \u001b[39m\"\u001b[39m\u001b[39mres\u001b[39m\u001b[39m\"\u001b[39m: \u001b[39m16\u001b[39m}, \u001b[39m\"\u001b[39m\u001b[39mphone\u001b[39m\u001b[39m\"\u001b[39m:\u001b[39m1\u001b[39m}, {\u001b[39m\"\u001b[39m\u001b[39mcar\u001b[39m\u001b[39m\"\u001b[39m:{\u001b[39m\"\u001b[39m\u001b[39mamount\u001b[39m\u001b[39m\"\u001b[39m: \u001b[39m1\u001b[39m, \u001b[39m\"\u001b[39m\u001b[39myear\u001b[39m\u001b[39m\"\u001b[39m: \u001b[39m2017\u001b[39m, \u001b[39m\"\u001b[39m\u001b[39mcolor\u001b[39m\u001b[39m\"\u001b[39m: \u001b[39m\"\u001b[39m\u001b[39mred\u001b[39m\u001b[39m\"\u001b[39m}, \u001b[39m\"\u001b[39m\u001b[39mvan\u001b[39m\u001b[39m\"\u001b[39m:\u001b[39m0\u001b[39m}]\n\u001b[0;32m      3\u001b[0m \u001b[39mprint\u001b[39m(nested_lst3[\u001b[39m0\u001b[39m][\u001b[39m'\u001b[39m\u001b[39mcamera\u001b[39m\u001b[39m'\u001b[39m][\u001b[39m'\u001b[39m\u001b[39mcolor\u001b[39m\u001b[39m'\u001b[39m])\n\u001b[1;32m----> 4\u001b[0m \u001b[39mprint\u001b[39m(nested_lst3[\u001b[39m'\u001b[39;49m\u001b[39mcamera\u001b[39;49m\u001b[39m'\u001b[39;49m])\n",
      "\u001b[1;31mTypeError\u001b[0m: list indices must be integers or slices, not str"
     ]
    }
   ],
   "source": [
    "nested_lst3 = [{\"camera\":{\"color\": \"black\", \"res\": 16}, \"phone\":1}, {\"car\":{\"amount\": 1, \"year\": 2017, \"color\": \"red\"}, \"van\":0}]\n",
    "\n",
    "print(nested_lst3[0]['camera']['color'])"
   ]
  },
  {
   "cell_type": "code",
   "execution_count": 55,
   "metadata": {},
   "outputs": [
    {
     "name": "stdout",
     "output_type": "stream",
     "text": [
      "{'car': {'amount': 1, 'year': 2017, 'color': 'red'}, 'van': 0}\n",
      "2017\n"
     ]
    }
   ],
   "source": [
    "nested_lst4 = {\"items\": {\"camera\":{\"color\": \"black\", \"res\": 16}, \"phone\":1}, \"assets\": {\"car\":{\"amount\": 1, \"year\": 2017, \"color\": \"red\"}, \"van\":0}}\n",
    "print(nested_lst4['assets'])\n",
    "print(nested_lst4['assets']['car']['year'])"
   ]
  },
  {
   "cell_type": "code",
   "execution_count": null,
   "metadata": {},
   "outputs": [],
   "source": [
    "#Three level Deep nested Dictionary\n",
    "\n",
    "names = [\"Sofia Goggia\", \"Mikaela Shiffrin\", \"Wendy Holdener\", \"Lindsey Vonn\", \"Frida Hansdotter\", \"Michelle Gisin\", \"Ragnhild Mo\n"
   ]
  },
  {
   "cell_type": "code",
   "execution_count": 56,
   "metadata": {},
   "outputs": [
    {
     "ename": "NameError",
     "evalue": "name 'requests' is not defined",
     "output_type": "error",
     "traceback": [
      "\u001b[1;31m---------------------------------------------------------------------------\u001b[0m",
      "\u001b[1;31mNameError\u001b[0m                                 Traceback (most recent call last)",
      "Cell \u001b[1;32mIn[56], line 5\u001b[0m\n\u001b[0;32m      1\u001b[0m \u001b[39m#Nested data from json format\u001b[39;00m\n\u001b[0;32m      3\u001b[0m \u001b[39mimport\u001b[39;00m \u001b[39mjson\u001b[39;00m\n\u001b[1;32m----> 5\u001b[0m req \u001b[39m=\u001b[39m requests\u001b[39m.\u001b[39mget(\u001b[39m'\u001b[39m\u001b[39mhttp://api.zippopotam.us/us/vt/rutland\u001b[39m\u001b[39m'\u001b[39m)\n\u001b[0;32m      6\u001b[0m t \u001b[39m=\u001b[39m req\u001b[39m.\u001b[39mjson()\n\u001b[0;32m      7\u001b[0m data \u001b[39m=\u001b[39m json\u001b[39m.\u001b[39mdumps(t,indent\u001b[39m=\u001b[39m\u001b[39m3\u001b[39m)\n",
      "\u001b[1;31mNameError\u001b[0m: name 'requests' is not defined"
     ]
    }
   ],
   "source": [
    "#Nested data from json format\n",
    "\n",
    "import json\n",
    "\n",
    "req = requests.get('http://api.zippopotam.us/us/vt/rutland')\n",
    "t = req.json()\n",
    "data = json.dumps(t,indent=3)\n",
    "print(data)"
   ]
  },
  {
   "cell_type": "markdown",
   "metadata": {},
   "source": []
  },
  {
   "cell_type": "code",
   "execution_count": null,
   "metadata": {},
   "outputs": [],
   "source": []
  },
  {
   "cell_type": "code",
   "execution_count": 1,
   "metadata": {},
   "outputs": [
    {
     "name": "stdout",
     "output_type": "stream",
     "text": [
      "[1, 5, 3, [...]]\n"
     ]
    }
   ],
   "source": [
    "lis1 = [1,5,3]\n",
    "lis2 = lis1\n",
    "lis1.append(lis2)\n",
    "print(lis1)"
   ]
  }
 ],
 "metadata": {
  "kernelspec": {
   "display_name": "Python 3",
   "language": "python",
   "name": "python3"
  },
  "language_info": {
   "codemirror_mode": {
    "name": "ipython",
    "version": 3
   },
   "file_extension": ".py",
   "mimetype": "text/x-python",
   "name": "python",
   "nbconvert_exporter": "python",
   "pygments_lexer": "ipython3",
   "version": "3.8.10"
  },
  "orig_nbformat": 4,
  "vscode": {
   "interpreter": {
    "hash": "3196968d684371006099b3d55edeef8ed90365227a30deaef86e5d4aa8519be0"
   }
  }
 },
 "nbformat": 4,
 "nbformat_minor": 2
}
