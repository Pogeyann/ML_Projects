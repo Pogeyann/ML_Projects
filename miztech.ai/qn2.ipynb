{
 "cells": [
  {
   "cell_type": "code",
   "execution_count": 39,
   "metadata": {},
   "outputs": [
    {
     "data": {
      "text/plain": [
       "['i', 's']"
      ]
     },
     "execution_count": 39,
     "metadata": {},
     "output_type": "execute_result"
    }
   ],
   "source": [
    "def mcomcharacter(iword):\n",
    "    iword = input('enter a word')\n",
    "    iword = iword.lower().replace(' ','')\n",
    "    d={}\n",
    "    mcom_count = 0\n",
    "    for i in iword:\n",
    "        if i not in d:\n",
    "            d[i] = 1\n",
    "        else:\n",
    "            d[i] += 1\n",
    "        if d[i] > mcom_count:\n",
    "            mcom_count = d[i]\n",
    "    return [i for i,count in d.items() if count == mcom_count]\n",
    "\n",
    "mcomcharacter(iword)\n",
    "\n",
    "\n"
   ]
  },
  {
   "cell_type": "code",
   "execution_count": 1,
   "metadata": {},
   "outputs": [
    {
     "name": "stdout",
     "output_type": "stream",
     "text": [
      "dict_items([('a', 2), ('b', 3), ('c', 4), ('d', 2)])\n"
     ]
    }
   ],
   "source": [
    "d = {'a':2,'b':3,'c':4,'d':2}\n",
    "s = d.items()\n",
    "print(s)"
   ]
  },
  {
   "cell_type": "code",
   "execution_count": 3,
   "metadata": {},
   "outputs": [
    {
     "name": "stdout",
     "output_type": "stream",
     "text": [
      "20\n"
     ]
    }
   ],
   "source": [
    "n1 = int(input('enter a number'))\n",
    "n2 = int(input('enter a number2'))\n",
    "count = n1\n",
    "product = 0\n",
    "while count > 0:\n",
    "    count = count - 1\n",
    "    product = product + n2\n",
    "print(product)"
   ]
  }
 ],
 "metadata": {
  "kernelspec": {
   "display_name": "Python 3",
   "language": "python",
   "name": "python3"
  },
  "language_info": {
   "codemirror_mode": {
    "name": "ipython",
    "version": 3
   },
   "file_extension": ".py",
   "mimetype": "text/x-python",
   "name": "python",
   "nbconvert_exporter": "python",
   "pygments_lexer": "ipython3",
   "version": "3.10.6 (tags/v3.10.6:9c7b4bd, Aug  1 2022, 21:53:49) [MSC v.1932 64 bit (AMD64)]"
  },
  "orig_nbformat": 4,
  "vscode": {
   "interpreter": {
    "hash": "3196968d684371006099b3d55edeef8ed90365227a30deaef86e5d4aa8519be0"
   }
  }
 },
 "nbformat": 4,
 "nbformat_minor": 2
}
