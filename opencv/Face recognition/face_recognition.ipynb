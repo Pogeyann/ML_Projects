{
 "cells": [
  {
   "cell_type": "code",
   "execution_count": 1,
   "metadata": {},
   "outputs": [],
   "source": [
    "import cv2\n",
    "import numpy as np\n",
    "import os\n"
   ]
  },
  {
   "cell_type": "code",
   "execution_count": 2,
   "metadata": {},
   "outputs": [],
   "source": [
    "def name_map(x):\n",
    "    if x== 'sachin':\n",
    "        return 0\n",
    "    if x == 'obama':\n",
    "        return 1\n",
    "    if x == 'messi':\n",
    "        return 2\n"
   ]
  },
  {
   "cell_type": "code",
   "execution_count": 3,
   "metadata": {},
   "outputs": [],
   "source": [
    "def get_name(x):\n",
    "    if x==0:\n",
    "        return 'sachin'\n",
    "    if x==1:\n",
    "        return 'obama'\n",
    "    if x==2:\n",
    "        return 'messi'"
   ]
  },
  {
   "attachments": {},
   "cell_type": "markdown",
   "metadata": {},
   "source": [
    "15/01/23"
   ]
  },
  {
   "cell_type": "code",
   "execution_count": 4,
   "metadata": {},
   "outputs": [],
   "source": [
    "def detect_face(img):\n",
    "    gray = cv2.cvtColor(img,cv2.COLOR_BGR2GRAY)\n",
    "\n",
    "    face_cascade = cv2.CascadeClassifier('/home/mush/Computer_vision/opencv/Face recognition/haarcascade_frontalface_default.xml')\n",
    "\n",
    "    faces = face_cascade.detectMultiScale(gray,scaleFactor=1.1,minNeighbors=4)\n",
    "\n",
    "    if(len(faces)==0):\n",
    "        return None,None\n",
    "    x,y,w,h = faces[0]\n",
    "\n",
    "    return gray[y:y+w,x:x+h],faces[0]"
   ]
  },
  {
   "attachments": {},
   "cell_type": "markdown",
   "metadata": {},
   "source": [
    "17/01/23"
   ]
  },
  {
   "cell_type": "code",
   "execution_count": 5,
   "metadata": {},
   "outputs": [],
   "source": [
    "#This function for data training\n",
    "def prepare_training_data(data_folder_path):\n",
    "\n",
    "    dirs = os.listdir(data_folder_path)\n",
    "\n",
    "    labels = []\n",
    "\n",
    "    faces =[]\n",
    "\n",
    "    for dir_name in dirs:\n",
    "        label = dir_name\n",
    "\n",
    "        subject_dir_path = data_folder_path + '/' + dir_name\n",
    "\n",
    "        subject_images_names = os.listdir(subject_dir_path)\n",
    "#got all images names\n",
    "        for image_name in subject_images_names:\n",
    "\n",
    "            image_path = subject_dir_path + '/' + image_name\n",
    "\n",
    "            #image read\n",
    "            image = cv2.imread(image_path)\n",
    "            \n",
    "            cv2.imshow('Training image......',image)\n",
    "            cv2.waitKey(1000)\n",
    "\n",
    "            face, rect = detect_face(image)\n",
    "\n",
    "            if face is not None:\n",
    "                faces.append(face)\n",
    "                labels.append(name_map(label))\n",
    "\n",
    "    cv2.destroyAllWindows()\n",
    "    cv2.waitKey(1)\n",
    "\n",
    "    return faces, labels"
   ]
  },
  {
   "attachments": {},
   "cell_type": "markdown",
   "metadata": {},
   "source": [
    "19/01/2023\n",
    "--"
   ]
  },
  {
   "cell_type": "code",
   "execution_count": 6,
   "metadata": {},
   "outputs": [
    {
     "name": "stdout",
     "output_type": "stream",
     "text": [
      "preparing data....\n",
      "data prepared\n"
     ]
    }
   ],
   "source": [
    "print('preparing data....')\n",
    "face, labels = prepare_training_data('/home/mush/Computer_vision/opencv/Face recognition/DB')\n",
    "print('data prepared')"
   ]
  },
  {
   "cell_type": "code",
   "execution_count": 7,
   "metadata": {},
   "outputs": [
    {
     "name": "stdout",
     "output_type": "stream",
     "text": [
      "total faces : 29\n",
      "total labels : 29\n"
     ]
    }
   ],
   "source": [
    "print('total faces :',len(face))\n",
    "print('total labels :', len(labels))"
   ]
  },
  {
   "attachments": {},
   "cell_type": "markdown",
   "metadata": {},
   "source": [
    "18/01/23"
   ]
  },
  {
   "cell_type": "code",
   "execution_count": 8,
   "metadata": {},
   "outputs": [],
   "source": [
    "face_recognizer = cv2.face.LBPHFaceRecognizer_create()\n",
    "\n",
    "#For face recognition"
   ]
  },
  {
   "cell_type": "code",
   "execution_count": null,
   "metadata": {},
   "outputs": [],
   "source": [
    "labels"
   ]
  },
  {
   "cell_type": "code",
   "execution_count": 15,
   "metadata": {},
   "outputs": [],
   "source": [
    "face_recognizer.train(face,np.array(labels))"
   ]
  },
  {
   "cell_type": "code",
   "execution_count": 9,
   "metadata": {},
   "outputs": [
    {
     "data": {
      "text/plain": [
       "['messi', 'sachin', 'obama']"
      ]
     },
     "execution_count": 9,
     "metadata": {},
     "output_type": "execute_result"
    }
   ],
   "source": [
    "dirs = os.listdir('/home/mush/Computer_vision/opencv/Face recognition/DB')\n",
    "dirs"
   ]
  },
  {
   "cell_type": "code",
   "execution_count": 16,
   "metadata": {},
   "outputs": [],
   "source": [
    "# to name the person under the face recognized picture\n",
    "\n",
    "def draw_rectangle(img, rect):\n",
    "    (x,y,w,h)=rect\n",
    "    cv2.rectangle(img,(x,y),(x+w,y+h),(0,255,0),2)\n",
    "    "
   ]
  },
  {
   "cell_type": "code",
   "execution_count": 17,
   "metadata": {},
   "outputs": [],
   "source": [
    "# Draw text\n",
    "\n",
    "def draw_text(img,text,x,y):\n",
    "    cv2.putText(img,text,(x,y),cv2.FONT_HERSHEY_PLAIN,2,(0,0,255),2)"
   ]
  },
  {
   "cell_type": "code",
   "execution_count": 18,
   "metadata": {},
   "outputs": [],
   "source": [
    "#Prediction\n",
    "\n",
    "def predict(test_img):\n",
    "\n",
    "    #To avoid bounding boxes, select a copy of the image\n",
    "\n",
    "    img = test_img.copy()\n",
    "    \n",
    "    face, rect = detect_face(img)\n",
    "\n",
    "    try:\n",
    "        label = face_recognizer.predict(face)\n",
    "\n",
    "        label_text = get_name(label[0])\n",
    "\n",
    "        draw_rectangle(img,rect)\n",
    "        draw_text(img,label_text,rect[0],rect[1])\n",
    "\n",
    "    except:\n",
    "        pass\n",
    "\n",
    "    return img"
   ]
  },
  {
   "cell_type": "code",
   "execution_count": 19,
   "metadata": {},
   "outputs": [],
   "source": [
    "test = cv2.imread('/home/mush/Computer_vision/opencv/Face recognition/MESSI.jpg')\n",
    "predicted =predict(test)"
   ]
  },
  {
   "cell_type": "code",
   "execution_count": 20,
   "metadata": {},
   "outputs": [],
   "source": [
    "cv2.imshow('predicted image',predicted)\n",
    "cv2.waitKey()\n",
    "cv2.destroyAllWindows()"
   ]
  },
  {
   "cell_type": "code",
   "execution_count": 10,
   "metadata": {},
   "outputs": [
    {
     "name": "stdout",
     "output_type": "stream",
     "text": [
      "/home/mush/Computer_vision/opencv/Face recognition/DB/messi/05.jpg\n",
      "/home/mush/Computer_vision/opencv/Face recognition/DB/messi/01.jpg\n",
      "/home/mush/Computer_vision/opencv/Face recognition/DB/messi/08.jpg\n",
      "/home/mush/Computer_vision/opencv/Face recognition/DB/messi/04.jpg\n",
      "/home/mush/Computer_vision/opencv/Face recognition/DB/messi/09.jpg\n",
      "/home/mush/Computer_vision/opencv/Face recognition/DB/messi/10.jpg\n",
      "/home/mush/Computer_vision/opencv/Face recognition/DB/messi/03.jpg\n",
      "/home/mush/Computer_vision/opencv/Face recognition/DB/messi/02.jpg\n",
      "/home/mush/Computer_vision/opencv/Face recognition/DB/messi/06.jpg\n",
      "/home/mush/Computer_vision/opencv/Face recognition/DB/messi/07.jpg\n",
      "/home/mush/Computer_vision/opencv/Face recognition/DB/sachin/05.jpg\n",
      "/home/mush/Computer_vision/opencv/Face recognition/DB/sachin/01.jpg\n",
      "/home/mush/Computer_vision/opencv/Face recognition/DB/sachin/08.jpg\n",
      "/home/mush/Computer_vision/opencv/Face recognition/DB/sachin/04.jpg\n",
      "/home/mush/Computer_vision/opencv/Face recognition/DB/sachin/09.jpg\n",
      "/home/mush/Computer_vision/opencv/Face recognition/DB/sachin/10.jpg\n",
      "/home/mush/Computer_vision/opencv/Face recognition/DB/sachin/03.jpg\n",
      "/home/mush/Computer_vision/opencv/Face recognition/DB/sachin/02.jpg\n",
      "/home/mush/Computer_vision/opencv/Face recognition/DB/sachin/06.jpg\n",
      "/home/mush/Computer_vision/opencv/Face recognition/DB/sachin/07.jpg\n",
      "/home/mush/Computer_vision/opencv/Face recognition/DB/obama/05.jpg\n",
      "/home/mush/Computer_vision/opencv/Face recognition/DB/obama/01.jpg\n",
      "/home/mush/Computer_vision/opencv/Face recognition/DB/obama/08.jpg\n",
      "/home/mush/Computer_vision/opencv/Face recognition/DB/obama/04.jpg\n",
      "/home/mush/Computer_vision/opencv/Face recognition/DB/obama/09.jpg\n",
      "/home/mush/Computer_vision/opencv/Face recognition/DB/obama/10.jpg\n",
      "/home/mush/Computer_vision/opencv/Face recognition/DB/obama/03.jpg\n",
      "/home/mush/Computer_vision/opencv/Face recognition/DB/obama/02.jpg\n",
      "/home/mush/Computer_vision/opencv/Face recognition/DB/obama/06.jpg\n",
      "/home/mush/Computer_vision/opencv/Face recognition/DB/obama/07.jpg\n"
     ]
    }
   ],
   "source": [
    "for dir_name in dirs:\n",
    "    label = dir_name\n",
    "    subject_dir_path ='/home/mush/Computer_vision/opencv/Face recognition/DB' + '/' + dir_name\n",
    "\n",
    "    subject_images_names = os.listdir(subject_dir_path)\n",
    "    \n",
    "    for image_name in subject_images_names:\n",
    "        image_path = subject_dir_path + '/' + image_name\n",
    "        print(image_path)\n",
    "    # print(subject_dir_path)\n",
    "    # print(subject_images_names)\n",
    "    \n",
    "    "
   ]
  }
 ],
 "metadata": {
  "kernelspec": {
   "display_name": "Python 3",
   "language": "python",
   "name": "python3"
  },
  "language_info": {
   "codemirror_mode": {
    "name": "ipython",
    "version": 3
   },
   "file_extension": ".py",
   "mimetype": "text/x-python",
   "name": "python",
   "nbconvert_exporter": "python",
   "pygments_lexer": "ipython3",
   "version": "3.8.10 (default, Nov 14 2022, 12:59:47) \n[GCC 9.4.0]"
  },
  "orig_nbformat": 4,
  "vscode": {
   "interpreter": {
    "hash": "31f2aee4e71d21fbe5cf8b01ff0e069b9275f58929596ceb00d14d90e3e16cd6"
   }
  }
 },
 "nbformat": 4,
 "nbformat_minor": 2
}
